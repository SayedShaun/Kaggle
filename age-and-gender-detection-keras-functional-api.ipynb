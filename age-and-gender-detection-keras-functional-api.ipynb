{
 "cells": [
  {
   "cell_type": "code",
   "execution_count": 1,
   "id": "4d6a43e5",
   "metadata": {
    "execution": {
     "iopub.execute_input": "2023-08-23T15:45:17.869204Z",
     "iopub.status.busy": "2023-08-23T15:45:17.868721Z",
     "iopub.status.idle": "2023-08-23T15:45:17.881556Z",
     "shell.execute_reply": "2023-08-23T15:45:17.880620Z"
    },
    "papermill": {
     "duration": 0.023464,
     "end_time": "2023-08-23T15:45:17.883758",
     "exception": false,
     "start_time": "2023-08-23T15:45:17.860294",
     "status": "completed"
    },
    "tags": []
   },
   "outputs": [],
   "source": [
    "path = \"/kaggle/input/utkface-new/UTKFace\""
   ]
  },
  {
   "cell_type": "code",
   "execution_count": 2,
   "id": "033b8fbc",
   "metadata": {
    "execution": {
     "iopub.execute_input": "2023-08-23T15:45:17.897748Z",
     "iopub.status.busy": "2023-08-23T15:45:17.896811Z",
     "iopub.status.idle": "2023-08-23T15:45:18.347581Z",
     "shell.execute_reply": "2023-08-23T15:45:18.346591Z"
    },
    "papermill": {
     "duration": 0.460382,
     "end_time": "2023-08-23T15:45:18.350092",
     "exception": false,
     "start_time": "2023-08-23T15:45:17.889710",
     "status": "completed"
    },
    "tags": []
   },
   "outputs": [
    {
     "data": {
      "text/plain": [
       "23708"
      ]
     },
     "execution_count": 2,
     "metadata": {},
     "output_type": "execute_result"
    }
   ],
   "source": [
    "import os\n",
    "files = os.listdir(path)\n",
    "len(files)"
   ]
  },
  {
   "cell_type": "code",
   "execution_count": 3,
   "id": "58968b63",
   "metadata": {
    "execution": {
     "iopub.execute_input": "2023-08-23T15:45:18.364350Z",
     "iopub.status.busy": "2023-08-23T15:45:18.362507Z",
     "iopub.status.idle": "2023-08-23T15:45:18.399365Z",
     "shell.execute_reply": "2023-08-23T15:45:18.398342Z"
    },
    "papermill": {
     "duration": 0.045987,
     "end_time": "2023-08-23T15:45:18.401870",
     "exception": false,
     "start_time": "2023-08-23T15:45:18.355883",
     "status": "completed"
    },
    "tags": []
   },
   "outputs": [],
   "source": [
    "age, gender, img_path = [], [], []\n",
    "\n",
    "for i in files:\n",
    "    parts = i.split('_')\n",
    "    age.append(int(parts[0]))\n",
    "    gender.append(int(parts[1]))\n",
    "    img_path.append(i)\n",
    "    "
   ]
  },
  {
   "cell_type": "code",
   "execution_count": 4,
   "id": "7429e8f7",
   "metadata": {
    "execution": {
     "iopub.execute_input": "2023-08-23T15:45:18.415905Z",
     "iopub.status.busy": "2023-08-23T15:45:18.415157Z",
     "iopub.status.idle": "2023-08-23T15:45:18.462254Z",
     "shell.execute_reply": "2023-08-23T15:45:18.461093Z"
    },
    "papermill": {
     "duration": 0.056609,
     "end_time": "2023-08-23T15:45:18.464580",
     "exception": false,
     "start_time": "2023-08-23T15:45:18.407971",
     "status": "completed"
    },
    "tags": []
   },
   "outputs": [
    {
     "data": {
      "text/html": [
       "<div>\n",
       "<style scoped>\n",
       "    .dataframe tbody tr th:only-of-type {\n",
       "        vertical-align: middle;\n",
       "    }\n",
       "\n",
       "    .dataframe tbody tr th {\n",
       "        vertical-align: top;\n",
       "    }\n",
       "\n",
       "    .dataframe thead th {\n",
       "        text-align: right;\n",
       "    }\n",
       "</style>\n",
       "<table border=\"1\" class=\"dataframe\">\n",
       "  <thead>\n",
       "    <tr style=\"text-align: right;\">\n",
       "      <th></th>\n",
       "      <th>age</th>\n",
       "      <th>gender</th>\n",
       "      <th>img_name</th>\n",
       "    </tr>\n",
       "  </thead>\n",
       "  <tbody>\n",
       "    <tr>\n",
       "      <th>23703</th>\n",
       "      <td>41</td>\n",
       "      <td>0</td>\n",
       "      <td>41_0_0_20170109012220690.jpg.chip.jpg</td>\n",
       "    </tr>\n",
       "    <tr>\n",
       "      <th>23704</th>\n",
       "      <td>42</td>\n",
       "      <td>0</td>\n",
       "      <td>42_0_0_20170117185738076.jpg.chip.jpg</td>\n",
       "    </tr>\n",
       "    <tr>\n",
       "      <th>23705</th>\n",
       "      <td>2</td>\n",
       "      <td>0</td>\n",
       "      <td>2_0_2_20161219221701671.jpg.chip.jpg</td>\n",
       "    </tr>\n",
       "    <tr>\n",
       "      <th>23706</th>\n",
       "      <td>65</td>\n",
       "      <td>1</td>\n",
       "      <td>65_1_0_20170110182002744.jpg.chip.jpg</td>\n",
       "    </tr>\n",
       "    <tr>\n",
       "      <th>23707</th>\n",
       "      <td>66</td>\n",
       "      <td>0</td>\n",
       "      <td>66_0_1_20170117195116702.jpg.chip.jpg</td>\n",
       "    </tr>\n",
       "  </tbody>\n",
       "</table>\n",
       "</div>"
      ],
      "text/plain": [
       "       age  gender                               img_name\n",
       "23703   41       0  41_0_0_20170109012220690.jpg.chip.jpg\n",
       "23704   42       0  42_0_0_20170117185738076.jpg.chip.jpg\n",
       "23705    2       0   2_0_2_20161219221701671.jpg.chip.jpg\n",
       "23706   65       1  65_1_0_20170110182002744.jpg.chip.jpg\n",
       "23707   66       0  66_0_1_20170117195116702.jpg.chip.jpg"
      ]
     },
     "execution_count": 4,
     "metadata": {},
     "output_type": "execute_result"
    }
   ],
   "source": [
    "import pandas as pd\n",
    "\n",
    "df = pd.DataFrame({\"age\":age, \"gender\":gender, \"img_name\":img_path})\n",
    "df.tail()"
   ]
  },
  {
   "cell_type": "code",
   "execution_count": 5,
   "id": "b6e14a05",
   "metadata": {
    "execution": {
     "iopub.execute_input": "2023-08-23T15:45:18.479190Z",
     "iopub.status.busy": "2023-08-23T15:45:18.478258Z",
     "iopub.status.idle": "2023-08-23T15:45:18.502252Z",
     "shell.execute_reply": "2023-08-23T15:45:18.500978Z"
    },
    "papermill": {
     "duration": 0.03424,
     "end_time": "2023-08-23T15:45:18.505048",
     "exception": false,
     "start_time": "2023-08-23T15:45:18.470808",
     "status": "completed"
    },
    "tags": []
   },
   "outputs": [
    {
     "data": {
      "text/html": [
       "<div>\n",
       "<style scoped>\n",
       "    .dataframe tbody tr th:only-of-type {\n",
       "        vertical-align: middle;\n",
       "    }\n",
       "\n",
       "    .dataframe tbody tr th {\n",
       "        vertical-align: top;\n",
       "    }\n",
       "\n",
       "    .dataframe thead th {\n",
       "        text-align: right;\n",
       "    }\n",
       "</style>\n",
       "<table border=\"1\" class=\"dataframe\">\n",
       "  <thead>\n",
       "    <tr style=\"text-align: right;\">\n",
       "      <th></th>\n",
       "      <th>age</th>\n",
       "      <th>gender</th>\n",
       "    </tr>\n",
       "  </thead>\n",
       "  <tbody>\n",
       "    <tr>\n",
       "      <th>count</th>\n",
       "      <td>23708.000000</td>\n",
       "      <td>23708.000000</td>\n",
       "    </tr>\n",
       "    <tr>\n",
       "      <th>mean</th>\n",
       "      <td>33.303484</td>\n",
       "      <td>0.477349</td>\n",
       "    </tr>\n",
       "    <tr>\n",
       "      <th>std</th>\n",
       "      <td>19.886112</td>\n",
       "      <td>0.499497</td>\n",
       "    </tr>\n",
       "    <tr>\n",
       "      <th>min</th>\n",
       "      <td>1.000000</td>\n",
       "      <td>0.000000</td>\n",
       "    </tr>\n",
       "    <tr>\n",
       "      <th>25%</th>\n",
       "      <td>23.000000</td>\n",
       "      <td>0.000000</td>\n",
       "    </tr>\n",
       "    <tr>\n",
       "      <th>50%</th>\n",
       "      <td>29.000000</td>\n",
       "      <td>0.000000</td>\n",
       "    </tr>\n",
       "    <tr>\n",
       "      <th>75%</th>\n",
       "      <td>45.000000</td>\n",
       "      <td>1.000000</td>\n",
       "    </tr>\n",
       "    <tr>\n",
       "      <th>max</th>\n",
       "      <td>116.000000</td>\n",
       "      <td>1.000000</td>\n",
       "    </tr>\n",
       "  </tbody>\n",
       "</table>\n",
       "</div>"
      ],
      "text/plain": [
       "                age        gender\n",
       "count  23708.000000  23708.000000\n",
       "mean      33.303484      0.477349\n",
       "std       19.886112      0.499497\n",
       "min        1.000000      0.000000\n",
       "25%       23.000000      0.000000\n",
       "50%       29.000000      0.000000\n",
       "75%       45.000000      1.000000\n",
       "max      116.000000      1.000000"
      ]
     },
     "execution_count": 5,
     "metadata": {},
     "output_type": "execute_result"
    }
   ],
   "source": [
    "df.describe()"
   ]
  },
  {
   "cell_type": "code",
   "execution_count": 6,
   "id": "98c8179b",
   "metadata": {
    "execution": {
     "iopub.execute_input": "2023-08-23T15:45:18.520142Z",
     "iopub.status.busy": "2023-08-23T15:45:18.519858Z",
     "iopub.status.idle": "2023-08-23T15:45:18.528083Z",
     "shell.execute_reply": "2023-08-23T15:45:18.526998Z"
    },
    "papermill": {
     "duration": 0.018462,
     "end_time": "2023-08-23T15:45:18.530401",
     "exception": false,
     "start_time": "2023-08-23T15:45:18.511939",
     "status": "completed"
    },
    "tags": []
   },
   "outputs": [
    {
     "data": {
      "text/plain": [
       "(11317, 12391)"
      ]
     },
     "execution_count": 6,
     "metadata": {},
     "output_type": "execute_result"
    }
   ],
   "source": [
    "female = (df[\"gender\"]==1).sum()\n",
    "male = (df[\"gender\"]==0).sum()\n",
    "\n",
    "female, male"
   ]
  },
  {
   "cell_type": "code",
   "execution_count": 7,
   "id": "74d17848",
   "metadata": {
    "execution": {
     "iopub.execute_input": "2023-08-23T15:45:18.544129Z",
     "iopub.status.busy": "2023-08-23T15:45:18.543267Z",
     "iopub.status.idle": "2023-08-23T15:45:20.014373Z",
     "shell.execute_reply": "2023-08-23T15:45:20.013428Z"
    },
    "papermill": {
     "duration": 1.480027,
     "end_time": "2023-08-23T15:45:20.016388",
     "exception": false,
     "start_time": "2023-08-23T15:45:18.536361",
     "status": "completed"
    },
    "tags": []
   },
   "outputs": [
    {
     "name": "stderr",
     "output_type": "stream",
     "text": [
      "/opt/conda/lib/python3.10/site-packages/scipy/__init__.py:146: UserWarning: A NumPy version >=1.16.5 and <1.23.0 is required for this version of SciPy (detected version 1.23.5\n",
      "  warnings.warn(f\"A NumPy version >={np_minversion} and <{np_maxversion}\"\n"
     ]
    },
    {
     "data": {
      "text/plain": [
       "<Axes: >"
      ]
     },
     "execution_count": 7,
     "metadata": {},
     "output_type": "execute_result"
    },
    {
     "data": {
      "image/png": "[encoded data removed]",
      "text/plain": [
       "<Figure size 600x300 with 1 Axes>"
      ]
     },
     "metadata": {},
     "output_type": "display_data"
    }
   ],
   "source": [
    "from matplotlib import pyplot as plt\n",
    "import seaborn as sns\n",
    "\n",
    "plt.figure(figsize=[6, 3])\n",
    "sns.boxplot(df)"
   ]
  },
  {
   "cell_type": "code",
   "execution_count": 8,
   "id": "c508817d",
   "metadata": {
    "execution": {
     "iopub.execute_input": "2023-08-23T15:45:20.030949Z",
     "iopub.status.busy": "2023-08-23T15:45:20.030654Z",
     "iopub.status.idle": "2023-08-23T15:45:20.452433Z",
     "shell.execute_reply": "2023-08-23T15:45:20.451485Z"
    },
    "papermill": {
     "duration": 0.431497,
     "end_time": "2023-08-23T15:45:20.454636",
     "exception": false,
     "start_time": "2023-08-23T15:45:20.023139",
     "status": "completed"
    },
    "tags": []
   },
   "outputs": [
    {
     "data": {
      "text/plain": [
       "<Axes: xlabel='age', ylabel='Count'>"
      ]
     },
     "execution_count": 8,
     "metadata": {},
     "output_type": "execute_result"
    },
    {
     "data": {
      "image/png": "[encoded data removed]",
      "text/plain": [
       "<Figure size 800x300 with 1 Axes>"
      ]
     },
     "metadata": {},
     "output_type": "display_data"
    }
   ],
   "source": [
    "plt.figure(figsize=[8, 3])\n",
    "sns.histplot(df[\"age\"])"
   ]
  },
  {
   "cell_type": "code",
   "execution_count": 9,
   "id": "3d1a63bb",
   "metadata": {
    "execution": {
     "iopub.execute_input": "2023-08-23T15:45:20.469703Z",
     "iopub.status.busy": "2023-08-23T15:45:20.469334Z",
     "iopub.status.idle": "2023-08-23T15:45:20.691860Z",
     "shell.execute_reply": "2023-08-23T15:45:20.690863Z"
    },
    "papermill": {
     "duration": 0.232772,
     "end_time": "2023-08-23T15:45:20.694253",
     "exception": false,
     "start_time": "2023-08-23T15:45:20.461481",
     "status": "completed"
    },
    "tags": []
   },
   "outputs": [],
   "source": [
    "from sklearn.model_selection import train_test_split\n",
    "\n",
    "train, test = train_test_split(df, test_size = 0.2, random_state=32)"
   ]
  },
  {
   "cell_type": "code",
   "execution_count": 10,
   "id": "77e4a244",
   "metadata": {
    "execution": {
     "iopub.execute_input": "2023-08-23T15:45:20.709882Z",
     "iopub.status.busy": "2023-08-23T15:45:20.709531Z",
     "iopub.status.idle": "2023-08-23T15:45:29.159354Z",
     "shell.execute_reply": "2023-08-23T15:45:29.158250Z"
    },
    "papermill": {
     "duration": 8.460209,
     "end_time": "2023-08-23T15:45:29.161906",
     "exception": false,
     "start_time": "2023-08-23T15:45:20.701697",
     "status": "completed"
    },
    "tags": []
   },
   "outputs": [
    {
     "name": "stderr",
     "output_type": "stream",
     "text": [
      "/opt/conda/lib/python3.10/site-packages/tensorflow_io/python/ops/__init__.py:98: UserWarning: unable to load libtensorflow_io_plugins.so: unable to open file: libtensorflow_io_plugins.so, from paths: ['/opt/conda/lib/python3.10/site-packages/tensorflow_io/python/ops/libtensorflow_io_plugins.so']\n",
      "caused by: ['/opt/conda/lib/python3.10/site-packages/tensorflow_io/python/ops/libtensorflow_io_plugins.so: undefined symbol: _ZN3tsl6StatusC1EN10tensorflow5error4CodeESt17basic_string_viewIcSt11char_traitsIcEENS_14SourceLocationE']\n",
      "  warnings.warn(f\"unable to load libtensorflow_io_plugins.so: {e}\")\n",
      "/opt/conda/lib/python3.10/site-packages/tensorflow_io/python/ops/__init__.py:104: UserWarning: file system plugins are not loaded: unable to open file: libtensorflow_io.so, from paths: ['/opt/conda/lib/python3.10/site-packages/tensorflow_io/python/ops/libtensorflow_io.so']\n",
      "caused by: ['/opt/conda/lib/python3.10/site-packages/tensorflow_io/python/ops/libtensorflow_io.so: undefined symbol: _ZTVN10tensorflow13GcsFileSystemE']\n",
      "  warnings.warn(f\"file system plugins are not loaded: {e}\")\n"
     ]
    }
   ],
   "source": [
    "import tensorflow\n",
    "from tensorflow import keras\n",
    "from tensorflow.keras.preprocessing.image import ImageDataGenerator"
   ]
  },
  {
   "cell_type": "code",
   "execution_count": 11,
   "id": "36be7345",
   "metadata": {
    "execution": {
     "iopub.execute_input": "2023-08-23T15:45:29.177581Z",
     "iopub.status.busy": "2023-08-23T15:45:29.176906Z",
     "iopub.status.idle": "2023-08-23T15:46:20.518545Z",
     "shell.execute_reply": "2023-08-23T15:46:20.517638Z"
    },
    "papermill": {
     "duration": 51.352338,
     "end_time": "2023-08-23T15:46:20.521191",
     "exception": false,
     "start_time": "2023-08-23T15:45:29.168853",
     "status": "completed"
    },
    "tags": []
   },
   "outputs": [
    {
     "name": "stdout",
     "output_type": "stream",
     "text": [
      "Found 18966 validated image filenames.\n",
      "Found 4742 validated image filenames.\n"
     ]
    }
   ],
   "source": [
    "train_datagen = ImageDataGenerator(\n",
    "    rescale=1/255,\n",
    "    rotation_range=30,\n",
    "    width_shift_range=0.2,\n",
    "    height_shift_range=0.2,\n",
    "    shear_range=0.2,\n",
    "    zoom_range=0.2,\n",
    "    horizontal_flip=True,\n",
    ")\n",
    "\n",
    "\n",
    "test_datagen = ImageDataGenerator(\n",
    "    rescale=1/255,\n",
    ")\n",
    "\n",
    "\n",
    "train_ds = train_datagen.flow_from_dataframe(\n",
    "    dataframe=train,\n",
    "    directory=path,\n",
    "    x_col=\"img_name\",    \n",
    "    y_col=[\"age\", \"gender\"], \n",
    "    target_size=(100, 100),\n",
    "    batch_size=32,\n",
    "    class_mode=\"multi_output\",\n",
    ")\n",
    "\n",
    "test_ds = test_datagen.flow_from_dataframe(\n",
    "    dataframe=test,\n",
    "    directory=path,\n",
    "    x_col=\"img_name\",\n",
    "    y_col=[\"age\", \"gender\"],\n",
    "    target_size=(100, 100),\n",
    "    batch_size=32,\n",
    "    class_mode=\"multi_output\",\n",
    ")"
   ]
  },
  {
   "cell_type": "code",
   "execution_count": 12,
   "id": "ffb09169",
   "metadata": {
    "execution": {
     "iopub.execute_input": "2023-08-23T15:46:20.538795Z",
     "iopub.status.busy": "2023-08-23T15:46:20.537728Z",
     "iopub.status.idle": "2023-08-23T15:46:20.543435Z",
     "shell.execute_reply": "2023-08-23T15:46:20.542435Z"
    },
    "papermill": {
     "duration": 0.016554,
     "end_time": "2023-08-23T15:46:20.545719",
     "exception": false,
     "start_time": "2023-08-23T15:46:20.529165",
     "status": "completed"
    },
    "tags": []
   },
   "outputs": [],
   "source": [
    "from keras.layers import *\n",
    "from keras.models import Model\n",
    "from keras.optimizers import *\n",
    "from keras.losses import *"
   ]
  },
  {
   "cell_type": "code",
   "execution_count": 13,
   "id": "77e051e8",
   "metadata": {
    "execution": {
     "iopub.execute_input": "2023-08-23T15:46:20.562856Z",
     "iopub.status.busy": "2023-08-23T15:46:20.562259Z",
     "iopub.status.idle": "2023-08-23T15:46:23.910036Z",
     "shell.execute_reply": "2023-08-23T15:46:23.909124Z"
    },
    "papermill": {
     "duration": 3.380251,
     "end_time": "2023-08-23T15:46:23.933868",
     "exception": false,
     "start_time": "2023-08-23T15:46:20.553617",
     "status": "completed"
    },
    "tags": []
   },
   "outputs": [
    {
     "name": "stdout",
     "output_type": "stream",
     "text": [
      "Model: \"model\"\n",
      "__________________________________________________________________________________________________\n",
      " Layer (type)                   Output Shape         Param #     Connected to                     \n",
      "==================================================================================================\n",
      " input_1 (InputLayer)           [(None, 100, 100, 3  0           []                               \n",
      "                                )]                                                                \n",
      "                                                                                                  \n",
      " conv2d (Conv2D)                (None, 98, 98, 64)   1792        ['input_1[0][0]']                \n",
      "                                                                                                  \n",
      " max_pooling2d (MaxPooling2D)   (None, 49, 49, 64)   0           ['conv2d[0][0]']                 \n",
      "                                                                                                  \n",
      " conv2d_1 (Conv2D)              (None, 47, 47, 128)  73856       ['max_pooling2d[0][0]']          \n",
      "                                                                                                  \n",
      " max_pooling2d_1 (MaxPooling2D)  (None, 23, 23, 128)  0          ['conv2d_1[0][0]']               \n",
      "                                                                                                  \n",
      " flatten (Flatten)              (None, 67712)        0           ['max_pooling2d_1[0][0]']        \n",
      "                                                                                                  \n",
      " dense (Dense)                  (None, 256)          17334528    ['flatten[0][0]']                \n",
      "                                                                                                  \n",
      " dense_1 (Dense)                (None, 256)          65792       ['dense[0][0]']                  \n",
      "                                                                                                  \n",
      " dense_2 (Dense)                (None, 256)          65792       ['dense_1[0][0]']                \n",
      "                                                                                                  \n",
      " dense_3 (Dense)                (None, 256)          65792       ['dense_2[0][0]']                \n",
      "                                                                                                  \n",
      " age (Dense)                    (None, 1)            257         ['dense_2[0][0]']                \n",
      "                                                                                                  \n",
      " gender (Dense)                 (None, 1)            257         ['dense_3[0][0]']                \n",
      "                                                                                                  \n",
      "==================================================================================================\n",
      "Total params: 17,608,066\n",
      "Trainable params: 17,608,066\n",
      "Non-trainable params: 0\n",
      "__________________________________________________________________________________________________\n"
     ]
    }
   ],
   "source": [
    "input_layer = Input(shape =(100, 100, 3))\n",
    "\n",
    "conv1 = Conv2D(64, kernel_size=(3,3), padding=\"valid\", activation=\"relu\")(input_layer)\n",
    "pool1 = MaxPooling2D(pool_size=(2,2), strides=None, padding=\"valid\")(conv1)\n",
    "\n",
    "conv2 = Conv2D(128, kernel_size=(3,3), padding=\"valid\", activation=\"relu\")(pool1)\n",
    "pool2 = MaxPooling2D(pool_size=(2,2), strides=None, padding=\"valid\")(conv2)\n",
    "\n",
    "flatten =  Flatten()(pool2)\n",
    "\n",
    "dense1 = Dense(units = 256, activation = \"relu\")(flatten)\n",
    "dense2 = Dense(units = 256, activation = \"relu\")(dense1)\n",
    "\n",
    "dense3 = Dense(units = 256, activation = \"relu\")(dense2)\n",
    "dense4 = Dense(units = 256, activation = \"relu\")(dense3)\n",
    "\n",
    "output1 = Dense(units=1, activation = \"linear\", name=\"age\")(dense3)\n",
    "output2 = Dense(units = 1, activation= \"sigmoid\", name=\"gender\")(dense4)\n",
    "\n",
    "model = Model(inputs = input_layer, outputs=[output1, output2])\n",
    "\n",
    "model.summary()"
   ]
  },
  {
   "cell_type": "code",
   "execution_count": 14,
   "id": "ecbacd16",
   "metadata": {
    "execution": {
     "iopub.execute_input": "2023-08-23T15:46:23.954950Z",
     "iopub.status.busy": "2023-08-23T15:46:23.954633Z",
     "iopub.status.idle": "2023-08-23T15:46:24.202388Z",
     "shell.execute_reply": "2023-08-23T15:46:24.201232Z"
    },
    "papermill": {
     "duration": 0.261271,
     "end_time": "2023-08-23T15:46:24.205006",
     "exception": false,
     "start_time": "2023-08-23T15:46:23.943735",
     "status": "completed"
    },
    "tags": []
   },
   "outputs": [
    {
     "data": {
      "image/png": "[encoded data removed]",
      "text/plain": [
       "<IPython.core.display.Image object>"
      ]
     },
     "execution_count": 14,
     "metadata": {},
     "output_type": "execute_result"
    }
   ],
   "source": [
    "from keras.utils import plot_model\n",
    "plot_model(model)"
   ]
  },
  {
   "cell_type": "code",
   "execution_count": 15,
   "id": "1ebefb8a",
   "metadata": {
    "execution": {
     "iopub.execute_input": "2023-08-23T15:46:24.241147Z",
     "iopub.status.busy": "2023-08-23T15:46:24.240828Z",
     "iopub.status.idle": "2023-08-23T15:46:24.259650Z",
     "shell.execute_reply": "2023-08-23T15:46:24.258739Z"
    },
    "papermill": {
     "duration": 0.031611,
     "end_time": "2023-08-23T15:46:24.261709",
     "exception": false,
     "start_time": "2023-08-23T15:46:24.230098",
     "status": "completed"
    },
    "tags": []
   },
   "outputs": [],
   "source": [
    "model.compile(\n",
    "    optimizer=Adam(), \n",
    "    loss={\"age\": MeanSquaredError(), \"gender\" :BinaryCrossentropy()},\n",
    "    metrics={\"age\": MeanSquaredError(), \"gender\": \"accuracy\"},\n",
    ")"
   ]
  },
  {
   "cell_type": "code",
   "execution_count": 16,
   "id": "10ddbe72",
   "metadata": {
    "execution": {
     "iopub.execute_input": "2023-08-23T15:46:24.284483Z",
     "iopub.status.busy": "2023-08-23T15:46:24.284158Z",
     "iopub.status.idle": "2023-08-23T15:57:02.120427Z",
     "shell.execute_reply": "2023-08-23T15:57:02.118984Z"
    },
    "papermill": {
     "duration": 637.850921,
     "end_time": "2023-08-23T15:57:02.123301",
     "exception": false,
     "start_time": "2023-08-23T15:46:24.272380",
     "status": "completed"
    },
    "tags": []
   },
   "outputs": [
    {
     "name": "stdout",
     "output_type": "stream",
     "text": [
      "Epoch 1/5\n",
      "593/593 [==============================] - 184s 297ms/step - loss: 396.2072 - age_loss: 395.4889 - gender_loss: 0.7183 - age_mean_squared_error: 395.5121 - gender_accuracy: 0.5444 - val_loss: 376.7814 - val_age_loss: 376.1231 - val_gender_loss: 0.6584 - val_age_mean_squared_error: 375.0394 - val_gender_accuracy: 0.5962\n",
      "Epoch 2/5\n",
      "593/593 [==============================] - 84s 142ms/step - loss: 349.5922 - age_loss: 348.8969 - gender_loss: 0.6955 - age_mean_squared_error: 348.8299 - gender_accuracy: 0.5941 - val_loss: 289.6912 - val_age_loss: 289.0562 - val_gender_loss: 0.6350 - val_age_mean_squared_error: 288.4223 - val_gender_accuracy: 0.6242\n",
      "Epoch 3/5\n",
      "593/593 [==============================] - 86s 144ms/step - loss: 330.7232 - age_loss: 330.0518 - gender_loss: 0.6715 - age_mean_squared_error: 330.0510 - gender_accuracy: 0.6032 - val_loss: 262.3129 - val_age_loss: 261.6349 - val_gender_loss: 0.6779 - val_age_mean_squared_error: 260.5513 - val_gender_accuracy: 0.5839\n",
      "Epoch 4/5\n",
      "593/593 [==============================] - 84s 141ms/step - loss: 305.1960 - age_loss: 304.5248 - gender_loss: 0.6714 - age_mean_squared_error: 304.5672 - gender_accuracy: 0.6157 - val_loss: 259.2219 - val_age_loss: 258.6193 - val_gender_loss: 0.6026 - val_age_mean_squared_error: 258.9601 - val_gender_accuracy: 0.6885\n",
      "Epoch 5/5\n",
      "593/593 [==============================] - 85s 143ms/step - loss: 295.4077 - age_loss: 294.7578 - gender_loss: 0.6498 - age_mean_squared_error: 294.7414 - gender_accuracy: 0.6227 - val_loss: 250.5717 - val_age_loss: 249.9552 - val_gender_loss: 0.6165 - val_age_mean_squared_error: 249.2243 - val_gender_accuracy: 0.6647\n"
     ]
    }
   ],
   "source": [
    "hist = model.fit(\n",
    "    train_ds,\n",
    "    epochs = 5,\n",
    "    batch_size=10,\n",
    "    validation_data=test_ds)"
   ]
  },
  {
   "cell_type": "code",
   "execution_count": 17,
   "id": "d944a8a1",
   "metadata": {
    "execution": {
     "iopub.execute_input": "2023-08-23T15:57:02.620165Z",
     "iopub.status.busy": "2023-08-23T15:57:02.619790Z",
     "iopub.status.idle": "2023-08-23T15:57:03.392609Z",
     "shell.execute_reply": "2023-08-23T15:57:03.391620Z"
    },
    "papermill": {
     "duration": 1.024748,
     "end_time": "2023-08-23T15:57:03.394647",
     "exception": false,
     "start_time": "2023-08-23T15:57:02.369899",
     "status": "completed"
    },
    "tags": []
   },
   "outputs": [
    {
     "data": {
      "text/plain": [
       "<matplotlib.legend.Legend at 0x79d391bf90f0>"
      ]
     },
     "execution_count": 17,
     "metadata": {},
     "output_type": "execute_result"
    },
    {
     "data": {
      "image/png": "[encoded data removed]",
      "text/plain": [
       "<Figure size 800x400 with 1 Axes>"
      ]
     },
     "metadata": {},
     "output_type": "display_data"
    },
    {
     "data": {
      "image/png": "[encoded data removed]",
      "text/plain": [
       "<Figure size 800x400 with 1 Axes>"
      ]
     },
     "metadata": {},
     "output_type": "display_data"
    }
   ],
   "source": [
    "plt.figure(figsize=[8,4])\n",
    "plt.plot(hist.history[\"loss\"], label=\"Loss\")\n",
    "plt.plot(hist.history[\"age_loss\"], label=\"Age Loss\")\n",
    "plt.plot(hist.history[\"val_loss\"], label=\"Val Loss\")\n",
    "plt.plot(hist.history[\"gender_loss\"], label=\"gender_loss\")\n",
    "plt.plot(hist.history[\"val_age_loss\"], label=\"val_age_loss\")\n",
    "plt.plot(hist.history[\"val_gender_loss\"], label=\"Age Loss\")\n",
    "plt.plot(hist.history[\"val_age_mean_squared_error\"], label=\"Age Loss\")\n",
    "\n",
    "plt.legend()\n",
    "\n",
    "plt.figure(figsize=[8,4])\n",
    "plt.plot(hist.history[\"gender_accuracy\"], label=\"Gender Accuracy\")\n",
    "plt.plot(hist.history[\"age_mean_squared_error\"], label=\"age_mean_squared_error\")\n",
    "plt.plot(hist.history[\"val_gender_accuracy\"], label=\"Val Gender Loss\")\n",
    "plt.legend()"
   ]
  },
  {
   "cell_type": "code",
   "execution_count": null,
   "id": "1e5b6f97",
   "metadata": {
    "papermill": {
     "duration": 0.248968,
     "end_time": "2023-08-23T15:57:03.890385",
     "exception": false,
     "start_time": "2023-08-23T15:57:03.641417",
     "status": "completed"
    },
    "tags": []
   },
   "outputs": [],
   "source": []
  }
 ],
 "metadata": {
  "kernelspec": {
   "display_name": "Python 3",
   "language": "python",
   "name": "python3"
  },
  "language_info": {
   "codemirror_mode": {
    "name": "ipython",
    "version": 3
   },
   "file_extension": ".py",
   "mimetype": "text/x-python",
   "name": "python",
   "nbconvert_exporter": "python",
   "pygments_lexer": "ipython3",
   "version": "3.10.12"
  },
  "papermill": {
   "default_parameters": {},
   "duration": 720.187204,
   "end_time": "2023-08-23T15:57:07.595513",
   "environment_variables": {},
   "exception": null,
   "input_path": "__notebook__.ipynb",
   "output_path": "__notebook__.ipynb",
   "parameters": {},
   "start_time": "2023-08-23T15:45:07.408309",
   "version": "2.4.0"
  }
 },
 "nbformat": 4,
 "nbformat_minor": 5
}

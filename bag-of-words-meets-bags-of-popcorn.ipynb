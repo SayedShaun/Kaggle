{
 "cells": [
  {
   "cell_type": "code",
   "execution_count": 1,
   "id": "24c5bb4e",
   "metadata": {
    "_cell_guid": "b1076dfc-b9ad-4769-8c92-a6c4dae69d19",
    "_uuid": "8f2839f25d086af736a60e9eeb907d3b93b6e0e5",
    "execution": {
     "iopub.execute_input": "2023-09-05T16:18:40.050507Z",
     "iopub.status.busy": "2023-09-05T16:18:40.050149Z",
     "iopub.status.idle": "2023-09-05T16:18:50.810385Z",
     "shell.execute_reply": "2023-09-05T16:18:50.809425Z"
    },
    "papermill": {
     "duration": 10.773668,
     "end_time": "2023-09-05T16:18:50.812852",
     "exception": false,
     "start_time": "2023-09-05T16:18:40.039184",
     "status": "completed"
    },
    "tags": []
   },
   "outputs": [
    {
     "name": "stderr",
     "output_type": "stream",
     "text": [
      "/opt/conda/lib/python3.10/site-packages/scipy/__init__.py:146: UserWarning: A NumPy version >=1.16.5 and <1.23.0 is required for this version of SciPy (detected version 1.23.5\n",
      "  warnings.warn(f\"A NumPy version >={np_minversion} and <{np_maxversion}\"\n"
     ]
    }
   ],
   "source": [
    "import numpy as np \n",
    "import pandas as pd \n",
    "import re\n",
    "import string\n",
    "import nltk\n",
    "from nltk.tokenize import word_tokenize\n",
    "from sklearn.feature_extraction.text import CountVectorizer\n",
    "from sklearn.naive_bayes import GaussianNB\n",
    "from sklearn.ensemble import RandomForestClassifier\n",
    "from xgboost import XGBClassifier\n",
    "\n",
    "from tensorflow.keras.layers import TextVectorization"
   ]
  },
  {
   "cell_type": "code",
   "execution_count": 2,
   "id": "f711bc6f",
   "metadata": {
    "execution": {
     "iopub.execute_input": "2023-09-05T16:18:50.831016Z",
     "iopub.status.busy": "2023-09-05T16:18:50.829113Z",
     "iopub.status.idle": "2023-09-05T16:18:51.741590Z",
     "shell.execute_reply": "2023-09-05T16:18:51.740651Z"
    },
    "papermill": {
     "duration": 0.923294,
     "end_time": "2023-09-05T16:18:51.744137",
     "exception": false,
     "start_time": "2023-09-05T16:18:50.820843",
     "status": "completed"
    },
    "tags": []
   },
   "outputs": [],
   "source": [
    "df = pd.read_csv(\"/kaggle/input/word2vec-nlp-tutorial/labeledTrainData.tsv.zip\", delimiter=\"\\t\")"
   ]
  },
  {
   "cell_type": "code",
   "execution_count": 3,
   "id": "a39d2457",
   "metadata": {
    "execution": {
     "iopub.execute_input": "2023-09-05T16:18:51.760530Z",
     "iopub.status.busy": "2023-09-05T16:18:51.759741Z",
     "iopub.status.idle": "2023-09-05T16:18:51.778035Z",
     "shell.execute_reply": "2023-09-05T16:18:51.776896Z"
    },
    "papermill": {
     "duration": 0.029376,
     "end_time": "2023-09-05T16:18:51.780945",
     "exception": false,
     "start_time": "2023-09-05T16:18:51.751569",
     "status": "completed"
    },
    "tags": []
   },
   "outputs": [
    {
     "data": {
      "text/html": [
       "<div>\n",
       "<style scoped>\n",
       "    .dataframe tbody tr th:only-of-type {\n",
       "        vertical-align: middle;\n",
       "    }\n",
       "\n",
       "    .dataframe tbody tr th {\n",
       "        vertical-align: top;\n",
       "    }\n",
       "\n",
       "    .dataframe thead th {\n",
       "        text-align: right;\n",
       "    }\n",
       "</style>\n",
       "<table border=\"1\" class=\"dataframe\">\n",
       "  <thead>\n",
       "    <tr style=\"text-align: right;\">\n",
       "      <th></th>\n",
       "      <th>id</th>\n",
       "      <th>sentiment</th>\n",
       "      <th>review</th>\n",
       "    </tr>\n",
       "  </thead>\n",
       "  <tbody>\n",
       "    <tr>\n",
       "      <th>0</th>\n",
       "      <td>5814_8</td>\n",
       "      <td>1</td>\n",
       "      <td>With all this stuff going down at the moment w...</td>\n",
       "    </tr>\n",
       "    <tr>\n",
       "      <th>1</th>\n",
       "      <td>2381_9</td>\n",
       "      <td>1</td>\n",
       "      <td>\\The Classic War of the Worlds\\\" by Timothy Hi...</td>\n",
       "    </tr>\n",
       "    <tr>\n",
       "      <th>2</th>\n",
       "      <td>7759_3</td>\n",
       "      <td>0</td>\n",
       "      <td>The film starts with a manager (Nicholas Bell)...</td>\n",
       "    </tr>\n",
       "    <tr>\n",
       "      <th>3</th>\n",
       "      <td>3630_4</td>\n",
       "      <td>0</td>\n",
       "      <td>It must be assumed that those who praised this...</td>\n",
       "    </tr>\n",
       "    <tr>\n",
       "      <th>4</th>\n",
       "      <td>9495_8</td>\n",
       "      <td>1</td>\n",
       "      <td>Superbly trashy and wondrously unpretentious 8...</td>\n",
       "    </tr>\n",
       "  </tbody>\n",
       "</table>\n",
       "</div>"
      ],
      "text/plain": [
       "       id  sentiment                                             review\n",
       "0  5814_8          1  With all this stuff going down at the moment w...\n",
       "1  2381_9          1  \\The Classic War of the Worlds\\\" by Timothy Hi...\n",
       "2  7759_3          0  The film starts with a manager (Nicholas Bell)...\n",
       "3  3630_4          0  It must be assumed that those who praised this...\n",
       "4  9495_8          1  Superbly trashy and wondrously unpretentious 8..."
      ]
     },
     "execution_count": 3,
     "metadata": {},
     "output_type": "execute_result"
    }
   ],
   "source": [
    "df.head()"
   ]
  },
  {
   "cell_type": "code",
   "execution_count": 4,
   "id": "4935a35f",
   "metadata": {
    "execution": {
     "iopub.execute_input": "2023-09-05T16:18:51.797010Z",
     "iopub.status.busy": "2023-09-05T16:18:51.796727Z",
     "iopub.status.idle": "2023-09-05T16:18:52.430297Z",
     "shell.execute_reply": "2023-09-05T16:18:52.429096Z"
    },
    "papermill": {
     "duration": 0.64397,
     "end_time": "2023-09-05T16:18:52.432314",
     "exception": false,
     "start_time": "2023-09-05T16:18:51.788344",
     "status": "completed"
    },
    "tags": []
   },
   "outputs": [
    {
     "data": {
      "text/plain": [
       "<Axes: xlabel='sentiment', ylabel='count'>"
      ]
     },
     "execution_count": 4,
     "metadata": {},
     "output_type": "execute_result"
    },
    {
     "data": {
      "image/png": "[encoded data removed]",
      "text/plain": [
       "<Figure size 640x480 with 1 Axes>"
      ]
     },
     "metadata": {},
     "output_type": "display_data"
    }
   ],
   "source": [
    "import matplotlib.pyplot as plt\n",
    "import seaborn as sns\n",
    "\n",
    "sns.countplot(x = df[\"sentiment\"], data= df)"
   ]
  },
  {
   "cell_type": "code",
   "execution_count": 5,
   "id": "963d8664",
   "metadata": {
    "execution": {
     "iopub.execute_input": "2023-09-05T16:18:52.450449Z",
     "iopub.status.busy": "2023-09-05T16:18:52.448862Z",
     "iopub.status.idle": "2023-09-05T16:18:52.457166Z",
     "shell.execute_reply": "2023-09-05T16:18:52.456297Z"
    },
    "papermill": {
     "duration": 0.019131,
     "end_time": "2023-09-05T16:18:52.459263",
     "exception": false,
     "start_time": "2023-09-05T16:18:52.440132",
     "status": "completed"
    },
    "tags": []
   },
   "outputs": [
    {
     "data": {
      "text/plain": [
       "(25000, 3)"
      ]
     },
     "execution_count": 5,
     "metadata": {},
     "output_type": "execute_result"
    }
   ],
   "source": [
    "df.shape"
   ]
  },
  {
   "cell_type": "code",
   "execution_count": 6,
   "id": "364fba6f",
   "metadata": {
    "execution": {
     "iopub.execute_input": "2023-09-05T16:18:52.478239Z",
     "iopub.status.busy": "2023-09-05T16:18:52.477960Z",
     "iopub.status.idle": "2023-09-05T16:18:52.491958Z",
     "shell.execute_reply": "2023-09-05T16:18:52.490953Z"
    },
    "papermill": {
     "duration": 0.027511,
     "end_time": "2023-09-05T16:18:52.494440",
     "exception": false,
     "start_time": "2023-09-05T16:18:52.466929",
     "status": "completed"
    },
    "tags": []
   },
   "outputs": [
    {
     "data": {
      "text/plain": [
       "id           0\n",
       "sentiment    0\n",
       "review       0\n",
       "dtype: int64"
      ]
     },
     "execution_count": 6,
     "metadata": {},
     "output_type": "execute_result"
    }
   ],
   "source": [
    "df.isnull().sum()"
   ]
  },
  {
   "cell_type": "code",
   "execution_count": 7,
   "id": "75364ff4",
   "metadata": {
    "execution": {
     "iopub.execute_input": "2023-09-05T16:18:52.511333Z",
     "iopub.status.busy": "2023-09-05T16:18:52.511074Z",
     "iopub.status.idle": "2023-09-05T16:18:52.518904Z",
     "shell.execute_reply": "2023-09-05T16:18:52.518026Z"
    },
    "papermill": {
     "duration": 0.018754,
     "end_time": "2023-09-05T16:18:52.521095",
     "exception": false,
     "start_time": "2023-09-05T16:18:52.502341",
     "status": "completed"
    },
    "tags": []
   },
   "outputs": [],
   "source": [
    "def preprocessing(text):\n",
    "    clean_text = re.sub(r'<.*?>', \"\", text)\n",
    "    clean_text = re.sub(r'https?://\\S+|www\\.\\S+', \"\", clean_text)\n",
    "    clean_text = re.sub(r'[\\d!@#$%^&*()?><:\"|;\\'.]', \"\", clean_text)\n",
    "    clean_text = re.sub(f\"[{re.escape(string.punctuation)}]\", \"\", clean_text)\n",
    "    clean_text = re.sub(re.compile(\"[\"\n",
    "                           u\"\\U0001F600-\\U0001F64F\"\n",
    "                           u\"\\U0001F300-\\U0001F5FF\"  \n",
    "                           u\"\\U0001F680-\\U0001F6FF\"  \n",
    "                           u\"\\U0001F1E0-\\U0001F1FF\"  \n",
    "                           u\"\\U00002702-\\U000027B0\"\n",
    "                           u\"\\U000024C2-\\U0001F251\"\n",
    "                           \"]+\", flags=re.UNICODE), \"\", clean_text)\n",
    "    \n",
    "    #clean_text = re.sub(r'\\s+', ' ', clean_text)\n",
    "    clean_text = re.sub(r'\\.\\.\\.', '',  clean_text)\n",
    "    clean_text = re.sub(r'[^a-zA-Z ]', '', clean_text)\n",
    "\n",
    "    return \"\".join(clean_text)"
   ]
  },
  {
   "cell_type": "code",
   "execution_count": 8,
   "id": "0ae8b911",
   "metadata": {
    "execution": {
     "iopub.execute_input": "2023-09-05T16:18:52.538322Z",
     "iopub.status.busy": "2023-09-05T16:18:52.538059Z",
     "iopub.status.idle": "2023-09-05T16:18:59.168833Z",
     "shell.execute_reply": "2023-09-05T16:18:59.167852Z"
    },
    "papermill": {
     "duration": 6.642048,
     "end_time": "2023-09-05T16:18:59.171426",
     "exception": false,
     "start_time": "2023-09-05T16:18:52.529378",
     "status": "completed"
    },
    "tags": []
   },
   "outputs": [],
   "source": [
    "x_train = df[\"review\"].apply(preprocessing)\n",
    "y_train = df[\"sentiment\"]"
   ]
  },
  {
   "cell_type": "code",
   "execution_count": 9,
   "id": "772729b6",
   "metadata": {
    "execution": {
     "iopub.execute_input": "2023-09-05T16:18:59.189022Z",
     "iopub.status.busy": "2023-09-05T16:18:59.188718Z",
     "iopub.status.idle": "2023-09-05T16:18:59.195786Z",
     "shell.execute_reply": "2023-09-05T16:18:59.194760Z"
    },
    "papermill": {
     "duration": 0.019071,
     "end_time": "2023-09-05T16:18:59.198930",
     "exception": false,
     "start_time": "2023-09-05T16:18:59.179859",
     "status": "completed"
    },
    "tags": []
   },
   "outputs": [
    {
     "data": {
      "text/plain": [
       "0    With all this stuff going down at the moment w...\n",
       "1    The Classic War of the Worlds by Timothy Hines...\n",
       "2    The film starts with a manager Nicholas Bell g...\n",
       "3    It must be assumed that those who praised this...\n",
       "4    Superbly trashy and wondrously unpretentious s...\n",
       "Name: review, dtype: object"
      ]
     },
     "execution_count": 9,
     "metadata": {},
     "output_type": "execute_result"
    }
   ],
   "source": [
    "x_train.head()"
   ]
  },
  {
   "cell_type": "code",
   "execution_count": 10,
   "id": "97660b7f",
   "metadata": {
    "execution": {
     "iopub.execute_input": "2023-09-05T16:18:59.216042Z",
     "iopub.status.busy": "2023-09-05T16:18:59.215775Z",
     "iopub.status.idle": "2023-09-05T16:19:07.155426Z",
     "shell.execute_reply": "2023-09-05T16:19:07.154462Z"
    },
    "papermill": {
     "duration": 7.950858,
     "end_time": "2023-09-05T16:19:07.157833",
     "exception": false,
     "start_time": "2023-09-05T16:18:59.206975",
     "status": "completed"
    },
    "tags": []
   },
   "outputs": [],
   "source": [
    "test_df = pd.read_csv(\"/kaggle/input/word2vec-nlp-tutorial/testData.tsv.zip\", delimiter=\"\\t\")\n",
    "x_test = test_df[\"review\"].apply(preprocessing)"
   ]
  },
  {
   "cell_type": "code",
   "execution_count": 11,
   "id": "d189f0ce",
   "metadata": {
    "execution": {
     "iopub.execute_input": "2023-09-05T16:19:07.176128Z",
     "iopub.status.busy": "2023-09-05T16:19:07.175821Z",
     "iopub.status.idle": "2023-09-05T16:19:07.866320Z",
     "shell.execute_reply": "2023-09-05T16:19:07.865328Z"
    },
    "papermill": {
     "duration": 0.702223,
     "end_time": "2023-09-05T16:19:07.868879",
     "exception": false,
     "start_time": "2023-09-05T16:19:07.166656",
     "status": "completed"
    },
    "tags": []
   },
   "outputs": [],
   "source": [
    "unique_words = set()\n",
    "for i in x_train:\n",
    "    unique_words.update(i.split())\n",
    "    \n",
    "vocab = len(unique_words)\n",
    "    "
   ]
  },
  {
   "cell_type": "code",
   "execution_count": 12,
   "id": "6ab58462",
   "metadata": {
    "execution": {
     "iopub.execute_input": "2023-09-05T16:19:07.887410Z",
     "iopub.status.busy": "2023-09-05T16:19:07.886420Z",
     "iopub.status.idle": "2023-09-05T16:19:18.836140Z",
     "shell.execute_reply": "2023-09-05T16:19:18.835066Z"
    },
    "papermill": {
     "duration": 10.961444,
     "end_time": "2023-09-05T16:19:18.838857",
     "exception": false,
     "start_time": "2023-09-05T16:19:07.877413",
     "status": "completed"
    },
    "tags": []
   },
   "outputs": [],
   "source": [
    "vector = TextVectorization(\n",
    "    max_tokens=10000,\n",
    "    standardize='lower_and_strip_punctuation',\n",
    "    output_mode=\"int\",\n",
    "    output_sequence_length=100,\n",
    "        \n",
    "    \n",
    ")\n",
    "\n",
    "vector.adapt(x_train, batch_size=32)\n",
    "\n",
    "x_train = vector(x_train)\n",
    "x_test = vector(x_test)"
   ]
  },
  {
   "cell_type": "code",
   "execution_count": 13,
   "id": "36f6afe2",
   "metadata": {
    "execution": {
     "iopub.execute_input": "2023-09-05T16:19:18.859510Z",
     "iopub.status.busy": "2023-09-05T16:19:18.858921Z",
     "iopub.status.idle": "2023-09-05T16:19:18.865415Z",
     "shell.execute_reply": "2023-09-05T16:19:18.864471Z"
    },
    "papermill": {
     "duration": 0.019144,
     "end_time": "2023-09-05T16:19:18.867441",
     "exception": false,
     "start_time": "2023-09-05T16:19:18.848297",
     "status": "completed"
    },
    "tags": []
   },
   "outputs": [
    {
     "data": {
      "text/plain": [
       "TensorShape([25000, 100])"
      ]
     },
     "execution_count": 13,
     "metadata": {},
     "output_type": "execute_result"
    }
   ],
   "source": [
    "x_train.shape"
   ]
  },
  {
   "cell_type": "code",
   "execution_count": 14,
   "id": "fef95dd3",
   "metadata": {
    "execution": {
     "iopub.execute_input": "2023-09-05T16:19:18.884670Z",
     "iopub.status.busy": "2023-09-05T16:19:18.884366Z",
     "iopub.status.idle": "2023-09-05T16:19:18.889743Z",
     "shell.execute_reply": "2023-09-05T16:19:18.888875Z"
    },
    "papermill": {
     "duration": 0.016116,
     "end_time": "2023-09-05T16:19:18.891595",
     "exception": false,
     "start_time": "2023-09-05T16:19:18.875479",
     "status": "completed"
    },
    "tags": []
   },
   "outputs": [
    {
     "data": {
      "text/plain": [
       "TensorShape([25000, 100])"
      ]
     },
     "execution_count": 14,
     "metadata": {},
     "output_type": "execute_result"
    }
   ],
   "source": [
    "x_test.shape"
   ]
  },
  {
   "cell_type": "code",
   "execution_count": 15,
   "id": "f873fde3",
   "metadata": {
    "execution": {
     "iopub.execute_input": "2023-09-05T16:19:18.909754Z",
     "iopub.status.busy": "2023-09-05T16:19:18.908899Z",
     "iopub.status.idle": "2023-09-05T16:19:18.914457Z",
     "shell.execute_reply": "2023-09-05T16:19:18.913646Z"
    },
    "papermill": {
     "duration": 0.016785,
     "end_time": "2023-09-05T16:19:18.916553",
     "exception": false,
     "start_time": "2023-09-05T16:19:18.899768",
     "status": "completed"
    },
    "tags": []
   },
   "outputs": [],
   "source": [
    "import tensorflow as tf\n",
    "from tensorflow.keras import Sequential\n",
    "from tensorflow.keras.layers import Dense, Flatten, BatchNormalization, Embedding, LSTM,Dropout\n",
    "from tensorflow.keras.losses import BinaryCrossentropy"
   ]
  },
  {
   "cell_type": "code",
   "execution_count": 16,
   "id": "60f3b39a",
   "metadata": {
    "execution": {
     "iopub.execute_input": "2023-09-05T16:19:18.934317Z",
     "iopub.status.busy": "2023-09-05T16:19:18.934065Z",
     "iopub.status.idle": "2023-09-05T16:20:40.558742Z",
     "shell.execute_reply": "2023-09-05T16:20:40.557788Z"
    },
    "papermill": {
     "duration": 81.635846,
     "end_time": "2023-09-05T16:20:40.560715",
     "exception": false,
     "start_time": "2023-09-05T16:19:18.924869",
     "status": "completed"
    },
    "tags": []
   },
   "outputs": [
    {
     "name": "stdout",
     "output_type": "stream",
     "text": [
      "Epoch 1/5\n",
      "782/782 [==============================] - 45s 50ms/step - loss: 0.5403 - accuracy: 0.7065\n",
      "Epoch 2/5\n",
      "782/782 [==============================] - 11s 14ms/step - loss: 0.3380 - accuracy: 0.8622\n",
      "Epoch 3/5\n",
      "782/782 [==============================] - 9s 11ms/step - loss: 0.2767 - accuracy: 0.8944\n",
      "Epoch 4/5\n",
      "782/782 [==============================] - 8s 10ms/step - loss: 0.2345 - accuracy: 0.9132\n",
      "Epoch 5/5\n",
      "782/782 [==============================] - 8s 11ms/step - loss: 0.1911 - accuracy: 0.9316\n"
     ]
    }
   ],
   "source": [
    "model = Sequential([\n",
    "    Embedding(input_dim=10000, output_dim=15, input_length=100),\n",
    "    LSTM(128),\n",
    "    Dense(128, activation=\"relu\"),\n",
    "    Dropout(0.2),\n",
    "    Dense(1, activation=\"sigmoid\"),\n",
    "])\n",
    "\n",
    "model.compile(loss=BinaryCrossentropy(), optimizer=\"adam\", metrics=[\"accuracy\"])\n",
    "hist = model.fit(x_train, y_train, epochs=5)"
   ]
  },
  {
   "cell_type": "code",
   "execution_count": 17,
   "id": "19bb06bf",
   "metadata": {
    "execution": {
     "iopub.execute_input": "2023-09-05T16:20:40.686751Z",
     "iopub.status.busy": "2023-09-05T16:20:40.686379Z",
     "iopub.status.idle": "2023-09-05T16:20:46.292552Z",
     "shell.execute_reply": "2023-09-05T16:20:46.291531Z"
    },
    "papermill": {
     "duration": 5.671029,
     "end_time": "2023-09-05T16:20:46.295011",
     "exception": false,
     "start_time": "2023-09-05T16:20:40.623982",
     "status": "completed"
    },
    "tags": []
   },
   "outputs": [
    {
     "name": "stdout",
     "output_type": "stream",
     "text": [
      "782/782 [==============================] - 3s 3ms/step\n"
     ]
    }
   ],
   "source": [
    "pred = model.predict(x_test.numpy())\n",
    "pred = np.array([0 if i < 0.5 else 1 for i in pred])"
   ]
  },
  {
   "cell_type": "code",
   "execution_count": 18,
   "id": "050347e7",
   "metadata": {
    "execution": {
     "iopub.execute_input": "2023-09-05T16:20:46.476513Z",
     "iopub.status.busy": "2023-09-05T16:20:46.476151Z",
     "iopub.status.idle": "2023-09-05T16:20:46.487906Z",
     "shell.execute_reply": "2023-09-05T16:20:46.486887Z"
    },
    "papermill": {
     "duration": 0.081348,
     "end_time": "2023-09-05T16:20:46.489942",
     "exception": false,
     "start_time": "2023-09-05T16:20:46.408594",
     "status": "completed"
    },
    "tags": []
   },
   "outputs": [
    {
     "data": {
      "text/html": [
       "<div>\n",
       "<style scoped>\n",
       "    .dataframe tbody tr th:only-of-type {\n",
       "        vertical-align: middle;\n",
       "    }\n",
       "\n",
       "    .dataframe tbody tr th {\n",
       "        vertical-align: top;\n",
       "    }\n",
       "\n",
       "    .dataframe thead th {\n",
       "        text-align: right;\n",
       "    }\n",
       "</style>\n",
       "<table border=\"1\" class=\"dataframe\">\n",
       "  <thead>\n",
       "    <tr style=\"text-align: right;\">\n",
       "      <th></th>\n",
       "      <th>id</th>\n",
       "      <th>sentiment</th>\n",
       "    </tr>\n",
       "  </thead>\n",
       "  <tbody>\n",
       "    <tr>\n",
       "      <th>0</th>\n",
       "      <td>12311_10</td>\n",
       "      <td>1</td>\n",
       "    </tr>\n",
       "    <tr>\n",
       "      <th>1</th>\n",
       "      <td>8348_2</td>\n",
       "      <td>1</td>\n",
       "    </tr>\n",
       "    <tr>\n",
       "      <th>2</th>\n",
       "      <td>5828_4</td>\n",
       "      <td>1</td>\n",
       "    </tr>\n",
       "    <tr>\n",
       "      <th>3</th>\n",
       "      <td>7186_2</td>\n",
       "      <td>1</td>\n",
       "    </tr>\n",
       "    <tr>\n",
       "      <th>4</th>\n",
       "      <td>12128_7</td>\n",
       "      <td>1</td>\n",
       "    </tr>\n",
       "  </tbody>\n",
       "</table>\n",
       "</div>"
      ],
      "text/plain": [
       "         id  sentiment\n",
       "0  12311_10          1\n",
       "1    8348_2          1\n",
       "2    5828_4          1\n",
       "3    7186_2          1\n",
       "4   12128_7          1"
      ]
     },
     "execution_count": 18,
     "metadata": {},
     "output_type": "execute_result"
    }
   ],
   "source": [
    "submission = pd.DataFrame({'id':test_df['id'],'sentiment':pred})\n",
    "submission.head()"
   ]
  },
  {
   "cell_type": "code",
   "execution_count": 19,
   "id": "210de040",
   "metadata": {
    "execution": {
     "iopub.execute_input": "2023-09-05T16:20:46.624024Z",
     "iopub.status.busy": "2023-09-05T16:20:46.623708Z",
     "iopub.status.idle": "2023-09-05T16:20:46.677168Z",
     "shell.execute_reply": "2023-09-05T16:20:46.676236Z"
    },
    "papermill": {
     "duration": 0.122616,
     "end_time": "2023-09-05T16:20:46.679331",
     "exception": false,
     "start_time": "2023-09-05T16:20:46.556715",
     "status": "completed"
    },
    "tags": []
   },
   "outputs": [],
   "source": [
    "submission.to_csv('submission.csv',index=False)"
   ]
  }
 ],
 "kernelspec": {
  "display_name": "Python 3",
  "language": "python",
  "name": "python3"
 },
 "language_info": {
  "codemirror_mode": {
   "name": "ipython",
   "version": 3
  },
  "file_extension": ".py",
  "mimetype": "text/x-python",
  "name": "python",
  "nbconvert_exporter": "python",
  "pygments_lexer": "ipython3",
  "version": "3.6.4"
 },
 "metadata": {
  "kernelspec": {
   "display_name": "Python 3",
   "language": "python",
   "name": "python3"
  },
  "language_info": {
   "codemirror_mode": {
    "name": "ipython",
    "version": 3
   },
   "file_extension": ".py",
   "mimetype": "text/x-python",
   "name": "python",
   "nbconvert_exporter": "python",
   "pygments_lexer": "ipython3",
   "version": "3.10.12"
  },
  "papermill": {
   "default_parameters": {},
   "duration": 133.630699,
   "end_time": "2023-09-05T16:20:50.210124",
   "environment_variables": {},
   "exception": null,
   "input_path": "__notebook__.ipynb",
   "output_path": "__notebook__.ipynb",
   "parameters": {},
   "start_time": "2023-09-05T16:18:36.579425",
   "version": "2.4.0"
  }
 },
 "nbformat": 4,
 "nbformat_minor": 5
}

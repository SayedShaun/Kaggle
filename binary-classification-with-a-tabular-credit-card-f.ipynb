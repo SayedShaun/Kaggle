{
 "cells": [
  {
   "cell_type": "code",
   "execution_count": 1,
   "id": "0f38ef05",
   "metadata": {
    "_cell_guid": "b1076dfc-b9ad-4769-8c92-a6c4dae69d19",
    "_uuid": "8f2839f25d086af736a60e9eeb907d3b93b6e0e5",
    "execution": {
     "iopub.execute_input": "2023-08-03T15:19:32.402338Z",
     "iopub.status.busy": "2023-08-03T15:19:32.401964Z",
     "iopub.status.idle": "2023-08-03T15:19:33.781701Z",
     "shell.execute_reply": "2023-08-03T15:19:33.780687Z"
    },
    "papermill": {
     "duration": 1.38914,
     "end_time": "2023-08-03T15:19:33.784028",
     "exception": false,
     "start_time": "2023-08-03T15:19:32.394888",
     "status": "completed"
    },
    "tags": []
   },
   "outputs": [
    {
     "name": "stderr",
     "output_type": "stream",
     "text": [
      "/opt/conda/lib/python3.10/site-packages/scipy/__init__.py:146: UserWarning: A NumPy version >=1.16.5 and <1.23.0 is required for this version of SciPy (detected version 1.23.5\n",
      "  warnings.warn(f\"A NumPy version >={np_minversion} and <{np_maxversion}\"\n"
     ]
    }
   ],
   "source": [
    "import numpy as np \n",
    "import pandas as pd \n",
    "import matplotlib.pyplot as plt\n",
    "import seaborn as sns"
   ]
  },
  {
   "cell_type": "code",
   "execution_count": 2,
   "id": "85599254",
   "metadata": {
    "execution": {
     "iopub.execute_input": "2023-08-03T15:19:33.795848Z",
     "iopub.status.busy": "2023-08-03T15:19:33.795449Z",
     "iopub.status.idle": "2023-08-03T15:19:37.352311Z",
     "shell.execute_reply": "2023-08-03T15:19:37.351252Z"
    },
    "papermill": {
     "duration": 3.56562,
     "end_time": "2023-08-03T15:19:37.354822",
     "exception": false,
     "start_time": "2023-08-03T15:19:33.789202",
     "status": "completed"
    },
    "tags": []
   },
   "outputs": [
    {
     "data": {
      "text/html": [
       "<div>\n",
       "<style scoped>\n",
       "    .dataframe tbody tr th:only-of-type {\n",
       "        vertical-align: middle;\n",
       "    }\n",
       "\n",
       "    .dataframe tbody tr th {\n",
       "        vertical-align: top;\n",
       "    }\n",
       "\n",
       "    .dataframe thead th {\n",
       "        text-align: right;\n",
       "    }\n",
       "</style>\n",
       "<table border=\"1\" class=\"dataframe\">\n",
       "  <thead>\n",
       "    <tr style=\"text-align: right;\">\n",
       "      <th></th>\n",
       "      <th>id</th>\n",
       "      <th>Time</th>\n",
       "      <th>V1</th>\n",
       "      <th>V2</th>\n",
       "      <th>V3</th>\n",
       "      <th>V4</th>\n",
       "      <th>V5</th>\n",
       "      <th>V6</th>\n",
       "      <th>V7</th>\n",
       "      <th>V8</th>\n",
       "      <th>...</th>\n",
       "      <th>V21</th>\n",
       "      <th>V22</th>\n",
       "      <th>V23</th>\n",
       "      <th>V24</th>\n",
       "      <th>V25</th>\n",
       "      <th>V26</th>\n",
       "      <th>V27</th>\n",
       "      <th>V28</th>\n",
       "      <th>Amount</th>\n",
       "      <th>Class</th>\n",
       "    </tr>\n",
       "  </thead>\n",
       "  <tbody>\n",
       "    <tr>\n",
       "      <th>0</th>\n",
       "      <td>0</td>\n",
       "      <td>0.0</td>\n",
       "      <td>2.074329</td>\n",
       "      <td>-0.129425</td>\n",
       "      <td>-1.137418</td>\n",
       "      <td>0.412846</td>\n",
       "      <td>-0.192638</td>\n",
       "      <td>-1.210144</td>\n",
       "      <td>0.110697</td>\n",
       "      <td>-0.263477</td>\n",
       "      <td>...</td>\n",
       "      <td>-0.334701</td>\n",
       "      <td>-0.887840</td>\n",
       "      <td>0.336701</td>\n",
       "      <td>-0.110835</td>\n",
       "      <td>-0.291459</td>\n",
       "      <td>0.207733</td>\n",
       "      <td>-0.076576</td>\n",
       "      <td>-0.059577</td>\n",
       "      <td>1.98</td>\n",
       "      <td>0</td>\n",
       "    </tr>\n",
       "    <tr>\n",
       "      <th>1</th>\n",
       "      <td>1</td>\n",
       "      <td>0.0</td>\n",
       "      <td>1.998827</td>\n",
       "      <td>-1.250891</td>\n",
       "      <td>-0.520969</td>\n",
       "      <td>-0.894539</td>\n",
       "      <td>-1.122528</td>\n",
       "      <td>-0.270866</td>\n",
       "      <td>-1.029289</td>\n",
       "      <td>0.050198</td>\n",
       "      <td>...</td>\n",
       "      <td>0.054848</td>\n",
       "      <td>-0.038367</td>\n",
       "      <td>0.133518</td>\n",
       "      <td>-0.461928</td>\n",
       "      <td>-0.465491</td>\n",
       "      <td>-0.464655</td>\n",
       "      <td>-0.009413</td>\n",
       "      <td>-0.038238</td>\n",
       "      <td>84.00</td>\n",
       "      <td>0</td>\n",
       "    </tr>\n",
       "    <tr>\n",
       "      <th>2</th>\n",
       "      <td>2</td>\n",
       "      <td>0.0</td>\n",
       "      <td>0.091535</td>\n",
       "      <td>1.004517</td>\n",
       "      <td>-0.223445</td>\n",
       "      <td>-0.435249</td>\n",
       "      <td>0.667548</td>\n",
       "      <td>-0.988351</td>\n",
       "      <td>0.948146</td>\n",
       "      <td>-0.084789</td>\n",
       "      <td>...</td>\n",
       "      <td>-0.326725</td>\n",
       "      <td>-0.803736</td>\n",
       "      <td>0.154495</td>\n",
       "      <td>0.951233</td>\n",
       "      <td>-0.506919</td>\n",
       "      <td>0.085046</td>\n",
       "      <td>0.224458</td>\n",
       "      <td>0.087356</td>\n",
       "      <td>2.69</td>\n",
       "      <td>0</td>\n",
       "    </tr>\n",
       "    <tr>\n",
       "      <th>3</th>\n",
       "      <td>3</td>\n",
       "      <td>0.0</td>\n",
       "      <td>1.979649</td>\n",
       "      <td>-0.184949</td>\n",
       "      <td>-1.064206</td>\n",
       "      <td>0.120125</td>\n",
       "      <td>-0.215238</td>\n",
       "      <td>-0.648829</td>\n",
       "      <td>-0.087826</td>\n",
       "      <td>-0.035367</td>\n",
       "      <td>...</td>\n",
       "      <td>-0.095514</td>\n",
       "      <td>-0.079792</td>\n",
       "      <td>0.167701</td>\n",
       "      <td>-0.042939</td>\n",
       "      <td>0.000799</td>\n",
       "      <td>-0.096148</td>\n",
       "      <td>-0.057780</td>\n",
       "      <td>-0.073839</td>\n",
       "      <td>1.00</td>\n",
       "      <td>0</td>\n",
       "    </tr>\n",
       "    <tr>\n",
       "      <th>4</th>\n",
       "      <td>4</td>\n",
       "      <td>0.0</td>\n",
       "      <td>1.025898</td>\n",
       "      <td>-0.171827</td>\n",
       "      <td>1.203717</td>\n",
       "      <td>1.243900</td>\n",
       "      <td>-0.636572</td>\n",
       "      <td>1.099074</td>\n",
       "      <td>-0.938651</td>\n",
       "      <td>0.569239</td>\n",
       "      <td>...</td>\n",
       "      <td>0.099157</td>\n",
       "      <td>0.608908</td>\n",
       "      <td>0.027901</td>\n",
       "      <td>-0.262813</td>\n",
       "      <td>0.257834</td>\n",
       "      <td>-0.252829</td>\n",
       "      <td>0.108338</td>\n",
       "      <td>0.021051</td>\n",
       "      <td>1.00</td>\n",
       "      <td>0</td>\n",
       "    </tr>\n",
       "  </tbody>\n",
       "</table>\n",
       "<p>5 rows × 32 columns</p>\n",
       "</div>"
      ],
      "text/plain": [
       "   id  Time        V1        V2        V3        V4        V5        V6  \\\n",
       "0   0   0.0  2.074329 -0.129425 -1.137418  0.412846 -0.192638 -1.210144   \n",
       "1   1   0.0  1.998827 -1.250891 -0.520969 -0.894539 -1.122528 -0.270866   \n",
       "2   2   0.0  0.091535  1.004517 -0.223445 -0.435249  0.667548 -0.988351   \n",
       "3   3   0.0  1.979649 -0.184949 -1.064206  0.120125 -0.215238 -0.648829   \n",
       "4   4   0.0  1.025898 -0.171827  1.203717  1.243900 -0.636572  1.099074   \n",
       "\n",
       "         V7        V8  ...       V21       V22       V23       V24       V25  \\\n",
       "0  0.110697 -0.263477  ... -0.334701 -0.887840  0.336701 -0.110835 -0.291459   \n",
       "1 -1.029289  0.050198  ...  0.054848 -0.038367  0.133518 -0.461928 -0.465491   \n",
       "2  0.948146 -0.084789  ... -0.326725 -0.803736  0.154495  0.951233 -0.506919   \n",
       "3 -0.087826 -0.035367  ... -0.095514 -0.079792  0.167701 -0.042939  0.000799   \n",
       "4 -0.938651  0.569239  ...  0.099157  0.608908  0.027901 -0.262813  0.257834   \n",
       "\n",
       "        V26       V27       V28  Amount  Class  \n",
       "0  0.207733 -0.076576 -0.059577    1.98      0  \n",
       "1 -0.464655 -0.009413 -0.038238   84.00      0  \n",
       "2  0.085046  0.224458  0.087356    2.69      0  \n",
       "3 -0.096148 -0.057780 -0.073839    1.00      0  \n",
       "4 -0.252829  0.108338  0.021051    1.00      0  \n",
       "\n",
       "[5 rows x 32 columns]"
      ]
     },
     "execution_count": 2,
     "metadata": {},
     "output_type": "execute_result"
    }
   ],
   "source": [
    "df = pd.read_csv(\"/kaggle/input/playground-series-s3e4/train.csv\")\n",
    "df.head()"
   ]
  },
  {
   "cell_type": "code",
   "execution_count": 3,
   "id": "b29de2ee",
   "metadata": {
    "execution": {
     "iopub.execute_input": "2023-08-03T15:19:37.367096Z",
     "iopub.status.busy": "2023-08-03T15:19:37.366735Z",
     "iopub.status.idle": "2023-08-03T15:19:37.372840Z",
     "shell.execute_reply": "2023-08-03T15:19:37.371835Z"
    },
    "papermill": {
     "duration": 0.014707,
     "end_time": "2023-08-03T15:19:37.375017",
     "exception": false,
     "start_time": "2023-08-03T15:19:37.360310",
     "status": "completed"
    },
    "tags": []
   },
   "outputs": [
    {
     "data": {
      "text/plain": [
       "(219129, 32)"
      ]
     },
     "execution_count": 3,
     "metadata": {},
     "output_type": "execute_result"
    }
   ],
   "source": [
    "df.shape"
   ]
  },
  {
   "cell_type": "code",
   "execution_count": 4,
   "id": "93c17534",
   "metadata": {
    "execution": {
     "iopub.execute_input": "2023-08-03T15:19:37.388369Z",
     "iopub.status.busy": "2023-08-03T15:19:37.388012Z",
     "iopub.status.idle": "2023-08-03T15:19:37.411566Z",
     "shell.execute_reply": "2023-08-03T15:19:37.410534Z"
    },
    "papermill": {
     "duration": 0.033165,
     "end_time": "2023-08-03T15:19:37.414105",
     "exception": false,
     "start_time": "2023-08-03T15:19:37.380940",
     "status": "completed"
    },
    "tags": []
   },
   "outputs": [
    {
     "data": {
      "text/plain": [
       "id        0\n",
       "Time      0\n",
       "V1        0\n",
       "V2        0\n",
       "V3        0\n",
       "V4        0\n",
       "V5        0\n",
       "V6        0\n",
       "V7        0\n",
       "V8        0\n",
       "V9        0\n",
       "V10       0\n",
       "V11       0\n",
       "V12       0\n",
       "V13       0\n",
       "V14       0\n",
       "V15       0\n",
       "V16       0\n",
       "V17       0\n",
       "V18       0\n",
       "V19       0\n",
       "V20       0\n",
       "V21       0\n",
       "V22       0\n",
       "V23       0\n",
       "V24       0\n",
       "V25       0\n",
       "V26       0\n",
       "V27       0\n",
       "V28       0\n",
       "Amount    0\n",
       "Class     0\n",
       "dtype: int64"
      ]
     },
     "execution_count": 4,
     "metadata": {},
     "output_type": "execute_result"
    }
   ],
   "source": [
    "df.isnull().sum()"
   ]
  },
  {
   "cell_type": "code",
   "execution_count": 5,
   "id": "ec0256ef",
   "metadata": {
    "execution": {
     "iopub.execute_input": "2023-08-03T15:19:37.429396Z",
     "iopub.status.busy": "2023-08-03T15:19:37.428879Z",
     "iopub.status.idle": "2023-08-03T15:19:37.467601Z",
     "shell.execute_reply": "2023-08-03T15:19:37.466123Z"
    },
    "papermill": {
     "duration": 0.05085,
     "end_time": "2023-08-03T15:19:37.470502",
     "exception": false,
     "start_time": "2023-08-03T15:19:37.419652",
     "status": "completed"
    },
    "tags": []
   },
   "outputs": [
    {
     "name": "stdout",
     "output_type": "stream",
     "text": [
      "<class 'pandas.core.frame.DataFrame'>\n",
      "RangeIndex: 219129 entries, 0 to 219128\n",
      "Data columns (total 32 columns):\n",
      " #   Column  Non-Null Count   Dtype  \n",
      "---  ------  --------------   -----  \n",
      " 0   id      219129 non-null  int64  \n",
      " 1   Time    219129 non-null  float64\n",
      " 2   V1      219129 non-null  float64\n",
      " 3   V2      219129 non-null  float64\n",
      " 4   V3      219129 non-null  float64\n",
      " 5   V4      219129 non-null  float64\n",
      " 6   V5      219129 non-null  float64\n",
      " 7   V6      219129 non-null  float64\n",
      " 8   V7      219129 non-null  float64\n",
      " 9   V8      219129 non-null  float64\n",
      " 10  V9      219129 non-null  float64\n",
      " 11  V10     219129 non-null  float64\n",
      " 12  V11     219129 non-null  float64\n",
      " 13  V12     219129 non-null  float64\n",
      " 14  V13     219129 non-null  float64\n",
      " 15  V14     219129 non-null  float64\n",
      " 16  V15     219129 non-null  float64\n",
      " 17  V16     219129 non-null  float64\n",
      " 18  V17     219129 non-null  float64\n",
      " 19  V18     219129 non-null  float64\n",
      " 20  V19     219129 non-null  float64\n",
      " 21  V20     219129 non-null  float64\n",
      " 22  V21     219129 non-null  float64\n",
      " 23  V22     219129 non-null  float64\n",
      " 24  V23     219129 non-null  float64\n",
      " 25  V24     219129 non-null  float64\n",
      " 26  V25     219129 non-null  float64\n",
      " 27  V26     219129 non-null  float64\n",
      " 28  V27     219129 non-null  float64\n",
      " 29  V28     219129 non-null  float64\n",
      " 30  Amount  219129 non-null  float64\n",
      " 31  Class   219129 non-null  int64  \n",
      "dtypes: float64(30), int64(2)\n",
      "memory usage: 53.5 MB\n"
     ]
    }
   ],
   "source": [
    "df.info()"
   ]
  },
  {
   "cell_type": "code",
   "execution_count": 6,
   "id": "52213aab",
   "metadata": {
    "execution": {
     "iopub.execute_input": "2023-08-03T15:19:37.484236Z",
     "iopub.status.busy": "2023-08-03T15:19:37.483157Z",
     "iopub.status.idle": "2023-08-03T15:19:37.493524Z",
     "shell.execute_reply": "2023-08-03T15:19:37.492501Z"
    },
    "papermill": {
     "duration": 0.019477,
     "end_time": "2023-08-03T15:19:37.495715",
     "exception": false,
     "start_time": "2023-08-03T15:19:37.476238",
     "status": "completed"
    },
    "tags": []
   },
   "outputs": [
    {
     "data": {
      "text/plain": [
       "0    218660\n",
       "1       469\n",
       "Name: Class, dtype: int64"
      ]
     },
     "execution_count": 6,
     "metadata": {},
     "output_type": "execute_result"
    }
   ],
   "source": [
    "df[\"Class\"].value_counts()"
   ]
  },
  {
   "cell_type": "code",
   "execution_count": 7,
   "id": "f6c7f914",
   "metadata": {
    "execution": {
     "iopub.execute_input": "2023-08-03T15:19:37.509523Z",
     "iopub.status.busy": "2023-08-03T15:19:37.508498Z",
     "iopub.status.idle": "2023-08-03T15:19:37.554861Z",
     "shell.execute_reply": "2023-08-03T15:19:37.553473Z"
    },
    "papermill": {
     "duration": 0.055857,
     "end_time": "2023-08-03T15:19:37.557359",
     "exception": false,
     "start_time": "2023-08-03T15:19:37.501502",
     "status": "completed"
    },
    "tags": []
   },
   "outputs": [
    {
     "data": {
      "text/plain": [
       "(218660, 32)"
      ]
     },
     "execution_count": 7,
     "metadata": {},
     "output_type": "execute_result"
    }
   ],
   "source": [
    "not_fraud = df[df[\"Class\"]==0]\n",
    "not_fraud.shape"
   ]
  },
  {
   "cell_type": "code",
   "execution_count": 8,
   "id": "155349c5",
   "metadata": {
    "execution": {
     "iopub.execute_input": "2023-08-03T15:19:37.570903Z",
     "iopub.status.busy": "2023-08-03T15:19:37.570532Z",
     "iopub.status.idle": "2023-08-03T15:19:37.578816Z",
     "shell.execute_reply": "2023-08-03T15:19:37.577690Z"
    },
    "papermill": {
     "duration": 0.017961,
     "end_time": "2023-08-03T15:19:37.581100",
     "exception": false,
     "start_time": "2023-08-03T15:19:37.563139",
     "status": "completed"
    },
    "tags": []
   },
   "outputs": [
    {
     "data": {
      "text/plain": [
       "(469, 32)"
      ]
     },
     "execution_count": 8,
     "metadata": {},
     "output_type": "execute_result"
    }
   ],
   "source": [
    "fraud = df[df[\"Class\"]==1]\n",
    "fraud.shape"
   ]
  },
  {
   "cell_type": "code",
   "execution_count": 9,
   "id": "8d283748",
   "metadata": {
    "execution": {
     "iopub.execute_input": "2023-08-03T15:19:37.594503Z",
     "iopub.status.busy": "2023-08-03T15:19:37.594105Z",
     "iopub.status.idle": "2023-08-03T15:19:37.607951Z",
     "shell.execute_reply": "2023-08-03T15:19:37.606838Z"
    },
    "papermill": {
     "duration": 0.023042,
     "end_time": "2023-08-03T15:19:37.610063",
     "exception": false,
     "start_time": "2023-08-03T15:19:37.587021",
     "status": "completed"
    },
    "tags": []
   },
   "outputs": [
    {
     "data": {
      "text/plain": [
       "(469, 32)"
      ]
     },
     "execution_count": 9,
     "metadata": {},
     "output_type": "execute_result"
    }
   ],
   "source": [
    "not_fraud = not_fraud.sample(fraud.shape[0])\n",
    "not_fraud.shape"
   ]
  },
  {
   "cell_type": "code",
   "execution_count": 10,
   "id": "5a008a67",
   "metadata": {
    "execution": {
     "iopub.execute_input": "2023-08-03T15:19:37.623910Z",
     "iopub.status.busy": "2023-08-03T15:19:37.623551Z",
     "iopub.status.idle": "2023-08-03T15:19:37.632653Z",
     "shell.execute_reply": "2023-08-03T15:19:37.631385Z"
    },
    "papermill": {
     "duration": 0.018758,
     "end_time": "2023-08-03T15:19:37.635006",
     "exception": false,
     "start_time": "2023-08-03T15:19:37.616248",
     "status": "completed"
    },
    "tags": []
   },
   "outputs": [
    {
     "name": "stderr",
     "output_type": "stream",
     "text": [
      "/tmp/ipykernel_20/2381272477.py:1: FutureWarning: The frame.append method is deprecated and will be removed from pandas in a future version. Use pandas.concat instead.\n",
      "  data = fraud.append(not_fraud, ignore_index = False)\n"
     ]
    },
    {
     "data": {
      "text/plain": [
       "(938, 32)"
      ]
     },
     "execution_count": 10,
     "metadata": {},
     "output_type": "execute_result"
    }
   ],
   "source": [
    "data = fraud.append(not_fraud, ignore_index = False)\n",
    "data.shape"
   ]
  },
  {
   "cell_type": "code",
   "execution_count": 11,
   "id": "5f5a3b04",
   "metadata": {
    "execution": {
     "iopub.execute_input": "2023-08-03T15:19:37.649062Z",
     "iopub.status.busy": "2023-08-03T15:19:37.648324Z",
     "iopub.status.idle": "2023-08-03T15:19:37.678410Z",
     "shell.execute_reply": "2023-08-03T15:19:37.677275Z"
    },
    "papermill": {
     "duration": 0.039661,
     "end_time": "2023-08-03T15:19:37.680695",
     "exception": false,
     "start_time": "2023-08-03T15:19:37.641034",
     "status": "completed"
    },
    "tags": []
   },
   "outputs": [
    {
     "data": {
      "text/html": [
       "<div>\n",
       "<style scoped>\n",
       "    .dataframe tbody tr th:only-of-type {\n",
       "        vertical-align: middle;\n",
       "    }\n",
       "\n",
       "    .dataframe tbody tr th {\n",
       "        vertical-align: top;\n",
       "    }\n",
       "\n",
       "    .dataframe thead th {\n",
       "        text-align: right;\n",
       "    }\n",
       "</style>\n",
       "<table border=\"1\" class=\"dataframe\">\n",
       "  <thead>\n",
       "    <tr style=\"text-align: right;\">\n",
       "      <th></th>\n",
       "      <th>id</th>\n",
       "      <th>Time</th>\n",
       "      <th>V1</th>\n",
       "      <th>V2</th>\n",
       "      <th>V3</th>\n",
       "      <th>V4</th>\n",
       "      <th>V5</th>\n",
       "      <th>V6</th>\n",
       "      <th>V7</th>\n",
       "      <th>V8</th>\n",
       "      <th>...</th>\n",
       "      <th>V21</th>\n",
       "      <th>V22</th>\n",
       "      <th>V23</th>\n",
       "      <th>V24</th>\n",
       "      <th>V25</th>\n",
       "      <th>V26</th>\n",
       "      <th>V27</th>\n",
       "      <th>V28</th>\n",
       "      <th>Amount</th>\n",
       "      <th>Class</th>\n",
       "    </tr>\n",
       "  </thead>\n",
       "  <tbody>\n",
       "    <tr>\n",
       "      <th>1681</th>\n",
       "      <td>1681</td>\n",
       "      <td>764.0</td>\n",
       "      <td>0.845797</td>\n",
       "      <td>-1.063059</td>\n",
       "      <td>0.120133</td>\n",
       "      <td>-0.312570</td>\n",
       "      <td>-0.056194</td>\n",
       "      <td>1.944391</td>\n",
       "      <td>-0.661839</td>\n",
       "      <td>0.582721</td>\n",
       "      <td>...</td>\n",
       "      <td>-0.430906</td>\n",
       "      <td>-0.919078</td>\n",
       "      <td>0.123612</td>\n",
       "      <td>-1.420935</td>\n",
       "      <td>-0.072559</td>\n",
       "      <td>0.293439</td>\n",
       "      <td>0.061270</td>\n",
       "      <td>0.006448</td>\n",
       "      <td>136.58</td>\n",
       "      <td>1</td>\n",
       "    </tr>\n",
       "    <tr>\n",
       "      <th>2039</th>\n",
       "      <td>2039</td>\n",
       "      <td>923.0</td>\n",
       "      <td>-1.808089</td>\n",
       "      <td>1.794735</td>\n",
       "      <td>-2.574549</td>\n",
       "      <td>-1.944174</td>\n",
       "      <td>-4.093440</td>\n",
       "      <td>-1.360198</td>\n",
       "      <td>-8.837694</td>\n",
       "      <td>-3.865127</td>\n",
       "      <td>...</td>\n",
       "      <td>-2.662635</td>\n",
       "      <td>1.173416</td>\n",
       "      <td>-0.136751</td>\n",
       "      <td>0.739760</td>\n",
       "      <td>-0.692745</td>\n",
       "      <td>0.818293</td>\n",
       "      <td>0.745100</td>\n",
       "      <td>0.847648</td>\n",
       "      <td>2.00</td>\n",
       "      <td>1</td>\n",
       "    </tr>\n",
       "    <tr>\n",
       "      <th>2090</th>\n",
       "      <td>2090</td>\n",
       "      <td>1028.0</td>\n",
       "      <td>-0.368027</td>\n",
       "      <td>1.492913</td>\n",
       "      <td>0.653399</td>\n",
       "      <td>0.164478</td>\n",
       "      <td>-1.043918</td>\n",
       "      <td>0.766250</td>\n",
       "      <td>-2.717382</td>\n",
       "      <td>-6.944203</td>\n",
       "      <td>...</td>\n",
       "      <td>-0.058687</td>\n",
       "      <td>1.185031</td>\n",
       "      <td>0.290564</td>\n",
       "      <td>0.528459</td>\n",
       "      <td>0.764303</td>\n",
       "      <td>-0.017768</td>\n",
       "      <td>0.110884</td>\n",
       "      <td>0.307835</td>\n",
       "      <td>0.12</td>\n",
       "      <td>1</td>\n",
       "    </tr>\n",
       "    <tr>\n",
       "      <th>3072</th>\n",
       "      <td>3072</td>\n",
       "      <td>1328.0</td>\n",
       "      <td>1.990241</td>\n",
       "      <td>-0.185837</td>\n",
       "      <td>-1.039174</td>\n",
       "      <td>0.086245</td>\n",
       "      <td>0.107037</td>\n",
       "      <td>-0.409425</td>\n",
       "      <td>0.016713</td>\n",
       "      <td>-0.126446</td>\n",
       "      <td>...</td>\n",
       "      <td>-0.142725</td>\n",
       "      <td>-0.285513</td>\n",
       "      <td>0.263769</td>\n",
       "      <td>0.779628</td>\n",
       "      <td>-0.261358</td>\n",
       "      <td>0.255895</td>\n",
       "      <td>-0.074999</td>\n",
       "      <td>-0.059828</td>\n",
       "      <td>23.31</td>\n",
       "      <td>1</td>\n",
       "    </tr>\n",
       "    <tr>\n",
       "      <th>3780</th>\n",
       "      <td>3780</td>\n",
       "      <td>1438.0</td>\n",
       "      <td>-0.738582</td>\n",
       "      <td>0.654464</td>\n",
       "      <td>0.652465</td>\n",
       "      <td>-0.139933</td>\n",
       "      <td>1.183689</td>\n",
       "      <td>-0.037131</td>\n",
       "      <td>0.638169</td>\n",
       "      <td>0.136502</td>\n",
       "      <td>...</td>\n",
       "      <td>0.167918</td>\n",
       "      <td>0.563421</td>\n",
       "      <td>0.012614</td>\n",
       "      <td>-0.311213</td>\n",
       "      <td>0.105798</td>\n",
       "      <td>-0.252849</td>\n",
       "      <td>0.049231</td>\n",
       "      <td>0.108966</td>\n",
       "      <td>4.99</td>\n",
       "      <td>1</td>\n",
       "    </tr>\n",
       "    <tr>\n",
       "      <th>...</th>\n",
       "      <td>...</td>\n",
       "      <td>...</td>\n",
       "      <td>...</td>\n",
       "      <td>...</td>\n",
       "      <td>...</td>\n",
       "      <td>...</td>\n",
       "      <td>...</td>\n",
       "      <td>...</td>\n",
       "      <td>...</td>\n",
       "      <td>...</td>\n",
       "      <td>...</td>\n",
       "      <td>...</td>\n",
       "      <td>...</td>\n",
       "      <td>...</td>\n",
       "      <td>...</td>\n",
       "      <td>...</td>\n",
       "      <td>...</td>\n",
       "      <td>...</td>\n",
       "      <td>...</td>\n",
       "      <td>...</td>\n",
       "      <td>...</td>\n",
       "    </tr>\n",
       "    <tr>\n",
       "      <th>77227</th>\n",
       "      <td>77227</td>\n",
       "      <td>54423.0</td>\n",
       "      <td>0.749395</td>\n",
       "      <td>-1.165924</td>\n",
       "      <td>0.090714</td>\n",
       "      <td>0.358049</td>\n",
       "      <td>-0.925991</td>\n",
       "      <td>-1.006444</td>\n",
       "      <td>0.247948</td>\n",
       "      <td>-0.304737</td>\n",
       "      <td>...</td>\n",
       "      <td>-0.185916</td>\n",
       "      <td>-0.756619</td>\n",
       "      <td>-0.265945</td>\n",
       "      <td>-0.146400</td>\n",
       "      <td>0.281539</td>\n",
       "      <td>-0.409899</td>\n",
       "      <td>-0.068496</td>\n",
       "      <td>0.049181</td>\n",
       "      <td>314.00</td>\n",
       "      <td>0</td>\n",
       "    </tr>\n",
       "    <tr>\n",
       "      <th>200974</th>\n",
       "      <td>200974</td>\n",
       "      <td>97434.0</td>\n",
       "      <td>2.014917</td>\n",
       "      <td>-0.189540</td>\n",
       "      <td>-0.834674</td>\n",
       "      <td>0.084859</td>\n",
       "      <td>-0.087492</td>\n",
       "      <td>0.013524</td>\n",
       "      <td>-0.505048</td>\n",
       "      <td>0.034427</td>\n",
       "      <td>...</td>\n",
       "      <td>-0.293329</td>\n",
       "      <td>-0.591246</td>\n",
       "      <td>0.378826</td>\n",
       "      <td>0.284827</td>\n",
       "      <td>-0.609909</td>\n",
       "      <td>0.923695</td>\n",
       "      <td>-0.079475</td>\n",
       "      <td>-0.068510</td>\n",
       "      <td>14.95</td>\n",
       "      <td>0</td>\n",
       "    </tr>\n",
       "    <tr>\n",
       "      <th>206054</th>\n",
       "      <td>206054</td>\n",
       "      <td>109883.0</td>\n",
       "      <td>-0.569184</td>\n",
       "      <td>0.743145</td>\n",
       "      <td>2.056367</td>\n",
       "      <td>-0.302418</td>\n",
       "      <td>0.711018</td>\n",
       "      <td>0.505857</td>\n",
       "      <td>0.397726</td>\n",
       "      <td>-0.074927</td>\n",
       "      <td>...</td>\n",
       "      <td>-0.288768</td>\n",
       "      <td>-0.394518</td>\n",
       "      <td>-0.328254</td>\n",
       "      <td>-0.880503</td>\n",
       "      <td>0.296901</td>\n",
       "      <td>-0.677221</td>\n",
       "      <td>-0.083788</td>\n",
       "      <td>-0.099163</td>\n",
       "      <td>2.12</td>\n",
       "      <td>0</td>\n",
       "    </tr>\n",
       "    <tr>\n",
       "      <th>76208</th>\n",
       "      <td>76208</td>\n",
       "      <td>53976.0</td>\n",
       "      <td>-0.476616</td>\n",
       "      <td>0.557914</td>\n",
       "      <td>1.624175</td>\n",
       "      <td>-1.353527</td>\n",
       "      <td>0.193848</td>\n",
       "      <td>-0.707569</td>\n",
       "      <td>0.664503</td>\n",
       "      <td>-0.068803</td>\n",
       "      <td>...</td>\n",
       "      <td>-0.056534</td>\n",
       "      <td>-0.167421</td>\n",
       "      <td>-0.161249</td>\n",
       "      <td>0.036266</td>\n",
       "      <td>-0.402498</td>\n",
       "      <td>0.788798</td>\n",
       "      <td>-0.161718</td>\n",
       "      <td>-0.097958</td>\n",
       "      <td>2.31</td>\n",
       "      <td>0</td>\n",
       "    </tr>\n",
       "    <tr>\n",
       "      <th>177614</th>\n",
       "      <td>177614</td>\n",
       "      <td>80980.0</td>\n",
       "      <td>-0.906264</td>\n",
       "      <td>0.382417</td>\n",
       "      <td>1.424818</td>\n",
       "      <td>0.757739</td>\n",
       "      <td>1.373070</td>\n",
       "      <td>-0.762237</td>\n",
       "      <td>0.867447</td>\n",
       "      <td>-0.245958</td>\n",
       "      <td>...</td>\n",
       "      <td>0.019924</td>\n",
       "      <td>0.064047</td>\n",
       "      <td>-0.270139</td>\n",
       "      <td>0.013858</td>\n",
       "      <td>0.807566</td>\n",
       "      <td>-0.266567</td>\n",
       "      <td>-0.095914</td>\n",
       "      <td>-0.117733</td>\n",
       "      <td>1.00</td>\n",
       "      <td>0</td>\n",
       "    </tr>\n",
       "  </tbody>\n",
       "</table>\n",
       "<p>938 rows × 32 columns</p>\n",
       "</div>"
      ],
      "text/plain": [
       "            id      Time        V1        V2        V3        V4        V5  \\\n",
       "1681      1681     764.0  0.845797 -1.063059  0.120133 -0.312570 -0.056194   \n",
       "2039      2039     923.0 -1.808089  1.794735 -2.574549 -1.944174 -4.093440   \n",
       "2090      2090    1028.0 -0.368027  1.492913  0.653399  0.164478 -1.043918   \n",
       "3072      3072    1328.0  1.990241 -0.185837 -1.039174  0.086245  0.107037   \n",
       "3780      3780    1438.0 -0.738582  0.654464  0.652465 -0.139933  1.183689   \n",
       "...        ...       ...       ...       ...       ...       ...       ...   \n",
       "77227    77227   54423.0  0.749395 -1.165924  0.090714  0.358049 -0.925991   \n",
       "200974  200974   97434.0  2.014917 -0.189540 -0.834674  0.084859 -0.087492   \n",
       "206054  206054  109883.0 -0.569184  0.743145  2.056367 -0.302418  0.711018   \n",
       "76208    76208   53976.0 -0.476616  0.557914  1.624175 -1.353527  0.193848   \n",
       "177614  177614   80980.0 -0.906264  0.382417  1.424818  0.757739  1.373070   \n",
       "\n",
       "              V6        V7        V8  ...       V21       V22       V23  \\\n",
       "1681    1.944391 -0.661839  0.582721  ... -0.430906 -0.919078  0.123612   \n",
       "2039   -1.360198 -8.837694 -3.865127  ... -2.662635  1.173416 -0.136751   \n",
       "2090    0.766250 -2.717382 -6.944203  ... -0.058687  1.185031  0.290564   \n",
       "3072   -0.409425  0.016713 -0.126446  ... -0.142725 -0.285513  0.263769   \n",
       "3780   -0.037131  0.638169  0.136502  ...  0.167918  0.563421  0.012614   \n",
       "...          ...       ...       ...  ...       ...       ...       ...   \n",
       "77227  -1.006444  0.247948 -0.304737  ... -0.185916 -0.756619 -0.265945   \n",
       "200974  0.013524 -0.505048  0.034427  ... -0.293329 -0.591246  0.378826   \n",
       "206054  0.505857  0.397726 -0.074927  ... -0.288768 -0.394518 -0.328254   \n",
       "76208  -0.707569  0.664503 -0.068803  ... -0.056534 -0.167421 -0.161249   \n",
       "177614 -0.762237  0.867447 -0.245958  ...  0.019924  0.064047 -0.270139   \n",
       "\n",
       "             V24       V25       V26       V27       V28  Amount  Class  \n",
       "1681   -1.420935 -0.072559  0.293439  0.061270  0.006448  136.58      1  \n",
       "2039    0.739760 -0.692745  0.818293  0.745100  0.847648    2.00      1  \n",
       "2090    0.528459  0.764303 -0.017768  0.110884  0.307835    0.12      1  \n",
       "3072    0.779628 -0.261358  0.255895 -0.074999 -0.059828   23.31      1  \n",
       "3780   -0.311213  0.105798 -0.252849  0.049231  0.108966    4.99      1  \n",
       "...          ...       ...       ...       ...       ...     ...    ...  \n",
       "77227  -0.146400  0.281539 -0.409899 -0.068496  0.049181  314.00      0  \n",
       "200974  0.284827 -0.609909  0.923695 -0.079475 -0.068510   14.95      0  \n",
       "206054 -0.880503  0.296901 -0.677221 -0.083788 -0.099163    2.12      0  \n",
       "76208   0.036266 -0.402498  0.788798 -0.161718 -0.097958    2.31      0  \n",
       "177614  0.013858  0.807566 -0.266567 -0.095914 -0.117733    1.00      0  \n",
       "\n",
       "[938 rows x 32 columns]"
      ]
     },
     "execution_count": 11,
     "metadata": {},
     "output_type": "execute_result"
    }
   ],
   "source": [
    "data[\"Class\"].value_counts()\n",
    "data"
   ]
  },
  {
   "cell_type": "code",
   "execution_count": 12,
   "id": "59c1c422",
   "metadata": {
    "execution": {
     "iopub.execute_input": "2023-08-03T15:19:37.696296Z",
     "iopub.status.busy": "2023-08-03T15:19:37.695898Z",
     "iopub.status.idle": "2023-08-03T15:19:37.703935Z",
     "shell.execute_reply": "2023-08-03T15:19:37.702906Z"
    },
    "papermill": {
     "duration": 0.018372,
     "end_time": "2023-08-03T15:19:37.706095",
     "exception": false,
     "start_time": "2023-08-03T15:19:37.687723",
     "status": "completed"
    },
    "tags": []
   },
   "outputs": [
    {
     "data": {
      "text/plain": [
       "(938, 31)"
      ]
     },
     "execution_count": 12,
     "metadata": {},
     "output_type": "execute_result"
    }
   ],
   "source": [
    "y = data[\"Class\"]\n",
    "x = data.drop([\"Class\"], axis = 1)\n",
    "x.shape"
   ]
  },
  {
   "cell_type": "code",
   "execution_count": 13,
   "id": "e33f2ca1",
   "metadata": {
    "execution": {
     "iopub.execute_input": "2023-08-03T15:19:37.721368Z",
     "iopub.status.busy": "2023-08-03T15:19:37.720981Z",
     "iopub.status.idle": "2023-08-03T15:19:40.264893Z",
     "shell.execute_reply": "2023-08-03T15:19:40.263838Z"
    },
    "papermill": {
     "duration": 2.55429,
     "end_time": "2023-08-03T15:19:40.267192",
     "exception": false,
     "start_time": "2023-08-03T15:19:37.712902",
     "status": "completed"
    },
    "tags": []
   },
   "outputs": [
    {
     "data": {
      "text/plain": [
       "2"
      ]
     },
     "execution_count": 13,
     "metadata": {},
     "output_type": "execute_result"
    }
   ],
   "source": [
    "test_df = pd.read_csv(\"/kaggle/input/playground-series-s3e4/test.csv\")\n",
    "test_df.ndim"
   ]
  },
  {
   "cell_type": "code",
   "execution_count": 14,
   "id": "dd72031f",
   "metadata": {
    "execution": {
     "iopub.execute_input": "2023-08-03T15:19:40.282611Z",
     "iopub.status.busy": "2023-08-03T15:19:40.282208Z",
     "iopub.status.idle": "2023-08-03T15:19:40.484777Z",
     "shell.execute_reply": "2023-08-03T15:19:40.483806Z"
    },
    "papermill": {
     "duration": 0.21312,
     "end_time": "2023-08-03T15:19:40.487329",
     "exception": false,
     "start_time": "2023-08-03T15:19:40.274209",
     "status": "completed"
    },
    "tags": []
   },
   "outputs": [],
   "source": [
    "from sklearn.preprocessing import StandardScaler\n",
    "\n",
    "scaler = StandardScaler()\n",
    "x_train = scaler.fit_transform(x)\n",
    "x_test = scaler.transform(test_df)"
   ]
  },
  {
   "cell_type": "code",
   "execution_count": 15,
   "id": "b5418b04",
   "metadata": {
    "execution": {
     "iopub.execute_input": "2023-08-03T15:19:40.503563Z",
     "iopub.status.busy": "2023-08-03T15:19:40.502459Z",
     "iopub.status.idle": "2023-08-03T15:19:40.508187Z",
     "shell.execute_reply": "2023-08-03T15:19:40.507119Z"
    },
    "papermill": {
     "duration": 0.01628,
     "end_time": "2023-08-03T15:19:40.510603",
     "exception": false,
     "start_time": "2023-08-03T15:19:40.494323",
     "status": "completed"
    },
    "tags": []
   },
   "outputs": [],
   "source": [
    "y_train = y.to_numpy()"
   ]
  },
  {
   "cell_type": "code",
   "execution_count": 16,
   "id": "f6795bbe",
   "metadata": {
    "execution": {
     "iopub.execute_input": "2023-08-03T15:19:40.526164Z",
     "iopub.status.busy": "2023-08-03T15:19:40.525790Z",
     "iopub.status.idle": "2023-08-03T15:19:40.530939Z",
     "shell.execute_reply": "2023-08-03T15:19:40.529838Z"
    },
    "papermill": {
     "duration": 0.015436,
     "end_time": "2023-08-03T15:19:40.532995",
     "exception": false,
     "start_time": "2023-08-03T15:19:40.517559",
     "status": "completed"
    },
    "tags": []
   },
   "outputs": [],
   "source": [
    "x_train = x_train.reshape(x_train.shape[0], x_train.shape[1], 1)\n",
    "x_test = x_test.reshape(x_test.shape[0], x_test.shape[1], 1)"
   ]
  },
  {
   "cell_type": "code",
   "execution_count": 17,
   "id": "ae701b3e",
   "metadata": {
    "execution": {
     "iopub.execute_input": "2023-08-03T15:19:40.548967Z",
     "iopub.status.busy": "2023-08-03T15:19:40.547927Z",
     "iopub.status.idle": "2023-08-03T15:20:03.886282Z",
     "shell.execute_reply": "2023-08-03T15:20:03.884925Z"
    },
    "papermill": {
     "duration": 23.349339,
     "end_time": "2023-08-03T15:20:03.889196",
     "exception": false,
     "start_time": "2023-08-03T15:19:40.539857",
     "status": "completed"
    },
    "tags": []
   },
   "outputs": [
    {
     "name": "stderr",
     "output_type": "stream",
     "text": [
      "/opt/conda/lib/python3.10/site-packages/tensorflow_io/python/ops/__init__.py:98: UserWarning: unable to load libtensorflow_io_plugins.so: unable to open file: libtensorflow_io_plugins.so, from paths: ['/opt/conda/lib/python3.10/site-packages/tensorflow_io/python/ops/libtensorflow_io_plugins.so']\n",
      "caused by: ['/opt/conda/lib/python3.10/site-packages/tensorflow_io/python/ops/libtensorflow_io_plugins.so: undefined symbol: _ZN3tsl6StatusC1EN10tensorflow5error4CodeESt17basic_string_viewIcSt11char_traitsIcEENS_14SourceLocationE']\n",
      "  warnings.warn(f\"unable to load libtensorflow_io_plugins.so: {e}\")\n",
      "/opt/conda/lib/python3.10/site-packages/tensorflow_io/python/ops/__init__.py:104: UserWarning: file system plugins are not loaded: unable to open file: libtensorflow_io.so, from paths: ['/opt/conda/lib/python3.10/site-packages/tensorflow_io/python/ops/libtensorflow_io.so']\n",
      "caused by: ['/opt/conda/lib/python3.10/site-packages/tensorflow_io/python/ops/libtensorflow_io.so: undefined symbol: _ZTVN10tensorflow13GcsFileSystemE']\n",
      "  warnings.warn(f\"file system plugins are not loaded: {e}\")\n"
     ]
    },
    {
     "name": "stdout",
     "output_type": "stream",
     "text": [
      "Epoch 1/50\n",
      "30/30 [==============================] - 2s 16ms/step - loss: 0.7185 - accuracy: 0.6588 - val_loss: 0.6028 - val_accuracy: 0.5768\n",
      "Epoch 2/50\n",
      "30/30 [==============================] - 0s 8ms/step - loss: 0.6005 - accuracy: 0.7196 - val_loss: 0.5763 - val_accuracy: 0.6983\n",
      "Epoch 3/50\n",
      "30/30 [==============================] - 0s 9ms/step - loss: 0.5293 - accuracy: 0.7559 - val_loss: 0.5594 - val_accuracy: 0.7260\n",
      "Epoch 4/50\n",
      "30/30 [==============================] - 0s 9ms/step - loss: 0.4923 - accuracy: 0.7676 - val_loss: 0.5415 - val_accuracy: 0.7814\n",
      "Epoch 5/50\n",
      "30/30 [==============================] - 0s 9ms/step - loss: 0.4865 - accuracy: 0.7420 - val_loss: 0.5282 - val_accuracy: 0.8092\n",
      "Epoch 6/50\n",
      "30/30 [==============================] - 0s 8ms/step - loss: 0.4909 - accuracy: 0.7740 - val_loss: 0.5149 - val_accuracy: 0.8134\n",
      "Epoch 7/50\n",
      "30/30 [==============================] - 0s 8ms/step - loss: 0.4806 - accuracy: 0.7676 - val_loss: 0.4946 - val_accuracy: 0.8401\n",
      "Epoch 8/50\n",
      "30/30 [==============================] - 0s 8ms/step - loss: 0.4690 - accuracy: 0.7740 - val_loss: 0.4750 - val_accuracy: 0.8582\n",
      "Epoch 9/50\n",
      "30/30 [==============================] - 0s 8ms/step - loss: 0.4213 - accuracy: 0.7985 - val_loss: 0.4518 - val_accuracy: 0.8465\n",
      "Epoch 10/50\n",
      "30/30 [==============================] - 0s 9ms/step - loss: 0.4354 - accuracy: 0.7857 - val_loss: 0.4318 - val_accuracy: 0.8412\n",
      "Epoch 11/50\n",
      "30/30 [==============================] - 0s 8ms/step - loss: 0.4122 - accuracy: 0.8102 - val_loss: 0.4114 - val_accuracy: 0.8433\n",
      "Epoch 12/50\n",
      "30/30 [==============================] - 0s 9ms/step - loss: 0.4301 - accuracy: 0.8049 - val_loss: 0.3967 - val_accuracy: 0.8678\n",
      "Epoch 13/50\n",
      "30/30 [==============================] - 0s 8ms/step - loss: 0.3967 - accuracy: 0.8081 - val_loss: 0.3785 - val_accuracy: 0.8603\n",
      "Epoch 14/50\n",
      "30/30 [==============================] - 0s 8ms/step - loss: 0.3963 - accuracy: 0.8060 - val_loss: 0.3619 - val_accuracy: 0.8742\n",
      "Epoch 15/50\n",
      "30/30 [==============================] - 0s 8ms/step - loss: 0.4163 - accuracy: 0.8028 - val_loss: 0.3546 - val_accuracy: 0.8753\n",
      "Epoch 16/50\n",
      "30/30 [==============================] - 0s 8ms/step - loss: 0.3732 - accuracy: 0.8177 - val_loss: 0.3280 - val_accuracy: 0.8859\n",
      "Epoch 17/50\n",
      "30/30 [==============================] - 0s 8ms/step - loss: 0.3596 - accuracy: 0.8316 - val_loss: 0.3114 - val_accuracy: 0.8913\n",
      "Epoch 18/50\n",
      "30/30 [==============================] - 0s 8ms/step - loss: 0.3616 - accuracy: 0.8369 - val_loss: 0.3032 - val_accuracy: 0.9041\n",
      "Epoch 19/50\n",
      "30/30 [==============================] - 0s 8ms/step - loss: 0.3619 - accuracy: 0.8369 - val_loss: 0.2893 - val_accuracy: 0.9062\n",
      "Epoch 20/50\n",
      "30/30 [==============================] - 0s 8ms/step - loss: 0.3558 - accuracy: 0.8401 - val_loss: 0.2847 - val_accuracy: 0.8913\n",
      "Epoch 21/50\n",
      "30/30 [==============================] - 0s 8ms/step - loss: 0.3583 - accuracy: 0.8358 - val_loss: 0.2754 - val_accuracy: 0.9030\n",
      "Epoch 22/50\n",
      "30/30 [==============================] - 0s 8ms/step - loss: 0.3453 - accuracy: 0.8443 - val_loss: 0.2666 - val_accuracy: 0.9051\n",
      "Epoch 23/50\n",
      "30/30 [==============================] - 0s 8ms/step - loss: 0.3544 - accuracy: 0.8412 - val_loss: 0.2698 - val_accuracy: 0.8966\n",
      "Epoch 24/50\n",
      "30/30 [==============================] - 0s 9ms/step - loss: 0.3338 - accuracy: 0.8454 - val_loss: 0.2543 - val_accuracy: 0.9115\n",
      "Epoch 25/50\n",
      "30/30 [==============================] - 0s 8ms/step - loss: 0.3238 - accuracy: 0.8486 - val_loss: 0.2475 - val_accuracy: 0.9211\n",
      "Epoch 26/50\n",
      "30/30 [==============================] - 0s 8ms/step - loss: 0.3151 - accuracy: 0.8646 - val_loss: 0.2377 - val_accuracy: 0.9179\n",
      "Epoch 27/50\n",
      "30/30 [==============================] - 0s 8ms/step - loss: 0.3295 - accuracy: 0.8305 - val_loss: 0.2369 - val_accuracy: 0.9264\n",
      "Epoch 28/50\n",
      "30/30 [==============================] - 0s 8ms/step - loss: 0.3326 - accuracy: 0.8571 - val_loss: 0.2340 - val_accuracy: 0.9243\n",
      "Epoch 29/50\n",
      "30/30 [==============================] - 0s 8ms/step - loss: 0.3384 - accuracy: 0.8358 - val_loss: 0.2276 - val_accuracy: 0.9275\n",
      "Epoch 30/50\n",
      "30/30 [==============================] - 0s 8ms/step - loss: 0.3402 - accuracy: 0.8380 - val_loss: 0.2215 - val_accuracy: 0.9243\n",
      "Epoch 31/50\n",
      "30/30 [==============================] - 0s 8ms/step - loss: 0.3306 - accuracy: 0.8678 - val_loss: 0.2150 - val_accuracy: 0.9318\n",
      "Epoch 32/50\n",
      "30/30 [==============================] - 0s 8ms/step - loss: 0.2935 - accuracy: 0.8742 - val_loss: 0.2089 - val_accuracy: 0.9382\n",
      "Epoch 33/50\n",
      "30/30 [==============================] - 0s 8ms/step - loss: 0.3090 - accuracy: 0.8539 - val_loss: 0.2101 - val_accuracy: 0.9382\n",
      "Epoch 34/50\n",
      "30/30 [==============================] - 0s 8ms/step - loss: 0.2905 - accuracy: 0.8699 - val_loss: 0.2069 - val_accuracy: 0.9360\n",
      "Epoch 35/50\n",
      "30/30 [==============================] - 0s 8ms/step - loss: 0.3093 - accuracy: 0.8625 - val_loss: 0.2047 - val_accuracy: 0.9307\n",
      "Epoch 36/50\n",
      "30/30 [==============================] - 0s 8ms/step - loss: 0.2986 - accuracy: 0.8625 - val_loss: 0.1964 - val_accuracy: 0.9403\n",
      "Epoch 37/50\n",
      "30/30 [==============================] - 0s 9ms/step - loss: 0.2820 - accuracy: 0.8817 - val_loss: 0.1929 - val_accuracy: 0.9424\n",
      "Epoch 38/50\n",
      "30/30 [==============================] - 0s 9ms/step - loss: 0.2935 - accuracy: 0.8689 - val_loss: 0.2009 - val_accuracy: 0.9488\n",
      "Epoch 39/50\n",
      "30/30 [==============================] - 0s 8ms/step - loss: 0.2820 - accuracy: 0.8827 - val_loss: 0.1899 - val_accuracy: 0.9424\n",
      "Epoch 40/50\n",
      "30/30 [==============================] - 0s 9ms/step - loss: 0.2680 - accuracy: 0.8870 - val_loss: 0.1840 - val_accuracy: 0.9456\n",
      "Epoch 41/50\n",
      "30/30 [==============================] - 0s 8ms/step - loss: 0.2685 - accuracy: 0.8881 - val_loss: 0.1822 - val_accuracy: 0.9478\n",
      "Epoch 42/50\n",
      "30/30 [==============================] - 0s 9ms/step - loss: 0.3070 - accuracy: 0.8806 - val_loss: 0.1941 - val_accuracy: 0.9435\n",
      "Epoch 43/50\n",
      "30/30 [==============================] - 0s 9ms/step - loss: 0.2692 - accuracy: 0.8817 - val_loss: 0.1817 - val_accuracy: 0.9456\n",
      "Epoch 44/50\n",
      "30/30 [==============================] - 0s 9ms/step - loss: 0.2727 - accuracy: 0.8763 - val_loss: 0.1732 - val_accuracy: 0.9552\n",
      "Epoch 45/50\n",
      "30/30 [==============================] - 0s 10ms/step - loss: 0.2609 - accuracy: 0.8859 - val_loss: 0.1808 - val_accuracy: 0.9627\n",
      "Epoch 46/50\n",
      "30/30 [==============================] - 0s 13ms/step - loss: 0.2582 - accuracy: 0.8795 - val_loss: 0.1733 - val_accuracy: 0.9531\n",
      "Epoch 47/50\n",
      "30/30 [==============================] - 0s 10ms/step - loss: 0.2557 - accuracy: 0.8806 - val_loss: 0.1707 - val_accuracy: 0.9510\n",
      "Epoch 48/50\n",
      "30/30 [==============================] - 0s 10ms/step - loss: 0.2400 - accuracy: 0.8891 - val_loss: 0.1596 - val_accuracy: 0.9488\n",
      "Epoch 49/50\n",
      "30/30 [==============================] - 0s 10ms/step - loss: 0.2693 - accuracy: 0.8806 - val_loss: 0.1592 - val_accuracy: 0.9648\n",
      "Epoch 50/50\n",
      "30/30 [==============================] - 0s 9ms/step - loss: 0.2540 - accuracy: 0.9009 - val_loss: 0.1546 - val_accuracy: 0.9595\n"
     ]
    },
    {
     "data": {
      "text/plain": [
       "<keras.callbacks.History at 0x7a9c98609b40>"
      ]
     },
     "execution_count": 17,
     "metadata": {},
     "output_type": "execute_result"
    }
   ],
   "source": [
    "import tensorflow as tf\n",
    "\n",
    "model = tf.keras.Sequential([\n",
    "    \n",
    "    tf.keras.layers.Conv1D(64,kernel_size=3, activation = \"relu\"),\n",
    "    tf.keras.layers.BatchNormalization(),\n",
    "    tf.keras.layers.Dropout(0.2),\n",
    "    \n",
    "    tf.keras.layers.Flatten(),\n",
    "    tf.keras.layers.Dense(64, activation = \"relu\"),\n",
    "    tf.keras.layers.Dropout(0.5),\n",
    "    \n",
    "    tf.keras.layers.Dense(1, activation = \"sigmoid\")\n",
    "])\n",
    "\n",
    "model.compile(optimizer = tf.keras.optimizers.Adam(lr = 0.001), loss = tf.keras.losses.binary_crossentropy, metrics = [\"accuracy\"])\n",
    "\n",
    "model.fit(x_train, y_train, validation_data=(x_train, y_train), epochs=50,verbose = 1)\n",
    "\n"
   ]
  },
  {
   "cell_type": "code",
   "execution_count": null,
   "id": "5d67a931",
   "metadata": {
    "papermill": {
     "duration": 0.026017,
     "end_time": "2023-08-03T15:20:03.940883",
     "exception": false,
     "start_time": "2023-08-03T15:20:03.914866",
     "status": "completed"
    },
    "tags": []
   },
   "outputs": [],
   "source": []
  },
  {
   "cell_type": "code",
   "execution_count": 18,
   "id": "138cbb18",
   "metadata": {
    "execution": {
     "iopub.execute_input": "2023-08-03T15:20:03.994389Z",
     "iopub.status.busy": "2023-08-03T15:20:03.993980Z",
     "iopub.status.idle": "2023-08-03T15:20:04.137173Z",
     "shell.execute_reply": "2023-08-03T15:20:04.136033Z"
    },
    "papermill": {
     "duration": 0.172156,
     "end_time": "2023-08-03T15:20:04.139390",
     "exception": false,
     "start_time": "2023-08-03T15:20:03.967234",
     "status": "completed"
    },
    "tags": []
   },
   "outputs": [
    {
     "name": "stdout",
     "output_type": "stream",
     "text": [
      "30/30 [==============================] - 0s 2ms/step - loss: 0.1546 - accuracy: 0.9595\n",
      "Loss: 0.15462900698184967\n",
      "Accuracy: 0.9594882726669312\n"
     ]
    }
   ],
   "source": [
    "loss, accuracy = model.evaluate(x_train, y_train)\n",
    "\n",
    "print(\"Loss:\", loss)\n",
    "print(\"Accuracy:\", accuracy)"
   ]
  },
  {
   "cell_type": "code",
   "execution_count": null,
   "id": "ce8590f8",
   "metadata": {
    "papermill": {
     "duration": 0.0246,
     "end_time": "2023-08-03T15:20:04.189791",
     "exception": false,
     "start_time": "2023-08-03T15:20:04.165191",
     "status": "completed"
    },
    "tags": []
   },
   "outputs": [],
   "source": []
  }
 ],
 "metadata": {
  "kernelspec": {
   "display_name": "Python 3",
   "language": "python",
   "name": "python3"
  },
  "language_info": {
   "codemirror_mode": {
    "name": "ipython",
    "version": 3
   },
   "file_extension": ".py",
   "mimetype": "text/x-python",
   "name": "python",
   "nbconvert_exporter": "python",
   "pygments_lexer": "ipython3",
   "version": "3.10.12"
  },
  "papermill": {
   "default_parameters": {},
   "duration": 43.242933,
   "end_time": "2023-08-03T15:20:06.140988",
   "environment_variables": {},
   "exception": null,
   "input_path": "__notebook__.ipynb",
   "output_path": "__notebook__.ipynb",
   "parameters": {},
   "start_time": "2023-08-03T15:19:22.898055",
   "version": "2.4.0"
  }
 },
 "nbformat": 4,
 "nbformat_minor": 5
}

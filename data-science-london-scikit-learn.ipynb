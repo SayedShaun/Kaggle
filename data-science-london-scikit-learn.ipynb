{
 "cells": [
  {
   "cell_type": "code",
   "execution_count": 1,
   "id": "84d7cb5b",
   "metadata": {
    "_cell_guid": "b1076dfc-b9ad-4769-8c92-a6c4dae69d19",
    "_uuid": "8f2839f25d086af736a60e9eeb907d3b93b6e0e5",
    "execution": {
     "iopub.execute_input": "2023-08-02T08:59:11.665776Z",
     "iopub.status.busy": "2023-08-02T08:59:11.665238Z",
     "iopub.status.idle": "2023-08-02T08:59:13.150794Z",
     "shell.execute_reply": "2023-08-02T08:59:13.149794Z"
    },
    "papermill": {
     "duration": 1.494457,
     "end_time": "2023-08-02T08:59:13.153729",
     "exception": false,
     "start_time": "2023-08-02T08:59:11.659272",
     "status": "completed"
    },
    "tags": []
   },
   "outputs": [
    {
     "name": "stderr",
     "output_type": "stream",
     "text": [
      "/opt/conda/lib/python3.10/site-packages/scipy/__init__.py:146: UserWarning: A NumPy version >=1.16.5 and <1.23.0 is required for this version of SciPy (detected version 1.23.5\n",
      "  warnings.warn(f\"A NumPy version >={np_minversion} and <{np_maxversion}\"\n"
     ]
    }
   ],
   "source": [
    "\n",
    "import matplotlib.pyplot as plt\n",
    "import seaborn as sns\n",
    "import numpy as np\n",
    "import pandas as pd \n"
   ]
  },
  {
   "cell_type": "code",
   "execution_count": 2,
   "id": "e42d8816",
   "metadata": {
    "execution": {
     "iopub.execute_input": "2023-08-02T08:59:13.163444Z",
     "iopub.status.busy": "2023-08-02T08:59:13.162483Z",
     "iopub.status.idle": "2023-08-02T08:59:13.226454Z",
     "shell.execute_reply": "2023-08-02T08:59:13.225176Z"
    },
    "papermill": {
     "duration": 0.07164,
     "end_time": "2023-08-02T08:59:13.229255",
     "exception": false,
     "start_time": "2023-08-02T08:59:13.157615",
     "status": "completed"
    },
    "tags": []
   },
   "outputs": [],
   "source": [
    "df = pd.read_csv(\"/kaggle/input/data-science-london-scikit-learn/train.csv\")\n",
    "y = pd.read_csv(\"/kaggle/input/data-science-london-scikit-learn/trainLabels.csv\")"
   ]
  },
  {
   "cell_type": "code",
   "execution_count": 3,
   "id": "60ceb6e7",
   "metadata": {
    "execution": {
     "iopub.execute_input": "2023-08-02T08:59:13.238317Z",
     "iopub.status.busy": "2023-08-02T08:59:13.237897Z",
     "iopub.status.idle": "2023-08-02T08:59:13.382292Z",
     "shell.execute_reply": "2023-08-02T08:59:13.381068Z"
    },
    "papermill": {
     "duration": 0.152094,
     "end_time": "2023-08-02T08:59:13.385156",
     "exception": false,
     "start_time": "2023-08-02T08:59:13.233062",
     "status": "completed"
    },
    "tags": []
   },
   "outputs": [
    {
     "data": {
      "text/html": [
       "<div>\n",
       "<style scoped>\n",
       "    .dataframe tbody tr th:only-of-type {\n",
       "        vertical-align: middle;\n",
       "    }\n",
       "\n",
       "    .dataframe tbody tr th {\n",
       "        vertical-align: top;\n",
       "    }\n",
       "\n",
       "    .dataframe thead th {\n",
       "        text-align: right;\n",
       "    }\n",
       "</style>\n",
       "<table border=\"1\" class=\"dataframe\">\n",
       "  <thead>\n",
       "    <tr style=\"text-align: right;\">\n",
       "      <th></th>\n",
       "      <th>0.29940251144353242</th>\n",
       "      <th>-1.2266241875260637</th>\n",
       "      <th>1.4984250500215328</th>\n",
       "      <th>-1.1761503610375272</th>\n",
       "      <th>5.2898525545597037</th>\n",
       "      <th>0.20829711393323402</th>\n",
       "      <th>2.4044983672405826</th>\n",
       "      <th>1.5945062220589785</th>\n",
       "      <th>-0.051608163273514231</th>\n",
       "      <th>0.66323431039687908</th>\n",
       "      <th>...</th>\n",
       "      <th>-0.85046544625016463</th>\n",
       "      <th>-0.62298999638261954</th>\n",
       "      <th>-1.8330573433160038</th>\n",
       "      <th>0.29302438506869571</th>\n",
       "      <th>3.5526813410266507</th>\n",
       "      <th>0.71761099417552265</th>\n",
       "      <th>3.3059719748508889</th>\n",
       "      <th>-2.7155588147154619</th>\n",
       "      <th>-2.6824085866346223</th>\n",
       "      <th>0.10105047232890663</th>\n",
       "    </tr>\n",
       "  </thead>\n",
       "  <tbody>\n",
       "    <tr>\n",
       "      <th>count</th>\n",
       "      <td>999.000000</td>\n",
       "      <td>999.000000</td>\n",
       "      <td>999.000000</td>\n",
       "      <td>999.000000</td>\n",
       "      <td>999.000000</td>\n",
       "      <td>999.000000</td>\n",
       "      <td>999.000000</td>\n",
       "      <td>999.000000</td>\n",
       "      <td>999.000000</td>\n",
       "      <td>999.000000</td>\n",
       "      <td>...</td>\n",
       "      <td>999.000000</td>\n",
       "      <td>999.000000</td>\n",
       "      <td>999.000000</td>\n",
       "      <td>999.000000</td>\n",
       "      <td>999.000000</td>\n",
       "      <td>999.000000</td>\n",
       "      <td>999.000000</td>\n",
       "      <td>999.000000</td>\n",
       "      <td>999.000000</td>\n",
       "      <td>999.000000</td>\n",
       "    </tr>\n",
       "    <tr>\n",
       "      <th>mean</th>\n",
       "      <td>0.025322</td>\n",
       "      <td>-0.023323</td>\n",
       "      <td>-0.025612</td>\n",
       "      <td>-0.001096</td>\n",
       "      <td>1.088127</td>\n",
       "      <td>-0.006465</td>\n",
       "      <td>0.495433</td>\n",
       "      <td>-0.039517</td>\n",
       "      <td>0.026469</td>\n",
       "      <td>-0.004264</td>\n",
       "      <td>...</td>\n",
       "      <td>0.031533</td>\n",
       "      <td>0.023598</td>\n",
       "      <td>-0.541199</td>\n",
       "      <td>-0.011913</td>\n",
       "      <td>-0.487548</td>\n",
       "      <td>0.032686</td>\n",
       "      <td>0.564443</td>\n",
       "      <td>0.009574</td>\n",
       "      <td>-0.890867</td>\n",
       "      <td>0.609960</td>\n",
       "    </tr>\n",
       "    <tr>\n",
       "      <th>std</th>\n",
       "      <td>1.008750</td>\n",
       "      <td>1.016094</td>\n",
       "      <td>0.978412</td>\n",
       "      <td>0.970349</td>\n",
       "      <td>4.539161</td>\n",
       "      <td>0.989601</td>\n",
       "      <td>2.119020</td>\n",
       "      <td>2.232776</td>\n",
       "      <td>1.001562</td>\n",
       "      <td>1.013808</td>\n",
       "      <td>...</td>\n",
       "      <td>1.011767</td>\n",
       "      <td>1.001668</td>\n",
       "      <td>2.240688</td>\n",
       "      <td>1.022922</td>\n",
       "      <td>2.118491</td>\n",
       "      <td>1.007316</td>\n",
       "      <td>2.227304</td>\n",
       "      <td>0.994404</td>\n",
       "      <td>2.022240</td>\n",
       "      <td>2.046400</td>\n",
       "    </tr>\n",
       "    <tr>\n",
       "      <th>min</th>\n",
       "      <td>-3.365711</td>\n",
       "      <td>-3.492086</td>\n",
       "      <td>-2.695602</td>\n",
       "      <td>-3.460471</td>\n",
       "      <td>-16.421901</td>\n",
       "      <td>-3.041250</td>\n",
       "      <td>-7.224761</td>\n",
       "      <td>-6.509084</td>\n",
       "      <td>-3.145588</td>\n",
       "      <td>-2.749812</td>\n",
       "      <td>...</td>\n",
       "      <td>-3.379194</td>\n",
       "      <td>-2.971125</td>\n",
       "      <td>-7.840890</td>\n",
       "      <td>-2.999564</td>\n",
       "      <td>-7.124105</td>\n",
       "      <td>-2.952358</td>\n",
       "      <td>-5.452254</td>\n",
       "      <td>-3.473913</td>\n",
       "      <td>-8.051722</td>\n",
       "      <td>-7.799086</td>\n",
       "    </tr>\n",
       "    <tr>\n",
       "      <th>25%</th>\n",
       "      <td>-0.670358</td>\n",
       "      <td>-0.690859</td>\n",
       "      <td>-0.700048</td>\n",
       "      <td>-0.616548</td>\n",
       "      <td>-1.805683</td>\n",
       "      <td>-0.733114</td>\n",
       "      <td>-0.839542</td>\n",
       "      <td>-1.607010</td>\n",
       "      <td>-0.680114</td>\n",
       "      <td>-0.682246</td>\n",
       "      <td>...</td>\n",
       "      <td>-0.659295</td>\n",
       "      <td>-0.696257</td>\n",
       "      <td>-2.123069</td>\n",
       "      <td>-0.664966</td>\n",
       "      <td>-1.880040</td>\n",
       "      <td>-0.643513</td>\n",
       "      <td>-1.060154</td>\n",
       "      <td>-0.689890</td>\n",
       "      <td>-2.214672</td>\n",
       "      <td>-0.565156</td>\n",
       "    </tr>\n",
       "    <tr>\n",
       "      <th>50%</th>\n",
       "      <td>0.023121</td>\n",
       "      <td>-0.031181</td>\n",
       "      <td>0.008037</td>\n",
       "      <td>0.003735</td>\n",
       "      <td>0.858932</td>\n",
       "      <td>0.025803</td>\n",
       "      <td>0.571475</td>\n",
       "      <td>0.017761</td>\n",
       "      <td>0.022855</td>\n",
       "      <td>-0.037531</td>\n",
       "      <td>...</td>\n",
       "      <td>0.049792</td>\n",
       "      <td>0.050187</td>\n",
       "      <td>-0.568168</td>\n",
       "      <td>-0.028179</td>\n",
       "      <td>-0.493701</td>\n",
       "      <td>0.036975</td>\n",
       "      <td>0.453544</td>\n",
       "      <td>0.038464</td>\n",
       "      <td>-0.853259</td>\n",
       "      <td>0.780175</td>\n",
       "    </tr>\n",
       "    <tr>\n",
       "      <th>75%</th>\n",
       "      <td>0.762980</td>\n",
       "      <td>0.683464</td>\n",
       "      <td>0.657948</td>\n",
       "      <td>0.640968</td>\n",
       "      <td>3.836911</td>\n",
       "      <td>0.671494</td>\n",
       "      <td>1.912284</td>\n",
       "      <td>1.436715</td>\n",
       "      <td>0.741949</td>\n",
       "      <td>0.666416</td>\n",
       "      <td>...</td>\n",
       "      <td>0.747815</td>\n",
       "      <td>0.700093</td>\n",
       "      <td>0.940334</td>\n",
       "      <td>0.651692</td>\n",
       "      <td>0.997741</td>\n",
       "      <td>0.690139</td>\n",
       "      <td>2.120006</td>\n",
       "      <td>0.693603</td>\n",
       "      <td>0.390982</td>\n",
       "      <td>1.994308</td>\n",
       "    </tr>\n",
       "    <tr>\n",
       "      <th>max</th>\n",
       "      <td>3.326246</td>\n",
       "      <td>3.583870</td>\n",
       "      <td>2.546507</td>\n",
       "      <td>3.088738</td>\n",
       "      <td>17.565345</td>\n",
       "      <td>3.102997</td>\n",
       "      <td>7.592666</td>\n",
       "      <td>7.130097</td>\n",
       "      <td>3.145258</td>\n",
       "      <td>3.919426</td>\n",
       "      <td>...</td>\n",
       "      <td>2.844792</td>\n",
       "      <td>3.688047</td>\n",
       "      <td>7.160379</td>\n",
       "      <td>3.353631</td>\n",
       "      <td>6.005818</td>\n",
       "      <td>3.420561</td>\n",
       "      <td>6.603499</td>\n",
       "      <td>3.492548</td>\n",
       "      <td>5.774120</td>\n",
       "      <td>6.803984</td>\n",
       "    </tr>\n",
       "  </tbody>\n",
       "</table>\n",
       "<p>8 rows × 40 columns</p>\n",
       "</div>"
      ],
      "text/plain": [
       "       0.29940251144353242  -1.2266241875260637  1.4984250500215328  \\\n",
       "count           999.000000           999.000000          999.000000   \n",
       "mean              0.025322            -0.023323           -0.025612   \n",
       "std               1.008750             1.016094            0.978412   \n",
       "min              -3.365711            -3.492086           -2.695602   \n",
       "25%              -0.670358            -0.690859           -0.700048   \n",
       "50%               0.023121            -0.031181            0.008037   \n",
       "75%               0.762980             0.683464            0.657948   \n",
       "max               3.326246             3.583870            2.546507   \n",
       "\n",
       "       -1.1761503610375272  5.2898525545597037  0.20829711393323402  \\\n",
       "count           999.000000          999.000000           999.000000   \n",
       "mean             -0.001096            1.088127            -0.006465   \n",
       "std               0.970349            4.539161             0.989601   \n",
       "min              -3.460471          -16.421901            -3.041250   \n",
       "25%              -0.616548           -1.805683            -0.733114   \n",
       "50%               0.003735            0.858932             0.025803   \n",
       "75%               0.640968            3.836911             0.671494   \n",
       "max               3.088738           17.565345             3.102997   \n",
       "\n",
       "       2.4044983672405826  1.5945062220589785  -0.051608163273514231  \\\n",
       "count          999.000000          999.000000             999.000000   \n",
       "mean             0.495433           -0.039517               0.026469   \n",
       "std              2.119020            2.232776               1.001562   \n",
       "min             -7.224761           -6.509084              -3.145588   \n",
       "25%             -0.839542           -1.607010              -0.680114   \n",
       "50%              0.571475            0.017761               0.022855   \n",
       "75%              1.912284            1.436715               0.741949   \n",
       "max              7.592666            7.130097               3.145258   \n",
       "\n",
       "       0.66323431039687908  ...  -0.85046544625016463  -0.62298999638261954  \\\n",
       "count           999.000000  ...            999.000000            999.000000   \n",
       "mean             -0.004264  ...              0.031533              0.023598   \n",
       "std               1.013808  ...              1.011767              1.001668   \n",
       "min              -2.749812  ...             -3.379194             -2.971125   \n",
       "25%              -0.682246  ...             -0.659295             -0.696257   \n",
       "50%              -0.037531  ...              0.049792              0.050187   \n",
       "75%               0.666416  ...              0.747815              0.700093   \n",
       "max               3.919426  ...              2.844792              3.688047   \n",
       "\n",
       "       -1.8330573433160038  0.29302438506869571  3.5526813410266507  \\\n",
       "count           999.000000           999.000000          999.000000   \n",
       "mean             -0.541199            -0.011913           -0.487548   \n",
       "std               2.240688             1.022922            2.118491   \n",
       "min              -7.840890            -2.999564           -7.124105   \n",
       "25%              -2.123069            -0.664966           -1.880040   \n",
       "50%              -0.568168            -0.028179           -0.493701   \n",
       "75%               0.940334             0.651692            0.997741   \n",
       "max               7.160379             3.353631            6.005818   \n",
       "\n",
       "       0.71761099417552265  3.3059719748508889  -2.7155588147154619  \\\n",
       "count           999.000000          999.000000           999.000000   \n",
       "mean              0.032686            0.564443             0.009574   \n",
       "std               1.007316            2.227304             0.994404   \n",
       "min              -2.952358           -5.452254            -3.473913   \n",
       "25%              -0.643513           -1.060154            -0.689890   \n",
       "50%               0.036975            0.453544             0.038464   \n",
       "75%               0.690139            2.120006             0.693603   \n",
       "max               3.420561            6.603499             3.492548   \n",
       "\n",
       "       -2.6824085866346223  0.10105047232890663  \n",
       "count           999.000000           999.000000  \n",
       "mean             -0.890867             0.609960  \n",
       "std               2.022240             2.046400  \n",
       "min              -8.051722            -7.799086  \n",
       "25%              -2.214672            -0.565156  \n",
       "50%              -0.853259             0.780175  \n",
       "75%               0.390982             1.994308  \n",
       "max               5.774120             6.803984  \n",
       "\n",
       "[8 rows x 40 columns]"
      ]
     },
     "execution_count": 3,
     "metadata": {},
     "output_type": "execute_result"
    }
   ],
   "source": [
    "df.describe()"
   ]
  },
  {
   "cell_type": "code",
   "execution_count": 4,
   "id": "3e54b53d",
   "metadata": {
    "execution": {
     "iopub.execute_input": "2023-08-02T08:59:13.395271Z",
     "iopub.status.busy": "2023-08-02T08:59:13.394804Z",
     "iopub.status.idle": "2023-08-02T08:59:13.405405Z",
     "shell.execute_reply": "2023-08-02T08:59:13.404158Z"
    },
    "papermill": {
     "duration": 0.018924,
     "end_time": "2023-08-02T08:59:13.408207",
     "exception": false,
     "start_time": "2023-08-02T08:59:13.389283",
     "status": "completed"
    },
    "tags": []
   },
   "outputs": [
    {
     "data": {
      "text/plain": [
       "0.29940251144353242      0\n",
       "-1.2266241875260637      0\n",
       "1.4984250500215328       0\n",
       "-1.1761503610375272      0\n",
       "5.2898525545597037       0\n",
       "0.20829711393323402      0\n",
       "2.4044983672405826       0\n",
       "1.5945062220589785       0\n",
       "-0.051608163273514231    0\n",
       "0.66323431039687908      0\n",
       "-1.4083700642531511      0\n",
       "1.1147436351160869       0\n",
       "0.91041530967390116      0\n",
       "2.2181103179158135       0\n",
       "4.3056427290235391       0\n",
       "0.088923978050666208     0\n",
       "0.1691492586690862       0\n",
       "0.41344763764684195      0\n",
       "1.5138621708864943       0\n",
       "2.6629665829474161       0\n",
       "-1.0727654812214888      0\n",
       "0.14911112051014644      0\n",
       "0.55957919164070269      0\n",
       "4.3788846423749064       0\n",
       "-0.4636026556416834      0\n",
       "-0.063959155289009084    0\n",
       "0.54493030536966891      0\n",
       "0.71277166708074502      0\n",
       "-1.4940501263538932      0\n",
       "-2.6361688752136554      0\n",
       "-0.85046544625016463     0\n",
       "-0.62298999638261954     0\n",
       "-1.8330573433160038      0\n",
       "0.29302438506869571      0\n",
       "3.5526813410266507       0\n",
       "0.71761099417552265      0\n",
       "3.3059719748508889       0\n",
       "-2.7155588147154619      0\n",
       "-2.6824085866346223      0\n",
       "0.10105047232890663      0\n",
       "dtype: int64"
      ]
     },
     "execution_count": 4,
     "metadata": {},
     "output_type": "execute_result"
    }
   ],
   "source": [
    "df.isnull().sum()"
   ]
  },
  {
   "cell_type": "code",
   "execution_count": 5,
   "id": "6609163a",
   "metadata": {
    "execution": {
     "iopub.execute_input": "2023-08-02T08:59:13.419455Z",
     "iopub.status.busy": "2023-08-02T08:59:13.418737Z",
     "iopub.status.idle": "2023-08-02T08:59:14.401749Z",
     "shell.execute_reply": "2023-08-02T08:59:14.400496Z"
    },
    "papermill": {
     "duration": 0.99159,
     "end_time": "2023-08-02T08:59:14.404421",
     "exception": false,
     "start_time": "2023-08-02T08:59:13.412831",
     "status": "completed"
    },
    "tags": []
   },
   "outputs": [
    {
     "data": {
      "image/png": "[encoded data removed]",
      "text/plain": [
       "<Figure size 640x480 with 1 Axes>"
      ]
     },
     "metadata": {},
     "output_type": "display_data"
    }
   ],
   "source": [
    "for i in df.columns:\n",
    "    plt.scatter(df[i], y ,)"
   ]
  },
  {
   "cell_type": "code",
   "execution_count": 6,
   "id": "3a6dedfa",
   "metadata": {
    "execution": {
     "iopub.execute_input": "2023-08-02T08:59:14.415832Z",
     "iopub.status.busy": "2023-08-02T08:59:14.415399Z",
     "iopub.status.idle": "2023-08-02T08:59:14.693987Z",
     "shell.execute_reply": "2023-08-02T08:59:14.692815Z"
    },
    "papermill": {
     "duration": 0.287399,
     "end_time": "2023-08-02T08:59:14.696765",
     "exception": false,
     "start_time": "2023-08-02T08:59:14.409366",
     "status": "completed"
    },
    "tags": []
   },
   "outputs": [],
   "source": [
    "from sklearn.model_selection import train_test_split\n",
    "x = df\n",
    "x_train, x_test, y_train, y_test = train_test_split(x, y, test_size = 0.3, random_state=32)"
   ]
  },
  {
   "cell_type": "code",
   "execution_count": 7,
   "id": "00d4367d",
   "metadata": {
    "execution": {
     "iopub.execute_input": "2023-08-02T08:59:14.708137Z",
     "iopub.status.busy": "2023-08-02T08:59:14.707702Z",
     "iopub.status.idle": "2023-08-02T08:59:15.631868Z",
     "shell.execute_reply": "2023-08-02T08:59:15.630077Z"
    },
    "papermill": {
     "duration": 0.933946,
     "end_time": "2023-08-02T08:59:15.635513",
     "exception": false,
     "start_time": "2023-08-02T08:59:14.701567",
     "status": "completed"
    },
    "tags": []
   },
   "outputs": [
    {
     "name": "stderr",
     "output_type": "stream",
     "text": [
      "/tmp/ipykernel_21/8987020.py:4: DataConversionWarning: A column-vector y was passed when a 1d array was expected. Please change the shape of y to (n_samples,), for example using ravel().\n",
      "  model.fit(x_train, y_train)\n"
     ]
    },
    {
     "data": {
      "text/plain": [
       "0.8533333333333334"
      ]
     },
     "execution_count": 7,
     "metadata": {},
     "output_type": "execute_result"
    }
   ],
   "source": [
    "from sklearn.ensemble import RandomForestClassifier\n",
    "model = RandomForestClassifier()\n",
    "\n",
    "model.fit(x_train, y_train)\n",
    "model.score(x_test, y_test)"
   ]
  }
 ],
 "metadata": {
  "kernelspec": {
   "display_name": "Python 3",
   "language": "python",
   "name": "python3"
  },
  "language_info": {
   "codemirror_mode": {
    "name": "ipython",
    "version": 3
   },
   "file_extension": ".py",
   "mimetype": "text/x-python",
   "name": "python",
   "nbconvert_exporter": "python",
   "pygments_lexer": "ipython3",
   "version": "3.10.12"
  },
  "papermill": {
   "default_parameters": {},
   "duration": 16.779282,
   "end_time": "2023-08-02T08:59:16.663977",
   "environment_variables": {},
   "exception": null,
   "input_path": "__notebook__.ipynb",
   "output_path": "__notebook__.ipynb",
   "parameters": {},
   "start_time": "2023-08-02T08:58:59.884695",
   "version": "2.4.0"
  }
 },
 "nbformat": 4,
 "nbformat_minor": 5
}

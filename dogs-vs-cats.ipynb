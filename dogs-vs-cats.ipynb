{
 "cells": [
  {
   "cell_type": "code",
   "execution_count": 1,
   "id": "b795858a",
   "metadata": {
    "execution": {
     "iopub.execute_input": "2023-08-20T10:40:15.962141Z",
     "iopub.status.busy": "2023-08-20T10:40:15.961406Z",
     "iopub.status.idle": "2023-08-20T10:40:31.462917Z",
     "shell.execute_reply": "2023-08-20T10:40:31.461792Z"
    },
    "papermill": {
     "duration": 15.50969,
     "end_time": "2023-08-20T10:40:31.465611",
     "exception": false,
     "start_time": "2023-08-20T10:40:15.955921",
     "status": "completed"
    },
    "tags": []
   },
   "outputs": [
    {
     "name": "stderr",
     "output_type": "stream",
     "text": [
      "/opt/conda/lib/python3.10/site-packages/scipy/__init__.py:146: UserWarning: A NumPy version >=1.16.5 and <1.23.0 is required for this version of SciPy (detected version 1.23.5\n",
      "  warnings.warn(f\"A NumPy version >={np_minversion} and <{np_maxversion}\"\n",
      "/opt/conda/lib/python3.10/site-packages/tensorflow_io/python/ops/__init__.py:98: UserWarning: unable to load libtensorflow_io_plugins.so: unable to open file: libtensorflow_io_plugins.so, from paths: ['/opt/conda/lib/python3.10/site-packages/tensorflow_io/python/ops/libtensorflow_io_plugins.so']\n",
      "caused by: ['/opt/conda/lib/python3.10/site-packages/tensorflow_io/python/ops/libtensorflow_io_plugins.so: undefined symbol: _ZN3tsl6StatusC1EN10tensorflow5error4CodeESt17basic_string_viewIcSt11char_traitsIcEENS_14SourceLocationE']\n",
      "  warnings.warn(f\"unable to load libtensorflow_io_plugins.so: {e}\")\n",
      "/opt/conda/lib/python3.10/site-packages/tensorflow_io/python/ops/__init__.py:104: UserWarning: file system plugins are not loaded: unable to open file: libtensorflow_io.so, from paths: ['/opt/conda/lib/python3.10/site-packages/tensorflow_io/python/ops/libtensorflow_io.so']\n",
      "caused by: ['/opt/conda/lib/python3.10/site-packages/tensorflow_io/python/ops/libtensorflow_io.so: undefined symbol: _ZTVN10tensorflow13GcsFileSystemE']\n",
      "  warnings.warn(f\"file system plugins are not loaded: {e}\")\n"
     ]
    }
   ],
   "source": [
    "import tensorflow as tf"
   ]
  },
  {
   "cell_type": "code",
   "execution_count": 2,
   "id": "12dfd709",
   "metadata": {
    "execution": {
     "iopub.execute_input": "2023-08-20T10:40:31.473838Z",
     "iopub.status.busy": "2023-08-20T10:40:31.473172Z",
     "iopub.status.idle": "2023-08-20T10:40:51.354165Z",
     "shell.execute_reply": "2023-08-20T10:40:51.353200Z"
    },
    "papermill": {
     "duration": 19.88744,
     "end_time": "2023-08-20T10:40:51.356482",
     "exception": false,
     "start_time": "2023-08-20T10:40:31.469042",
     "status": "completed"
    },
    "tags": []
   },
   "outputs": [
    {
     "name": "stdout",
     "output_type": "stream",
     "text": [
      "Found 20000 images belonging to 2 classes.\n",
      "Found 20000 images belonging to 2 classes.\n"
     ]
    }
   ],
   "source": [
    "train = \"/kaggle/input/dogs-vs-cats/train\"\n",
    "test = \"/kaggle/input/dogs-vs-cats/test\"\n",
    "\n",
    "train_data_augmentation = tf.keras.preprocessing.image.ImageDataGenerator(rescale=1/255)\n",
    "test_data_augmentation = tf.keras.preprocessing.image.ImageDataGenerator(rescale=1/255)\n",
    "\n",
    "train_data = train_data_augmentation.flow_from_directory(\n",
    "    directory=train,\n",
    "    target_size= (256, 256),\n",
    "    batch_size = 32,\n",
    "    class_mode = \"binary\"\n",
    ")\n",
    "\n",
    "\n",
    "test_data = test_data_augmentation.flow_from_directory(\n",
    "    directory=train,\n",
    "    target_size= (256, 256),\n",
    "    batch_size = 32,\n",
    "    class_mode = \"binary\"\n",
    ")"
   ]
  },
  {
   "cell_type": "code",
   "execution_count": null,
   "id": "cb894153",
   "metadata": {
    "papermill": {
     "duration": 0.003108,
     "end_time": "2023-08-20T10:40:51.362817",
     "exception": false,
     "start_time": "2023-08-20T10:40:51.359709",
     "status": "completed"
    },
    "tags": []
   },
   "outputs": [],
   "source": []
  },
  {
   "cell_type": "code",
   "execution_count": 3,
   "id": "b92efa09",
   "metadata": {
    "execution": {
     "iopub.execute_input": "2023-08-20T10:40:51.370950Z",
     "iopub.status.busy": "2023-08-20T10:40:51.370181Z",
     "iopub.status.idle": "2023-08-20T10:40:57.284286Z",
     "shell.execute_reply": "2023-08-20T10:40:57.283520Z"
    },
    "papermill": {
     "duration": 5.935603,
     "end_time": "2023-08-20T10:40:57.301482",
     "exception": false,
     "start_time": "2023-08-20T10:40:51.365879",
     "status": "completed"
    },
    "tags": []
   },
   "outputs": [
    {
     "name": "stdout",
     "output_type": "stream",
     "text": [
      "Model: \"sequential\"\n",
      "_________________________________________________________________\n",
      " Layer (type)                Output Shape              Param #   \n",
      "=================================================================\n",
      " conv2d (Conv2D)             (None, 254, 254, 128)     3584      \n",
      "                                                                 \n",
      " max_pooling2d (MaxPooling2D  (None, 127, 127, 128)    0         \n",
      " )                                                               \n",
      "                                                                 \n",
      " conv2d_1 (Conv2D)           (None, 125, 125, 64)      73792     \n",
      "                                                                 \n",
      " max_pooling2d_1 (MaxPooling  (None, 62, 62, 64)       0         \n",
      " 2D)                                                             \n",
      "                                                                 \n",
      " conv2d_2 (Conv2D)           (None, 60, 60, 32)        18464     \n",
      "                                                                 \n",
      " max_pooling2d_2 (MaxPooling  (None, 30, 30, 32)       0         \n",
      " 2D)                                                             \n",
      "                                                                 \n",
      " flatten (Flatten)           (None, 28800)             0         \n",
      "                                                                 \n",
      " dense (Dense)               (None, 128)               3686528   \n",
      "                                                                 \n",
      " dense_1 (Dense)             (None, 64)                8256      \n",
      "                                                                 \n",
      " dense_2 (Dense)             (None, 32)                2080      \n",
      "                                                                 \n",
      " dense_3 (Dense)             (None, 1)                 33        \n",
      "                                                                 \n",
      "=================================================================\n",
      "Total params: 3,792,737\n",
      "Trainable params: 3,792,737\n",
      "Non-trainable params: 0\n",
      "_________________________________________________________________\n"
     ]
    }
   ],
   "source": [
    "#CNN Model\n",
    "model = tf.keras.Sequential([\n",
    "    tf.keras.layers.Conv2D(128, kernel_size=(3,3), padding=\"valid\", activation=\"relu\", input_shape = (256, 256, 3)),\n",
    "    tf.keras.layers.MaxPooling2D(pool_size=(2,2), strides=2, padding=\"valid\"),\n",
    "    \n",
    "    tf.keras.layers.Conv2D(64, kernel_size=(3, 3), padding=\"valid\", activation=\"relu\"),\n",
    "    tf.keras.layers.MaxPooling2D(pool_size=(2,2), strides=2, padding=\"valid\"),\n",
    "    \n",
    "    tf.keras.layers.Conv2D(32, kernel_size=(3, 3), padding=\"valid\", activation=\"relu\"),\n",
    "    tf.keras.layers.MaxPooling2D(pool_size=(2,2), strides=2, padding=\"valid\"),\n",
    "    \n",
    "    tf.keras.layers.Flatten(),\n",
    "    \n",
    "    tf.keras.layers.Dense(units = 128, activation = \"relu\"),\n",
    "    tf.keras.layers.Dense(units = 64, activation = \"relu\"),\n",
    "    tf.keras.layers.Dense(units=32, activation = \"relu\"),\n",
    "    tf.keras.layers.Dense(units = 1, activation = \"sigmoid\") ,\n",
    "    \n",
    "])\n",
    "\n",
    "model.summary()"
   ]
  },
  {
   "cell_type": "code",
   "execution_count": 4,
   "id": "2d8c3ad9",
   "metadata": {
    "execution": {
     "iopub.execute_input": "2023-08-20T10:40:57.314780Z",
     "iopub.status.busy": "2023-08-20T10:40:57.314348Z",
     "iopub.status.idle": "2023-08-20T10:40:57.330597Z",
     "shell.execute_reply": "2023-08-20T10:40:57.329679Z"
    },
    "papermill": {
     "duration": 0.025609,
     "end_time": "2023-08-20T10:40:57.332838",
     "exception": false,
     "start_time": "2023-08-20T10:40:57.307229",
     "status": "completed"
    },
    "tags": []
   },
   "outputs": [],
   "source": [
    "model.compile(optimizer=\"adam\", loss = \"binary_crossentropy\", metrics=[\"accuracy\"])"
   ]
  },
  {
   "cell_type": "code",
   "execution_count": 5,
   "id": "0c7a066b",
   "metadata": {
    "execution": {
     "iopub.execute_input": "2023-08-20T10:40:57.344983Z",
     "iopub.status.busy": "2023-08-20T10:40:57.344689Z",
     "iopub.status.idle": "2023-08-20T10:47:46.183799Z",
     "shell.execute_reply": "2023-08-20T10:47:46.182534Z"
    },
    "papermill": {
     "duration": 408.966272,
     "end_time": "2023-08-20T10:47:46.304487",
     "exception": false,
     "start_time": "2023-08-20T10:40:57.338215",
     "status": "completed"
    },
    "tags": []
   },
   "outputs": [
    {
     "name": "stdout",
     "output_type": "stream",
     "text": [
      "Epoch 1/2\n",
      "625/625 [==============================] - 255s 380ms/step - loss: 0.6537 - accuracy: 0.6108 - val_loss: 0.5571 - val_accuracy: 0.7235\n",
      "Epoch 2/2\n",
      "625/625 [==============================] - 153s 244ms/step - loss: 0.5413 - accuracy: 0.7301 - val_loss: 0.4434 - val_accuracy: 0.7979\n"
     ]
    }
   ],
   "source": [
    "history = model.fit(train_data, epochs=2, validation_data=test_data)"
   ]
  },
  {
   "cell_type": "code",
   "execution_count": 6,
   "id": "b4b6b564",
   "metadata": {
    "execution": {
     "iopub.execute_input": "2023-08-20T10:47:46.525907Z",
     "iopub.status.busy": "2023-08-20T10:47:46.525192Z",
     "iopub.status.idle": "2023-08-20T10:47:47.118447Z",
     "shell.execute_reply": "2023-08-20T10:47:47.117426Z"
    },
    "papermill": {
     "duration": 0.70523,
     "end_time": "2023-08-20T10:47:47.120528",
     "exception": false,
     "start_time": "2023-08-20T10:47:46.415298",
     "status": "completed"
    },
    "tags": []
   },
   "outputs": [
    {
     "data": {
      "text/plain": [
       "<matplotlib.legend.Legend at 0x7c89c072eb90>"
      ]
     },
     "execution_count": 6,
     "metadata": {},
     "output_type": "execute_result"
    },
    {
     "data": {
      "image/png": "[encoded data removed]",
      "text/plain": [
       "<Figure size 500x300 with 1 Axes>"
      ]
     },
     "metadata": {},
     "output_type": "display_data"
    },
    {
     "data": {
      "image/png": "[encoded data removed]",
      "text/plain": [
       "<Figure size 500x300 with 1 Axes>"
      ]
     },
     "metadata": {},
     "output_type": "display_data"
    }
   ],
   "source": [
    "import matplotlib.pyplot as plt\n",
    "plt.figure(figsize=[5, 3])\n",
    "plt.plot(history.history[\"accuracy\"], label = \"Accuracy\")\n",
    "plt.plot(history.history[\"val_accuracy\"], label = \"Val_accuracy\")\n",
    "plt.legend()\n",
    "\n",
    "plt.figure(figsize=[5, 3])\n",
    "plt.plot(history.history[\"loss\"], label = \"Loss\")\n",
    "plt.plot(history.history[\"val_loss\"],label = \"Val_loss\")\n",
    "plt.legend()"
   ]
  }
 ],
 "metadata": {
  "kernelspec": {
   "display_name": "Python 3",
   "language": "python",
   "name": "python3"
  },
  "language_info": {
   "codemirror_mode": {
    "name": "ipython",
    "version": 3
   },
   "file_extension": ".py",
   "mimetype": "text/x-python",
   "name": "python",
   "nbconvert_exporter": "python",
   "pygments_lexer": "ipython3",
   "version": "3.10.12"
  },
  "papermill": {
   "default_parameters": {},
   "duration": 468.90857,
   "end_time": "2023-08-20T10:47:50.825698",
   "environment_variables": {},
   "exception": null,
   "input_path": "__notebook__.ipynb",
   "output_path": "__notebook__.ipynb",
   "parameters": {},
   "start_time": "2023-08-20T10:40:01.917128",
   "version": "2.4.0"
  }
 },
 "nbformat": 4,
 "nbformat_minor": 5
}

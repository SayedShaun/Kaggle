{
 "cells": [
  {
   "cell_type": "code",
   "execution_count": 1,
   "id": "addb385a",
   "metadata": {
    "_cell_guid": "b1076dfc-b9ad-4769-8c92-a6c4dae69d19",
    "_uuid": "8f2839f25d086af736a60e9eeb907d3b93b6e0e5",
    "execution": {
     "iopub.execute_input": "2023-08-07T12:41:52.072332Z",
     "iopub.status.busy": "2023-08-07T12:41:52.071941Z",
     "iopub.status.idle": "2023-08-07T12:42:04.148036Z",
     "shell.execute_reply": "2023-08-07T12:42:04.146847Z"
    },
    "papermill": {
     "duration": 12.087099,
     "end_time": "2023-08-07T12:42:04.151692",
     "exception": false,
     "start_time": "2023-08-07T12:41:52.064593",
     "status": "completed"
    },
    "tags": []
   },
   "outputs": [
    {
     "name": "stderr",
     "output_type": "stream",
     "text": [
      "/opt/conda/lib/python3.10/site-packages/scipy/__init__.py:146: UserWarning: A NumPy version >=1.16.5 and <1.23.0 is required for this version of SciPy (detected version 1.23.5\n",
      "  warnings.warn(f\"A NumPy version >={np_minversion} and <{np_maxversion}\"\n",
      "/opt/conda/lib/python3.10/site-packages/tensorflow_io/python/ops/__init__.py:98: UserWarning: unable to load libtensorflow_io_plugins.so: unable to open file: libtensorflow_io_plugins.so, from paths: ['/opt/conda/lib/python3.10/site-packages/tensorflow_io/python/ops/libtensorflow_io_plugins.so']\n",
      "caused by: ['/opt/conda/lib/python3.10/site-packages/tensorflow_io/python/ops/libtensorflow_io_plugins.so: undefined symbol: _ZN3tsl6StatusC1EN10tensorflow5error4CodeESt17basic_string_viewIcSt11char_traitsIcEENS_14SourceLocationE']\n",
      "  warnings.warn(f\"unable to load libtensorflow_io_plugins.so: {e}\")\n",
      "/opt/conda/lib/python3.10/site-packages/tensorflow_io/python/ops/__init__.py:104: UserWarning: file system plugins are not loaded: unable to open file: libtensorflow_io.so, from paths: ['/opt/conda/lib/python3.10/site-packages/tensorflow_io/python/ops/libtensorflow_io.so']\n",
      "caused by: ['/opt/conda/lib/python3.10/site-packages/tensorflow_io/python/ops/libtensorflow_io.so: undefined symbol: _ZTVN10tensorflow13GcsFileSystemE']\n",
      "  warnings.warn(f\"file system plugins are not loaded: {e}\")\n"
     ]
    }
   ],
   "source": [
    "import numpy as np\n",
    "import pandas as pd\n",
    "import tensorflow\n",
    "from tensorflow import keras\n",
    "from tensorflow.keras import Sequential\n",
    "from tensorflow.keras.layers import Dense, Flatten\n",
    "from tensorflow.keras.optimizers import Adam\n",
    "from tensorflow.keras.losses import SparseCategoricalCrossentropy\n",
    "\n",
    "import matplotlib.pyplot as plt\n",
    "import seaborn as sns"
   ]
  },
  {
   "cell_type": "code",
   "execution_count": 2,
   "id": "f83adf71",
   "metadata": {
    "execution": {
     "iopub.execute_input": "2023-08-07T12:42:04.164291Z",
     "iopub.status.busy": "2023-08-07T12:42:04.163429Z",
     "iopub.status.idle": "2023-08-07T12:42:04.652403Z",
     "shell.execute_reply": "2023-08-07T12:42:04.650962Z"
    },
    "papermill": {
     "duration": 0.498466,
     "end_time": "2023-08-07T12:42:04.655516",
     "exception": false,
     "start_time": "2023-08-07T12:42:04.157050",
     "status": "completed"
    },
    "tags": []
   },
   "outputs": [
    {
     "name": "stdout",
     "output_type": "stream",
     "text": [
      "Downloading data from https://storage.googleapis.com/tensorflow/tf-keras-datasets/mnist.npz\n",
      "11490434/11490434 [==============================] - 0s 0us/step\n"
     ]
    }
   ],
   "source": [
    "(x_train, y_train), (x_test, y_test) = keras.datasets.mnist.load_data()"
   ]
  },
  {
   "cell_type": "code",
   "execution_count": 3,
   "id": "d81f8c57",
   "metadata": {
    "execution": {
     "iopub.execute_input": "2023-08-07T12:42:04.668500Z",
     "iopub.status.busy": "2023-08-07T12:42:04.668084Z",
     "iopub.status.idle": "2023-08-07T12:42:04.991126Z",
     "shell.execute_reply": "2023-08-07T12:42:04.990189Z"
    },
    "papermill": {
     "duration": 0.332304,
     "end_time": "2023-08-07T12:42:04.993434",
     "exception": false,
     "start_time": "2023-08-07T12:42:04.661130",
     "status": "completed"
    },
    "tags": []
   },
   "outputs": [
    {
     "data": {
      "text/plain": [
       "<matplotlib.image.AxesImage at 0x7aa4ba8c19c0>"
      ]
     },
     "execution_count": 3,
     "metadata": {},
     "output_type": "execute_result"
    },
    {
     "data": {
      "image/png": "[encoded data removed]",
      "text/plain": [
       "<Figure size 640x480 with 1 Axes>"
      ]
     },
     "metadata": {},
     "output_type": "display_data"
    }
   ],
   "source": [
    "plt.imshow(x_train[0])"
   ]
  },
  {
   "cell_type": "code",
   "execution_count": 4,
   "id": "73acfe3e",
   "metadata": {
    "execution": {
     "iopub.execute_input": "2023-08-07T12:42:05.007299Z",
     "iopub.status.busy": "2023-08-07T12:42:05.006231Z",
     "iopub.status.idle": "2023-08-07T12:42:05.203931Z",
     "shell.execute_reply": "2023-08-07T12:42:05.202988Z"
    },
    "papermill": {
     "duration": 0.207294,
     "end_time": "2023-08-07T12:42:05.206485",
     "exception": false,
     "start_time": "2023-08-07T12:42:04.999191",
     "status": "completed"
    },
    "tags": []
   },
   "outputs": [],
   "source": [
    "x_train = x_train/255\n",
    "x_test = x_test/255"
   ]
  },
  {
   "cell_type": "code",
   "execution_count": 5,
   "id": "829a029b",
   "metadata": {
    "execution": {
     "iopub.execute_input": "2023-08-07T12:42:05.221969Z",
     "iopub.status.busy": "2023-08-07T12:42:05.220934Z",
     "iopub.status.idle": "2023-08-07T12:42:05.227894Z",
     "shell.execute_reply": "2023-08-07T12:42:05.227069Z"
    },
    "papermill": {
     "duration": 0.0171,
     "end_time": "2023-08-07T12:42:05.229981",
     "exception": false,
     "start_time": "2023-08-07T12:42:05.212881",
     "status": "completed"
    },
    "tags": []
   },
   "outputs": [
    {
     "data": {
      "text/plain": [
       "(60000, 28, 28)"
      ]
     },
     "execution_count": 5,
     "metadata": {},
     "output_type": "execute_result"
    }
   ],
   "source": [
    "x_train.shape"
   ]
  },
  {
   "cell_type": "code",
   "execution_count": 6,
   "id": "1ed82117",
   "metadata": {
    "execution": {
     "iopub.execute_input": "2023-08-07T12:42:05.244921Z",
     "iopub.status.busy": "2023-08-07T12:42:05.243704Z",
     "iopub.status.idle": "2023-08-07T12:42:05.250252Z",
     "shell.execute_reply": "2023-08-07T12:42:05.249120Z"
    },
    "papermill": {
     "duration": 0.017084,
     "end_time": "2023-08-07T12:42:05.253084",
     "exception": false,
     "start_time": "2023-08-07T12:42:05.236000",
     "status": "completed"
    },
    "tags": []
   },
   "outputs": [
    {
     "data": {
      "text/plain": [
       "(60000,)"
      ]
     },
     "execution_count": 6,
     "metadata": {},
     "output_type": "execute_result"
    }
   ],
   "source": [
    "y_train.shape"
   ]
  },
  {
   "cell_type": "code",
   "execution_count": 7,
   "id": "0b2babdd",
   "metadata": {
    "execution": {
     "iopub.execute_input": "2023-08-07T12:42:05.267516Z",
     "iopub.status.busy": "2023-08-07T12:42:05.266879Z",
     "iopub.status.idle": "2023-08-07T12:42:05.488902Z",
     "shell.execute_reply": "2023-08-07T12:42:05.487581Z"
    },
    "papermill": {
     "duration": 0.232519,
     "end_time": "2023-08-07T12:42:05.491751",
     "exception": false,
     "start_time": "2023-08-07T12:42:05.259232",
     "status": "completed"
    },
    "tags": []
   },
   "outputs": [],
   "source": [
    "model = Sequential()\n",
    "\n",
    "model.add(Flatten(input_shape = (28, 28)))\n",
    "model.add(Dense(64, activation = \"relu\"))\n",
    "model.add(Dense(64, activation = \"relu\"))\n",
    "model.add(Dense(10, activation = \"softmax\"))"
   ]
  },
  {
   "cell_type": "code",
   "execution_count": 8,
   "id": "abdb9e86",
   "metadata": {
    "execution": {
     "iopub.execute_input": "2023-08-07T12:42:05.505773Z",
     "iopub.status.busy": "2023-08-07T12:42:05.505346Z",
     "iopub.status.idle": "2023-08-07T12:42:05.528918Z",
     "shell.execute_reply": "2023-08-07T12:42:05.527817Z"
    },
    "papermill": {
     "duration": 0.038283,
     "end_time": "2023-08-07T12:42:05.536182",
     "exception": false,
     "start_time": "2023-08-07T12:42:05.497899",
     "status": "completed"
    },
    "tags": []
   },
   "outputs": [
    {
     "name": "stdout",
     "output_type": "stream",
     "text": [
      "Model: \"sequential\"\n",
      "_________________________________________________________________\n",
      " Layer (type)                Output Shape              Param #   \n",
      "=================================================================\n",
      " flatten (Flatten)           (None, 784)               0         \n",
      "                                                                 \n",
      " dense (Dense)               (None, 64)                50240     \n",
      "                                                                 \n",
      " dense_1 (Dense)             (None, 64)                4160      \n",
      "                                                                 \n",
      " dense_2 (Dense)             (None, 10)                650       \n",
      "                                                                 \n",
      "=================================================================\n",
      "Total params: 55,050\n",
      "Trainable params: 55,050\n",
      "Non-trainable params: 0\n",
      "_________________________________________________________________\n"
     ]
    }
   ],
   "source": [
    "model.summary()"
   ]
  },
  {
   "cell_type": "code",
   "execution_count": 9,
   "id": "9d9cf968",
   "metadata": {
    "execution": {
     "iopub.execute_input": "2023-08-07T12:42:05.553073Z",
     "iopub.status.busy": "2023-08-07T12:42:05.552671Z",
     "iopub.status.idle": "2023-08-07T12:42:05.574025Z",
     "shell.execute_reply": "2023-08-07T12:42:05.572816Z"
    },
    "papermill": {
     "duration": 0.033095,
     "end_time": "2023-08-07T12:42:05.576770",
     "exception": false,
     "start_time": "2023-08-07T12:42:05.543675",
     "status": "completed"
    },
    "tags": []
   },
   "outputs": [],
   "source": [
    "model.compile(optimizer=Adam(0.001), loss = SparseCategoricalCrossentropy(), metrics=[\"accuracy\"])\n",
    "#model.compile(loss='sparse_categorical_crossentropy',optimizer='Adam',metrics=['accuracy'])"
   ]
  },
  {
   "cell_type": "code",
   "execution_count": 10,
   "id": "275c1c86",
   "metadata": {
    "execution": {
     "iopub.execute_input": "2023-08-07T12:42:05.594121Z",
     "iopub.status.busy": "2023-08-07T12:42:05.593713Z",
     "iopub.status.idle": "2023-08-07T12:42:53.990429Z",
     "shell.execute_reply": "2023-08-07T12:42:53.989442Z"
    },
    "papermill": {
     "duration": 48.408497,
     "end_time": "2023-08-07T12:42:53.992914",
     "exception": false,
     "start_time": "2023-08-07T12:42:05.584417",
     "status": "completed"
    },
    "tags": []
   },
   "outputs": [
    {
     "name": "stdout",
     "output_type": "stream",
     "text": [
      "Epoch 1/10\n",
      "1875/1875 [==============================] - 6s 3ms/step - loss: 0.2774 - accuracy: 0.9204 - val_loss: 0.1514 - val_accuracy: 0.9539\n",
      "Epoch 2/10\n",
      "1875/1875 [==============================] - 5s 3ms/step - loss: 0.1292 - accuracy: 0.9612 - val_loss: 0.1229 - val_accuracy: 0.9612\n",
      "Epoch 3/10\n",
      "1875/1875 [==============================] - 5s 3ms/step - loss: 0.0916 - accuracy: 0.9716 - val_loss: 0.1001 - val_accuracy: 0.9684\n",
      "Epoch 4/10\n",
      "1875/1875 [==============================] - 5s 3ms/step - loss: 0.0718 - accuracy: 0.9773 - val_loss: 0.0893 - val_accuracy: 0.9723\n",
      "Epoch 5/10\n",
      "1875/1875 [==============================] - 5s 2ms/step - loss: 0.0579 - accuracy: 0.9821 - val_loss: 0.0851 - val_accuracy: 0.9738\n",
      "Epoch 6/10\n",
      "1875/1875 [==============================] - 4s 2ms/step - loss: 0.0492 - accuracy: 0.9848 - val_loss: 0.1025 - val_accuracy: 0.9695\n",
      "Epoch 7/10\n",
      "1875/1875 [==============================] - 5s 3ms/step - loss: 0.0417 - accuracy: 0.9870 - val_loss: 0.0979 - val_accuracy: 0.9737\n",
      "Epoch 8/10\n",
      "1875/1875 [==============================] - 5s 2ms/step - loss: 0.0372 - accuracy: 0.9880 - val_loss: 0.1048 - val_accuracy: 0.9709\n",
      "Epoch 9/10\n",
      "1875/1875 [==============================] - 5s 2ms/step - loss: 0.0314 - accuracy: 0.9896 - val_loss: 0.0904 - val_accuracy: 0.9748\n",
      "Epoch 10/10\n",
      "1875/1875 [==============================] - 4s 2ms/step - loss: 0.0287 - accuracy: 0.9898 - val_loss: 0.0953 - val_accuracy: 0.9752\n"
     ]
    }
   ],
   "source": [
    "history = model.fit(x_train, y_train, epochs=10, validation_data=(x_test, y_test), validation_split=0.2)"
   ]
  },
  {
   "cell_type": "code",
   "execution_count": 11,
   "id": "86c9d891",
   "metadata": {
    "execution": {
     "iopub.execute_input": "2023-08-07T12:42:54.160503Z",
     "iopub.status.busy": "2023-08-07T12:42:54.159521Z",
     "iopub.status.idle": "2023-08-07T12:42:54.862653Z",
     "shell.execute_reply": "2023-08-07T12:42:54.861445Z"
    },
    "papermill": {
     "duration": 0.790326,
     "end_time": "2023-08-07T12:42:54.865500",
     "exception": false,
     "start_time": "2023-08-07T12:42:54.075174",
     "status": "completed"
    },
    "tags": []
   },
   "outputs": [
    {
     "name": "stdout",
     "output_type": "stream",
     "text": [
      "313/313 [==============================] - 1s 2ms/step - loss: 0.0953 - accuracy: 0.9752\n"
     ]
    }
   ],
   "source": [
    "loss, accuracy = model.evaluate(x_test, y_test)"
   ]
  },
  {
   "cell_type": "code",
   "execution_count": 12,
   "id": "7fcf357e",
   "metadata": {
    "execution": {
     "iopub.execute_input": "2023-08-07T12:42:55.052788Z",
     "iopub.status.busy": "2023-08-07T12:42:55.051847Z",
     "iopub.status.idle": "2023-08-07T12:42:55.336408Z",
     "shell.execute_reply": "2023-08-07T12:42:55.335071Z"
    },
    "papermill": {
     "duration": 0.388596,
     "end_time": "2023-08-07T12:42:55.339068",
     "exception": false,
     "start_time": "2023-08-07T12:42:54.950472",
     "status": "completed"
    },
    "tags": []
   },
   "outputs": [
    {
     "data": {
      "image/png": "[encoded data removed]",
      "text/plain": [
       "<Figure size 640x480 with 1 Axes>"
      ]
     },
     "metadata": {},
     "output_type": "display_data"
    }
   ],
   "source": [
    "plt.plot(history.history[\"accuracy\"], label = \"Accuracy\")\n",
    "plt.plot(history.history[\"loss\"], label = \"Loss\")\n",
    "plt.xlabel(\"Numper of Epochs\")\n",
    "plt.ylabel(\"Accuracy Scale\")\n",
    "plt.legend()\n",
    "plt.show()"
   ]
  }
 ],
 "metadata": {
  "kernelspec": {
   "display_name": "Python 3",
   "language": "python",
   "name": "python3"
  },
  "language_info": {
   "codemirror_mode": {
    "name": "ipython",
    "version": 3
   },
   "file_extension": ".py",
   "mimetype": "text/x-python",
   "name": "python",
   "nbconvert_exporter": "python",
   "pygments_lexer": "ipython3",
   "version": "3.10.12"
  },
  "papermill": {
   "default_parameters": {},
   "duration": 77.741574,
   "end_time": "2023-08-07T12:42:58.268267",
   "environment_variables": {},
   "exception": null,
   "input_path": "__notebook__.ipynb",
   "output_path": "__notebook__.ipynb",
   "parameters": {},
   "start_time": "2023-08-07T12:41:40.526693",
   "version": "2.4.0"
  }
 },
 "nbformat": 4,
 "nbformat_minor": 5
}

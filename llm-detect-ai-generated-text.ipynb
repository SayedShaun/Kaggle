{
 "cells": [
  {
   "cell_type": "code",
   "execution_count": 1,
   "id": "e84e4272",
   "metadata": {
    "execution": {
     "iopub.execute_input": "2023-11-25T14:07:14.448298Z",
     "iopub.status.busy": "2023-11-25T14:07:14.447830Z",
     "iopub.status.idle": "2023-11-25T14:07:36.972252Z",
     "shell.execute_reply": "2023-11-25T14:07:36.970936Z"
    },
    "papermill": {
     "duration": 22.534585,
     "end_time": "2023-11-25T14:07:36.975445",
     "exception": false,
     "start_time": "2023-11-25T14:07:14.440860",
     "status": "completed"
    },
    "tags": []
   },
   "outputs": [
    {
     "data": {
      "text/plain": [
       "0       car car around sinc becam famou henri ford cre...\n",
       "1       transport larg necess countri worldwid no doub...\n",
       "2       america love affair vehicl seem cool say elisa...\n",
       "3       often ride car drive one motor vehicl work sto...\n",
       "4       car wonder thing perhap one world greatest adv...\n",
       "                              ...                        \n",
       "1373    fuss elector colleg mani peopl get confus work...\n",
       "1374    limit car usag mani advantag put lot less poll...\n",
       "1375    there new trend develop year soon full throttl...\n",
       "1376    know car big part societi today howev car bigg...\n",
       "1377    car around sinc popular ever sinc although rec...\n",
       "Name: text, Length: 1378, dtype: object"
      ]
     },
     "execution_count": 1,
     "metadata": {},
     "output_type": "execute_result"
    }
   ],
   "source": [
    "import numpy as np\n",
    "import pandas as pd\n",
    "import warnings\n",
    "warnings.filterwarnings(\"ignore\")\n",
    "import re\n",
    "from nltk.stem.porter import PorterStemmer\n",
    "\n",
    "df = pd.read_csv(\"/kaggle/input/llm-detect-ai-generated-text/train_essays.csv\")\n",
    "\n",
    "ps = PorterStemmer()\n",
    "stopwords = ['a', 'about', 'above', 'after', 'again', 'ain', 'all', 'am', 'an','and','any','are', 'as', 'at', 'be', 'because', 'been',\n",
    "             'before','being', 'below', 'between','both', 'by', 'can', 'd', 'did', 'do','does', 'doing', 'down', 'during', 'each','few',\n",
    "             'for', 'from','further', 'had', 'has', 'have', 'having', 'he', 'her', 'here','hers', 'herself', 'him', 'himself', 'his', 'how', 'i', 'if', 'in',\n",
    "             'into','is', 'it', 'its', 'itself', 'just', 'll', 'm', 'ma','me', 'more', 'most','my', 'myself', 'now', 'o', 'of', 'on', 'once',\n",
    "             'only', 'or', 'other', 'our', 'ours','ourselves', 'out', 'own', 're','s', 'same', 'she', \"shes\", 'should', \"shouldve\",'so', 'some', 'such',\n",
    "             't', 'than', 'that', \"thatll\", 'the', 'their', 'theirs', 'them','themselves', 'then', 'there', 'these', 'they', 'this', 'those',\n",
    "             'through', 'to', 'too','under', 'until', 'up', 've', 'very', 'was','we', 'were', 'what', 'when', 'where','which','while', 'who', 'whom',\n",
    "             'why', 'will', 'with', 'won', 'y', 'you', \"youd\",\"youll\", \"youre\",\"youve\", 'your', 'yours', 'yourself', 'yourselves']\n",
    "\n",
    "def preprocess(text):\n",
    "    cleaned_text = re.sub(r\"http\\S+\", \"\", text)\n",
    "    cleaned_text = re.sub(r\"<[^>]*>\", \"\", cleaned_text)\n",
    "    cleaned_text = re.sub(r\"[^\\w\\s]\", \"\", cleaned_text)\n",
    "    cleaned_text = re.sub(r\"(.)\\1{2,}\", r\"\\1\", cleaned_text)\n",
    "    cleaned_text = re.sub(r\"\\d\", \"\", cleaned_text)\n",
    "    cleaned_text = \" \".join([word for word in cleaned_text.split() if word.lower() not in stopwords])\n",
    "\n",
    "    stemmed_words = [ps.stem(word) for word in cleaned_text.split()]\n",
    "    cleaned_text = \" \".join(stemmed_words)\n",
    "    return cleaned_text\n",
    "\n",
    "df[\"text\"].apply(preprocess)"
   ]
  },
  {
   "cell_type": "code",
   "execution_count": 2,
   "id": "b5dc77cb",
   "metadata": {
    "execution": {
     "iopub.execute_input": "2023-11-25T14:07:36.987137Z",
     "iopub.status.busy": "2023-11-25T14:07:36.986302Z",
     "iopub.status.idle": "2023-11-25T14:07:37.959747Z",
     "shell.execute_reply": "2023-11-25T14:07:37.958756Z"
    },
    "papermill": {
     "duration": 0.982276,
     "end_time": "2023-11-25T14:07:37.962433",
     "exception": false,
     "start_time": "2023-11-25T14:07:36.980157",
     "status": "completed"
    },
    "tags": []
   },
   "outputs": [
    {
     "data": {
      "text/plain": [
       "((1378, 16355), (1378,))"
      ]
     },
     "execution_count": 2,
     "metadata": {},
     "output_type": "execute_result"
    }
   ],
   "source": [
    "from sklearn.feature_extraction.text import TfidfVectorizer\n",
    "vector = TfidfVectorizer()\n",
    "x = vector.fit_transform(df[\"text\"])\n",
    "y = df[\"generated\"]\n",
    "x.shape, y.shape"
   ]
  },
  {
   "cell_type": "code",
   "execution_count": 3,
   "id": "dc1e8d65",
   "metadata": {
    "execution": {
     "iopub.execute_input": "2023-11-25T14:07:37.975061Z",
     "iopub.status.busy": "2023-11-25T14:07:37.973758Z",
     "iopub.status.idle": "2023-11-25T14:07:37.986260Z",
     "shell.execute_reply": "2023-11-25T14:07:37.984681Z"
    },
    "papermill": {
     "duration": 0.022188,
     "end_time": "2023-11-25T14:07:37.989356",
     "exception": false,
     "start_time": "2023-11-25T14:07:37.967168",
     "status": "completed"
    },
    "tags": []
   },
   "outputs": [],
   "source": [
    "from sklearn.model_selection import train_test_split\n",
    "x_train, x_test, y_train, y_test = train_test_split(x, y, test_size=0.1, random_state=32)"
   ]
  },
  {
   "cell_type": "code",
   "execution_count": 4,
   "id": "a2afc242",
   "metadata": {
    "execution": {
     "iopub.execute_input": "2023-11-25T14:07:38.001188Z",
     "iopub.status.busy": "2023-11-25T14:07:38.000639Z",
     "iopub.status.idle": "2023-11-25T14:07:43.887909Z",
     "shell.execute_reply": "2023-11-25T14:07:43.886503Z"
    },
    "papermill": {
     "duration": 5.896394,
     "end_time": "2023-11-25T14:07:43.890789",
     "exception": false,
     "start_time": "2023-11-25T14:07:37.994395",
     "status": "completed"
    },
    "tags": []
   },
   "outputs": [
    {
     "name": "stdout",
     "output_type": "stream",
     "text": [
      "[Voting] ...................... (1 of 6) Processing mnb, total=   0.0s\n",
      "[Voting] ....................... (2 of 6) Processing rf, total=   0.4s\n",
      "[Voting] ....................... (3 of 6) Processing dt, total=   0.1s\n",
      "[Voting] ....................... (4 of 6) Processing sv, total=   0.5s\n",
      "[Voting] ....................... (5 of 6) Processing lr, total=   0.4s\n",
      "[Voting] ...................... (6 of 6) Processing xgb, total=   3.4s\n",
      "Accuracy 0.9927536231884058 \n",
      "Precision 0.0 \n",
      "Recall 0.0 \n",
      "Classification Report               precision    recall  f1-score   support\n",
      "\n",
      "           0       0.99      1.00      1.00       137\n",
      "           1       0.00      0.00      0.00         1\n",
      "\n",
      "    accuracy                           0.99       138\n",
      "   macro avg       0.50      0.50      0.50       138\n",
      "weighted avg       0.99      0.99      0.99       138\n",
      "\n"
     ]
    },
    {
     "data": {
      "image/png": "[encoded data removed]",
      "text/plain": [
       "<Figure size 640x480 with 2 Axes>"
      ]
     },
     "metadata": {},
     "output_type": "display_data"
    }
   ],
   "source": [
    "from sklearn.ensemble import RandomForestClassifier, VotingClassifier\n",
    "from sklearn.naive_bayes import MultinomialNB\n",
    "from sklearn.tree import DecisionTreeClassifier\n",
    "from sklearn.svm import SVC\n",
    "from sklearn.linear_model import LogisticRegression\n",
    "from xgboost import XGBRFClassifier\n",
    "from sklearn.metrics import confusion_matrix, accuracy_score, precision_score, recall_score, classification_report\n",
    "import matplotlib.pyplot as plt\n",
    "import seaborn as sns\n",
    "\n",
    "class MyModel:\n",
    "    def __init__(self):\n",
    "        self.MNB = MultinomialNB()\n",
    "        self.RFC = RandomForestClassifier()\n",
    "        self.DT = DecisionTreeClassifier()\n",
    "        self.SVM = SVC()\n",
    "        self.LR = LogisticRegression()\n",
    "        self.XGB = XGBRFClassifier()\n",
    "        self.voting_model = VotingClassifier(\n",
    "            estimators=[(\"mnb\", self.MNB), \n",
    "                        (\"rf\", self.RFC), \n",
    "                        (\"dt\", self.DT), \n",
    "                        (\"sv\", self.SVM), \n",
    "                        (\"lr\", self.LR), \n",
    "                        (\"xgb\", self.XGB)],\n",
    "            voting=\"hard\",\n",
    "            verbose=True)\n",
    "\n",
    "    def train(self, x_train, y_train):\n",
    "        self.voting_model.fit(x_train, y_train)\n",
    "        \n",
    "    def predict(self, test_data):\n",
    "        return self.voting_model.predict(test_data)\n",
    "    \n",
    "    def evaluate(self, test_data):\n",
    "        y_pred = self.voting_model.predict(test_data)\n",
    "        accuracy = accuracy_score(y_test, y_pred)\n",
    "        precision = precision_score(y_test, y_pred)\n",
    "        recall = recall_score(y_test, y_pred)\n",
    "        clf_report = classification_report(y_test, y_pred)\n",
    "        print(f\"Accuracy {accuracy} \\nPrecision {precision} \\nRecall {recall} \\nClassification Report {clf_report}\")\n",
    "        \n",
    "        cm = confusion_matrix(y_test, y_pred)\n",
    "        sns.heatmap(cm, annot=True, cmap=\"Blues\",  fmt='.2f')\n",
    "        plt.plot()\n",
    "    \n",
    "voting_model = MyModel()\n",
    "voting_model.train(x_train, y_train)\n",
    "voting_model.evaluate(x_test)"
   ]
  },
  {
   "cell_type": "code",
   "execution_count": 5,
   "id": "d2853739",
   "metadata": {
    "execution": {
     "iopub.execute_input": "2023-11-25T14:07:43.904326Z",
     "iopub.status.busy": "2023-11-25T14:07:43.903797Z",
     "iopub.status.idle": "2023-11-25T14:07:43.931542Z",
     "shell.execute_reply": "2023-11-25T14:07:43.930189Z"
    },
    "papermill": {
     "duration": 0.038125,
     "end_time": "2023-11-25T14:07:43.934558",
     "exception": false,
     "start_time": "2023-11-25T14:07:43.896433",
     "status": "completed"
    },
    "tags": []
   },
   "outputs": [
    {
     "data": {
      "text/html": [
       "<div>\n",
       "<style scoped>\n",
       "    .dataframe tbody tr th:only-of-type {\n",
       "        vertical-align: middle;\n",
       "    }\n",
       "\n",
       "    .dataframe tbody tr th {\n",
       "        vertical-align: top;\n",
       "    }\n",
       "\n",
       "    .dataframe thead th {\n",
       "        text-align: right;\n",
       "    }\n",
       "</style>\n",
       "<table border=\"1\" class=\"dataframe\">\n",
       "  <thead>\n",
       "    <tr style=\"text-align: right;\">\n",
       "      <th></th>\n",
       "      <th>id</th>\n",
       "      <th>prompt_id</th>\n",
       "      <th>text</th>\n",
       "    </tr>\n",
       "  </thead>\n",
       "  <tbody>\n",
       "    <tr>\n",
       "      <th>0</th>\n",
       "      <td>0000aaaa</td>\n",
       "      <td>2</td>\n",
       "      <td>Aaa bbb ccc.</td>\n",
       "    </tr>\n",
       "    <tr>\n",
       "      <th>1</th>\n",
       "      <td>1111bbbb</td>\n",
       "      <td>3</td>\n",
       "      <td>Bbb ccc ddd.</td>\n",
       "    </tr>\n",
       "    <tr>\n",
       "      <th>2</th>\n",
       "      <td>2222cccc</td>\n",
       "      <td>4</td>\n",
       "      <td>CCC ddd eee.</td>\n",
       "    </tr>\n",
       "  </tbody>\n",
       "</table>\n",
       "</div>"
      ],
      "text/plain": [
       "         id  prompt_id          text\n",
       "0  0000aaaa          2  Aaa bbb ccc.\n",
       "1  1111bbbb          3  Bbb ccc ddd.\n",
       "2  2222cccc          4  CCC ddd eee."
      ]
     },
     "execution_count": 5,
     "metadata": {},
     "output_type": "execute_result"
    }
   ],
   "source": [
    "test_ds = pd.read_csv(\"/kaggle/input/llm-detect-ai-generated-text/test_essays.csv\")\n",
    "test_ds.head()"
   ]
  },
  {
   "cell_type": "code",
   "execution_count": 6,
   "id": "f2a09c77",
   "metadata": {
    "execution": {
     "iopub.execute_input": "2023-11-25T14:07:43.948033Z",
     "iopub.status.busy": "2023-11-25T14:07:43.947492Z",
     "iopub.status.idle": "2023-11-25T14:07:43.975775Z",
     "shell.execute_reply": "2023-11-25T14:07:43.974414Z"
    },
    "papermill": {
     "duration": 0.038946,
     "end_time": "2023-11-25T14:07:43.979230",
     "exception": false,
     "start_time": "2023-11-25T14:07:43.940284",
     "status": "completed"
    },
    "tags": []
   },
   "outputs": [],
   "source": [
    "test_ds[\"text\"].apply(preprocess)\n",
    "test_x = vector.transform(test_ds[\"text\"])\n",
    "y_pred = voting_model.predict(test_x)"
   ]
  },
  {
   "cell_type": "code",
   "execution_count": 7,
   "id": "8d14f3f8",
   "metadata": {
    "execution": {
     "iopub.execute_input": "2023-11-25T14:07:43.994413Z",
     "iopub.status.busy": "2023-11-25T14:07:43.993911Z",
     "iopub.status.idle": "2023-11-25T14:07:44.007368Z",
     "shell.execute_reply": "2023-11-25T14:07:44.006190Z"
    },
    "papermill": {
     "duration": 0.024312,
     "end_time": "2023-11-25T14:07:44.010269",
     "exception": false,
     "start_time": "2023-11-25T14:07:43.985957",
     "status": "completed"
    },
    "tags": []
   },
   "outputs": [
    {
     "data": {
      "text/html": [
       "<div>\n",
       "<style scoped>\n",
       "    .dataframe tbody tr th:only-of-type {\n",
       "        vertical-align: middle;\n",
       "    }\n",
       "\n",
       "    .dataframe tbody tr th {\n",
       "        vertical-align: top;\n",
       "    }\n",
       "\n",
       "    .dataframe thead th {\n",
       "        text-align: right;\n",
       "    }\n",
       "</style>\n",
       "<table border=\"1\" class=\"dataframe\">\n",
       "  <thead>\n",
       "    <tr style=\"text-align: right;\">\n",
       "      <th></th>\n",
       "      <th>id</th>\n",
       "      <th>generated</th>\n",
       "    </tr>\n",
       "  </thead>\n",
       "  <tbody>\n",
       "    <tr>\n",
       "      <th>0</th>\n",
       "      <td>0000aaaa</td>\n",
       "      <td>0</td>\n",
       "    </tr>\n",
       "    <tr>\n",
       "      <th>1</th>\n",
       "      <td>1111bbbb</td>\n",
       "      <td>0</td>\n",
       "    </tr>\n",
       "    <tr>\n",
       "      <th>2</th>\n",
       "      <td>2222cccc</td>\n",
       "      <td>0</td>\n",
       "    </tr>\n",
       "  </tbody>\n",
       "</table>\n",
       "</div>"
      ],
      "text/plain": [
       "         id  generated\n",
       "0  0000aaaa          0\n",
       "1  1111bbbb          0\n",
       "2  2222cccc          0"
      ]
     },
     "execution_count": 7,
     "metadata": {},
     "output_type": "execute_result"
    }
   ],
   "source": [
    "submission = pd.DataFrame({'id':test_ds['id'],'generated':y_pred})\n",
    "submission.head()"
   ]
  },
  {
   "cell_type": "code",
   "execution_count": 8,
   "id": "9e0634c0",
   "metadata": {
    "execution": {
     "iopub.execute_input": "2023-11-25T14:07:44.024929Z",
     "iopub.status.busy": "2023-11-25T14:07:44.023703Z",
     "iopub.status.idle": "2023-11-25T14:07:44.033696Z",
     "shell.execute_reply": "2023-11-25T14:07:44.032485Z"
    },
    "papermill": {
     "duration": 0.020234,
     "end_time": "2023-11-25T14:07:44.036407",
     "exception": false,
     "start_time": "2023-11-25T14:07:44.016173",
     "status": "completed"
    },
    "tags": []
   },
   "outputs": [],
   "source": [
    "submission.to_csv('submission.csv',index=False)"
   ]
  }
 ],
 "metadata": {
  "kaggle": {
   "accelerator": "none",
   "dataSources": [
    {
     "databundleVersionId": 6888007,
     "sourceId": 61542,
     "sourceType": "competition"
    }
   ],
   "dockerImageVersionId": 30579,
   "isGpuEnabled": false,
   "isInternetEnabled": true,
   "language": "python",
   "sourceType": "notebook"
  },
  "kernelspec": {
   "display_name": "Python 3",
   "language": "python",
   "name": "python3"
  },
  "language_info": {
   "codemirror_mode": {
    "name": "ipython",
    "version": 3
   },
   "file_extension": ".py",
   "mimetype": "text/x-python",
   "name": "python",
   "nbconvert_exporter": "python",
   "pygments_lexer": "ipython3",
   "version": "3.10.12"
  },
  "papermill": {
   "default_parameters": {},
   "duration": 34.897984,
   "end_time": "2023-11-25T14:07:45.067775",
   "environment_variables": {},
   "exception": null,
   "input_path": "__notebook__.ipynb",
   "output_path": "__notebook__.ipynb",
   "parameters": {},
   "start_time": "2023-11-25T14:07:10.169791",
   "version": "2.4.0"
  }
 },
 "nbformat": 4,
 "nbformat_minor": 5
}

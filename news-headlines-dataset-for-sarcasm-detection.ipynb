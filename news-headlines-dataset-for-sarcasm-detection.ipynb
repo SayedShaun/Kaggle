{
 "cells": [
  {
   "cell_type": "code",
   "execution_count": 1,
   "id": "1af9ec86",
   "metadata": {
    "execution": {
     "iopub.execute_input": "2023-08-31T04:24:16.634273Z",
     "iopub.status.busy": "2023-08-31T04:24:16.633663Z",
     "iopub.status.idle": "2023-08-31T04:24:16.646917Z",
     "shell.execute_reply": "2023-08-31T04:24:16.645926Z"
    },
    "papermill": {
     "duration": 0.026949,
     "end_time": "2023-08-31T04:24:16.649055",
     "exception": false,
     "start_time": "2023-08-31T04:24:16.622106",
     "status": "completed"
    },
    "tags": []
   },
   "outputs": [],
   "source": [
    "import numpy as np\n",
    "import pandas as pd"
   ]
  },
  {
   "cell_type": "code",
   "execution_count": 2,
   "id": "8a7feb41",
   "metadata": {
    "execution": {
     "iopub.execute_input": "2023-08-31T04:24:16.669396Z",
     "iopub.status.busy": "2023-08-31T04:24:16.668669Z",
     "iopub.status.idle": "2023-08-31T04:24:17.059949Z",
     "shell.execute_reply": "2023-08-31T04:24:17.058825Z"
    },
    "papermill": {
     "duration": 0.404439,
     "end_time": "2023-08-31T04:24:17.062459",
     "exception": false,
     "start_time": "2023-08-31T04:24:16.658020",
     "status": "completed"
    },
    "tags": []
   },
   "outputs": [
    {
     "data": {
      "text/html": [
       "<div>\n",
       "<style scoped>\n",
       "    .dataframe tbody tr th:only-of-type {\n",
       "        vertical-align: middle;\n",
       "    }\n",
       "\n",
       "    .dataframe tbody tr th {\n",
       "        vertical-align: top;\n",
       "    }\n",
       "\n",
       "    .dataframe thead th {\n",
       "        text-align: right;\n",
       "    }\n",
       "</style>\n",
       "<table border=\"1\" class=\"dataframe\">\n",
       "  <thead>\n",
       "    <tr style=\"text-align: right;\">\n",
       "      <th></th>\n",
       "      <th>is_sarcastic</th>\n",
       "      <th>headline</th>\n",
       "      <th>article_link</th>\n",
       "    </tr>\n",
       "  </thead>\n",
       "  <tbody>\n",
       "    <tr>\n",
       "      <th>0</th>\n",
       "      <td>1</td>\n",
       "      <td>thirtysomething scientists unveil doomsday clo...</td>\n",
       "      <td>https://www.theonion.com/thirtysomething-scien...</td>\n",
       "    </tr>\n",
       "    <tr>\n",
       "      <th>1</th>\n",
       "      <td>0</td>\n",
       "      <td>dem rep. totally nails why congress is falling...</td>\n",
       "      <td>https://www.huffingtonpost.com/entry/donna-edw...</td>\n",
       "    </tr>\n",
       "    <tr>\n",
       "      <th>2</th>\n",
       "      <td>0</td>\n",
       "      <td>eat your veggies: 9 deliciously different recipes</td>\n",
       "      <td>https://www.huffingtonpost.com/entry/eat-your-...</td>\n",
       "    </tr>\n",
       "  </tbody>\n",
       "</table>\n",
       "</div>"
      ],
      "text/plain": [
       "   is_sarcastic                                           headline  \\\n",
       "0             1  thirtysomething scientists unveil doomsday clo...   \n",
       "1             0  dem rep. totally nails why congress is falling...   \n",
       "2             0  eat your veggies: 9 deliciously different recipes   \n",
       "\n",
       "                                        article_link  \n",
       "0  https://www.theonion.com/thirtysomething-scien...  \n",
       "1  https://www.huffingtonpost.com/entry/donna-edw...  \n",
       "2  https://www.huffingtonpost.com/entry/eat-your-...  "
      ]
     },
     "execution_count": 2,
     "metadata": {},
     "output_type": "execute_result"
    }
   ],
   "source": [
    "df_v2 = pd.read_json(\"/kaggle/input/news-headlines-dataset-for-sarcasm-detection/Sarcasm_Headlines_Dataset_v2.json\", lines=True)\n",
    "df_v2.head(3)"
   ]
  },
  {
   "cell_type": "code",
   "execution_count": 3,
   "id": "33990206",
   "metadata": {
    "execution": {
     "iopub.execute_input": "2023-08-31T04:24:17.083287Z",
     "iopub.status.busy": "2023-08-31T04:24:17.082587Z",
     "iopub.status.idle": "2023-08-31T04:24:17.090656Z",
     "shell.execute_reply": "2023-08-31T04:24:17.089341Z"
    },
    "papermill": {
     "duration": 0.020722,
     "end_time": "2023-08-31T04:24:17.092995",
     "exception": false,
     "start_time": "2023-08-31T04:24:17.072273",
     "status": "completed"
    },
    "tags": []
   },
   "outputs": [
    {
     "data": {
      "text/plain": [
       "(28619, 3)"
      ]
     },
     "execution_count": 3,
     "metadata": {},
     "output_type": "execute_result"
    }
   ],
   "source": [
    "df_v2.shape"
   ]
  },
  {
   "cell_type": "code",
   "execution_count": 4,
   "id": "f1609347",
   "metadata": {
    "execution": {
     "iopub.execute_input": "2023-08-31T04:24:17.112980Z",
     "iopub.status.busy": "2023-08-31T04:24:17.112108Z",
     "iopub.status.idle": "2023-08-31T04:24:17.124824Z",
     "shell.execute_reply": "2023-08-31T04:24:17.123692Z"
    },
    "papermill": {
     "duration": 0.02528,
     "end_time": "2023-08-31T04:24:17.127209",
     "exception": false,
     "start_time": "2023-08-31T04:24:17.101929",
     "status": "completed"
    },
    "tags": []
   },
   "outputs": [
    {
     "data": {
      "text/html": [
       "<div>\n",
       "<style scoped>\n",
       "    .dataframe tbody tr th:only-of-type {\n",
       "        vertical-align: middle;\n",
       "    }\n",
       "\n",
       "    .dataframe tbody tr th {\n",
       "        vertical-align: top;\n",
       "    }\n",
       "\n",
       "    .dataframe thead th {\n",
       "        text-align: right;\n",
       "    }\n",
       "</style>\n",
       "<table border=\"1\" class=\"dataframe\">\n",
       "  <thead>\n",
       "    <tr style=\"text-align: right;\">\n",
       "      <th></th>\n",
       "      <th>is_sarcastic</th>\n",
       "      <th>headline</th>\n",
       "    </tr>\n",
       "  </thead>\n",
       "  <tbody>\n",
       "    <tr>\n",
       "      <th>0</th>\n",
       "      <td>1</td>\n",
       "      <td>thirtysomething scientists unveil doomsday clo...</td>\n",
       "    </tr>\n",
       "    <tr>\n",
       "      <th>1</th>\n",
       "      <td>0</td>\n",
       "      <td>dem rep. totally nails why congress is falling...</td>\n",
       "    </tr>\n",
       "    <tr>\n",
       "      <th>2</th>\n",
       "      <td>0</td>\n",
       "      <td>eat your veggies: 9 deliciously different recipes</td>\n",
       "    </tr>\n",
       "    <tr>\n",
       "      <th>3</th>\n",
       "      <td>1</td>\n",
       "      <td>inclement weather prevents liar from getting t...</td>\n",
       "    </tr>\n",
       "    <tr>\n",
       "      <th>4</th>\n",
       "      <td>1</td>\n",
       "      <td>mother comes pretty close to using word 'strea...</td>\n",
       "    </tr>\n",
       "  </tbody>\n",
       "</table>\n",
       "</div>"
      ],
      "text/plain": [
       "   is_sarcastic                                           headline\n",
       "0             1  thirtysomething scientists unveil doomsday clo...\n",
       "1             0  dem rep. totally nails why congress is falling...\n",
       "2             0  eat your veggies: 9 deliciously different recipes\n",
       "3             1  inclement weather prevents liar from getting t...\n",
       "4             1  mother comes pretty close to using word 'strea..."
      ]
     },
     "execution_count": 4,
     "metadata": {},
     "output_type": "execute_result"
    }
   ],
   "source": [
    "df = df_v2.iloc[:, :2]\n",
    "df.head()"
   ]
  },
  {
   "cell_type": "code",
   "execution_count": 5,
   "id": "d79d843b",
   "metadata": {
    "execution": {
     "iopub.execute_input": "2023-08-31T04:24:17.149870Z",
     "iopub.status.busy": "2023-08-31T04:24:17.148965Z",
     "iopub.status.idle": "2023-08-31T04:24:17.187645Z",
     "shell.execute_reply": "2023-08-31T04:24:17.186477Z"
    },
    "papermill": {
     "duration": 0.052815,
     "end_time": "2023-08-31T04:24:17.190713",
     "exception": false,
     "start_time": "2023-08-31T04:24:17.137898",
     "status": "completed"
    },
    "tags": []
   },
   "outputs": [
    {
     "name": "stdout",
     "output_type": "stream",
     "text": [
      "<class 'pandas.core.frame.DataFrame'>\n",
      "RangeIndex: 28619 entries, 0 to 28618\n",
      "Data columns (total 2 columns):\n",
      " #   Column        Non-Null Count  Dtype \n",
      "---  ------        --------------  ----- \n",
      " 0   is_sarcastic  28619 non-null  int64 \n",
      " 1   headline      28619 non-null  object\n",
      "dtypes: int64(1), object(1)\n",
      "memory usage: 447.3+ KB\n"
     ]
    }
   ],
   "source": [
    "df.info()"
   ]
  },
  {
   "cell_type": "code",
   "execution_count": 6,
   "id": "82c87e5a",
   "metadata": {
    "execution": {
     "iopub.execute_input": "2023-08-31T04:24:17.229592Z",
     "iopub.status.busy": "2023-08-31T04:24:17.228952Z",
     "iopub.status.idle": "2023-08-31T04:24:17.261661Z",
     "shell.execute_reply": "2023-08-31T04:24:17.259348Z"
    },
    "papermill": {
     "duration": 0.061143,
     "end_time": "2023-08-31T04:24:17.267393",
     "exception": false,
     "start_time": "2023-08-31T04:24:17.206250",
     "status": "completed"
    },
    "tags": []
   },
   "outputs": [
    {
     "data": {
      "text/plain": [
       "is_sarcastic    0\n",
       "headline        0\n",
       "dtype: int64"
      ]
     },
     "execution_count": 6,
     "metadata": {},
     "output_type": "execute_result"
    }
   ],
   "source": [
    "df.isnull().sum()"
   ]
  },
  {
   "cell_type": "code",
   "execution_count": 7,
   "id": "2090485a",
   "metadata": {
    "execution": {
     "iopub.execute_input": "2023-08-31T04:24:17.304297Z",
     "iopub.status.busy": "2023-08-31T04:24:17.303889Z",
     "iopub.status.idle": "2023-08-31T04:24:17.316980Z",
     "shell.execute_reply": "2023-08-31T04:24:17.315796Z"
    },
    "papermill": {
     "duration": 0.031011,
     "end_time": "2023-08-31T04:24:17.320378",
     "exception": false,
     "start_time": "2023-08-31T04:24:17.289367",
     "status": "completed"
    },
    "tags": []
   },
   "outputs": [
    {
     "data": {
      "text/plain": [
       "0    14985\n",
       "1    13634\n",
       "Name: is_sarcastic, dtype: int64"
      ]
     },
     "execution_count": 7,
     "metadata": {},
     "output_type": "execute_result"
    }
   ],
   "source": [
    "df[\"is_sarcastic\"].value_counts()"
   ]
  },
  {
   "cell_type": "code",
   "execution_count": 8,
   "id": "c3fb6fd9",
   "metadata": {
    "execution": {
     "iopub.execute_input": "2023-08-31T04:24:17.348877Z",
     "iopub.status.busy": "2023-08-31T04:24:17.348469Z",
     "iopub.status.idle": "2023-08-31T04:24:19.153681Z",
     "shell.execute_reply": "2023-08-31T04:24:19.152732Z"
    },
    "papermill": {
     "duration": 1.821821,
     "end_time": "2023-08-31T04:24:19.155862",
     "exception": false,
     "start_time": "2023-08-31T04:24:17.334041",
     "status": "completed"
    },
    "tags": []
   },
   "outputs": [
    {
     "name": "stderr",
     "output_type": "stream",
     "text": [
      "/opt/conda/lib/python3.10/site-packages/scipy/__init__.py:146: UserWarning: A NumPy version >=1.16.5 and <1.23.0 is required for this version of SciPy (detected version 1.23.5\n",
      "  warnings.warn(f\"A NumPy version >={np_minversion} and <{np_maxversion}\"\n"
     ]
    },
    {
     "data": {
      "text/plain": [
       "<Axes: xlabel='is_sarcastic', ylabel='count'>"
      ]
     },
     "execution_count": 8,
     "metadata": {},
     "output_type": "execute_result"
    },
    {
     "data": {
      "image/png": "[encoded data removed]",
      "text/plain": [
       "<Figure size 600x400 with 1 Axes>"
      ]
     },
     "metadata": {},
     "output_type": "display_data"
    }
   ],
   "source": [
    "import matplotlib.pyplot as plt\n",
    "import seaborn as sns\n",
    "plt.figure(figsize=[6, 4])\n",
    "sns.countplot(x = df[\"is_sarcastic\"], data=df)"
   ]
  },
  {
   "cell_type": "code",
   "execution_count": 9,
   "id": "6f4a45ab",
   "metadata": {
    "execution": {
     "iopub.execute_input": "2023-08-31T04:24:19.177898Z",
     "iopub.status.busy": "2023-08-31T04:24:19.177563Z",
     "iopub.status.idle": "2023-08-31T04:24:19.184071Z",
     "shell.execute_reply": "2023-08-31T04:24:19.182987Z"
    },
    "papermill": {
     "duration": 0.021164,
     "end_time": "2023-08-31T04:24:19.187592",
     "exception": false,
     "start_time": "2023-08-31T04:24:19.166428",
     "status": "completed"
    },
    "tags": []
   },
   "outputs": [
    {
     "data": {
      "text/plain": [
       "'thirtysomething scientists unveil doomsday clock of hair loss'"
      ]
     },
     "execution_count": 9,
     "metadata": {},
     "output_type": "execute_result"
    }
   ],
   "source": [
    "sentences = df[\"headline\"]\n",
    "sentences[0]"
   ]
  },
  {
   "cell_type": "code",
   "execution_count": 10,
   "id": "3b79c6dc",
   "metadata": {
    "execution": {
     "iopub.execute_input": "2023-08-31T04:24:19.210136Z",
     "iopub.status.busy": "2023-08-31T04:24:19.209821Z",
     "iopub.status.idle": "2023-08-31T04:24:19.267186Z",
     "shell.execute_reply": "2023-08-31T04:24:19.266017Z"
    },
    "papermill": {
     "duration": 0.07138,
     "end_time": "2023-08-31T04:24:19.269456",
     "exception": false,
     "start_time": "2023-08-31T04:24:19.198076",
     "status": "completed"
    },
    "tags": []
   },
   "outputs": [
    {
     "data": {
      "text/plain": [
       "(2, 151)"
      ]
     },
     "execution_count": 10,
     "metadata": {},
     "output_type": "execute_result"
    }
   ],
   "source": [
    "word_count = df[\"headline\"].apply(lambda x: len(x.split()))\n",
    "min(word_count), max(word_count)"
   ]
  },
  {
   "cell_type": "code",
   "execution_count": 11,
   "id": "218ef1f0",
   "metadata": {
    "execution": {
     "iopub.execute_input": "2023-08-31T04:24:19.293400Z",
     "iopub.status.busy": "2023-08-31T04:24:19.292473Z",
     "iopub.status.idle": "2023-08-31T04:24:19.857969Z",
     "shell.execute_reply": "2023-08-31T04:24:19.856738Z"
    },
    "papermill": {
     "duration": 0.580009,
     "end_time": "2023-08-31T04:24:19.860537",
     "exception": false,
     "start_time": "2023-08-31T04:24:19.280528",
     "status": "completed"
    },
    "tags": []
   },
   "outputs": [
    {
     "data": {
      "text/plain": [
       "<Axes: xlabel='headline', ylabel='count'>"
      ]
     },
     "execution_count": 11,
     "metadata": {},
     "output_type": "execute_result"
    },
    {
     "data": {
      "image/png": "[encoded data removed]",
      "text/plain": [
       "<Figure size 1500x400 with 1 Axes>"
      ]
     },
     "metadata": {},
     "output_type": "display_data"
    }
   ],
   "source": [
    "plt.figure(figsize=[15, 4])\n",
    "sns.countplot(x = word_count)"
   ]
  },
  {
   "cell_type": "code",
   "execution_count": 12,
   "id": "b1f6f5cc",
   "metadata": {
    "execution": {
     "iopub.execute_input": "2023-08-31T04:24:19.885529Z",
     "iopub.status.busy": "2023-08-31T04:24:19.885174Z",
     "iopub.status.idle": "2023-08-31T04:24:19.894989Z",
     "shell.execute_reply": "2023-08-31T04:24:19.893815Z"
    },
    "papermill": {
     "duration": 0.02577,
     "end_time": "2023-08-31T04:24:19.897340",
     "exception": false,
     "start_time": "2023-08-31T04:24:19.871570",
     "status": "completed"
    },
    "tags": []
   },
   "outputs": [
    {
     "data": {
      "text/plain": [
       "0        thirtysomething scientists unveil doomsday clo...\n",
       "1        dem rep. totally nails why congress is falling...\n",
       "2        eat your veggies: 9 deliciously different recipes\n",
       "3        inclement weather prevents liar from getting t...\n",
       "4        mother comes pretty close to using word 'strea...\n",
       "                               ...                        \n",
       "28614         jews to celebrate rosh hashasha or something\n",
       "28615    internal affairs investigator disappointed con...\n",
       "28616    the most beautiful acceptance speech this week...\n",
       "28617    mars probe destroyed by orbiting spielberg-gat...\n",
       "28618                   dad clarifies this not a food stop\n",
       "Name: headline, Length: 28619, dtype: object"
      ]
     },
     "execution_count": 12,
     "metadata": {},
     "output_type": "execute_result"
    }
   ],
   "source": [
    "df[\"headline\"]"
   ]
  },
  {
   "cell_type": "code",
   "execution_count": 13,
   "id": "ca5715b3",
   "metadata": {
    "execution": {
     "iopub.execute_input": "2023-08-31T04:24:19.924575Z",
     "iopub.status.busy": "2023-08-31T04:24:19.924236Z",
     "iopub.status.idle": "2023-08-31T04:24:19.942005Z",
     "shell.execute_reply": "2023-08-31T04:24:19.940489Z"
    },
    "papermill": {
     "duration": 0.033243,
     "end_time": "2023-08-31T04:24:19.944509",
     "exception": false,
     "start_time": "2023-08-31T04:24:19.911266",
     "status": "completed"
    },
    "tags": []
   },
   "outputs": [
    {
     "name": "stdout",
     "output_type": "stream",
     "text": [
      "926\n"
     ]
    }
   ],
   "source": [
    "print(np.max([len(i) for i in df[\"headline\"]]))"
   ]
  },
  {
   "cell_type": "code",
   "execution_count": 14,
   "id": "1ad9504f",
   "metadata": {
    "execution": {
     "iopub.execute_input": "2023-08-31T04:24:19.969963Z",
     "iopub.status.busy": "2023-08-31T04:24:19.969636Z",
     "iopub.status.idle": "2023-08-31T04:24:20.044343Z",
     "shell.execute_reply": "2023-08-31T04:24:20.043206Z"
    },
    "papermill": {
     "duration": 0.089744,
     "end_time": "2023-08-31T04:24:20.047140",
     "exception": false,
     "start_time": "2023-08-31T04:24:19.957396",
     "status": "completed"
    },
    "tags": []
   },
   "outputs": [
    {
     "data": {
      "text/plain": [
       "38234"
      ]
     },
     "execution_count": 14,
     "metadata": {},
     "output_type": "execute_result"
    }
   ],
   "source": [
    "unique_vocab = set(i for i in df[\"headline\"] for i in i.split())\n",
    "len(unique_vocab)"
   ]
  },
  {
   "cell_type": "code",
   "execution_count": 15,
   "id": "c8100fc8",
   "metadata": {
    "execution": {
     "iopub.execute_input": "2023-08-31T04:24:20.073637Z",
     "iopub.status.busy": "2023-08-31T04:24:20.072806Z",
     "iopub.status.idle": "2023-08-31T04:24:20.078551Z",
     "shell.execute_reply": "2023-08-31T04:24:20.077634Z"
    },
    "papermill": {
     "duration": 0.021704,
     "end_time": "2023-08-31T04:24:20.080791",
     "exception": false,
     "start_time": "2023-08-31T04:24:20.059087",
     "status": "completed"
    },
    "tags": []
   },
   "outputs": [],
   "source": [
    "sentences = df[\"headline\"]\n",
    "labels = df[\"is_sarcastic\"]"
   ]
  },
  {
   "cell_type": "code",
   "execution_count": 16,
   "id": "2d10de9c",
   "metadata": {
    "execution": {
     "iopub.execute_input": "2023-08-31T04:24:20.105102Z",
     "iopub.status.busy": "2023-08-31T04:24:20.104292Z",
     "iopub.status.idle": "2023-08-31T04:24:20.111767Z",
     "shell.execute_reply": "2023-08-31T04:24:20.110340Z"
    },
    "papermill": {
     "duration": 0.021878,
     "end_time": "2023-08-31T04:24:20.113977",
     "exception": false,
     "start_time": "2023-08-31T04:24:20.092099",
     "status": "completed"
    },
    "tags": []
   },
   "outputs": [
    {
     "name": "stdout",
     "output_type": "stream",
     "text": [
      "(25000,) (3619,)\n",
      "(25000,) (3619,)\n"
     ]
    }
   ],
   "source": [
    "train_sentences = sentences.iloc[:25000]\n",
    "test_sentences = sentences.iloc[25000:]\n",
    "\n",
    "train_labels = labels.iloc[:25000]\n",
    "test_labels = labels.iloc[25000:]\n",
    "\n",
    "print(train_sentences.shape, test_sentences.shape)\n",
    "print(train_labels.shape, test_labels.shape)"
   ]
  },
  {
   "cell_type": "code",
   "execution_count": 17,
   "id": "c9b00a71",
   "metadata": {
    "execution": {
     "iopub.execute_input": "2023-08-31T04:24:20.139162Z",
     "iopub.status.busy": "2023-08-31T04:24:20.138184Z",
     "iopub.status.idle": "2023-08-31T04:24:20.143211Z",
     "shell.execute_reply": "2023-08-31T04:24:20.142296Z"
    },
    "papermill": {
     "duration": 0.019613,
     "end_time": "2023-08-31T04:24:20.145263",
     "exception": false,
     "start_time": "2023-08-31T04:24:20.125650",
     "status": "completed"
    },
    "tags": []
   },
   "outputs": [],
   "source": [
    "vocabs = 40000\n",
    "max_length = 926"
   ]
  },
  {
   "cell_type": "code",
   "execution_count": 18,
   "id": "3946e35f",
   "metadata": {
    "execution": {
     "iopub.execute_input": "2023-08-31T04:24:20.169698Z",
     "iopub.status.busy": "2023-08-31T04:24:20.168819Z",
     "iopub.status.idle": "2023-08-31T04:24:29.862807Z",
     "shell.execute_reply": "2023-08-31T04:24:29.861796Z"
    },
    "papermill": {
     "duration": 9.70879,
     "end_time": "2023-08-31T04:24:29.865234",
     "exception": false,
     "start_time": "2023-08-31T04:24:20.156444",
     "status": "completed"
    },
    "tags": []
   },
   "outputs": [
    {
     "name": "stderr",
     "output_type": "stream",
     "text": [
      "/opt/conda/lib/python3.10/site-packages/tensorflow_io/python/ops/__init__.py:98: UserWarning: unable to load libtensorflow_io_plugins.so: unable to open file: libtensorflow_io_plugins.so, from paths: ['/opt/conda/lib/python3.10/site-packages/tensorflow_io/python/ops/libtensorflow_io_plugins.so']\n",
      "caused by: ['/opt/conda/lib/python3.10/site-packages/tensorflow_io/python/ops/libtensorflow_io_plugins.so: undefined symbol: _ZN3tsl6StatusC1EN10tensorflow5error4CodeESt17basic_string_viewIcSt11char_traitsIcEENS_14SourceLocationE']\n",
      "  warnings.warn(f\"unable to load libtensorflow_io_plugins.so: {e}\")\n",
      "/opt/conda/lib/python3.10/site-packages/tensorflow_io/python/ops/__init__.py:104: UserWarning: file system plugins are not loaded: unable to open file: libtensorflow_io.so, from paths: ['/opt/conda/lib/python3.10/site-packages/tensorflow_io/python/ops/libtensorflow_io.so']\n",
      "caused by: ['/opt/conda/lib/python3.10/site-packages/tensorflow_io/python/ops/libtensorflow_io.so: undefined symbol: _ZTVN10tensorflow13GcsFileSystemE']\n",
      "  warnings.warn(f\"file system plugins are not loaded: {e}\")\n"
     ]
    }
   ],
   "source": [
    "import tensorflow\n",
    "from keras.preprocessing.text import Tokenizer\n",
    "from tensorflow.keras.preprocessing.sequence import pad_sequences\n",
    "\n",
    "\n",
    "tokenizer = Tokenizer(num_words= vocabs, oov_token = \"<oov>\")\n",
    "tokenizer.fit_on_texts(train_sentences)\n",
    "word_index = tokenizer.word_index\n",
    "\n",
    "train_sequences = tokenizer.texts_to_sequences(train_sentences)\n",
    "train_pad = pad_sequences(train_sequences, maxlen = max_length)\n",
    "\n",
    "test_sequences = tokenizer.texts_to_sequences(test_sentences)\n",
    "test_pad = pad_sequences(test_sequences, maxlen = max_length)"
   ]
  },
  {
   "cell_type": "code",
   "execution_count": 19,
   "id": "029971fb",
   "metadata": {
    "execution": {
     "iopub.execute_input": "2023-08-31T04:24:29.890889Z",
     "iopub.status.busy": "2023-08-31T04:24:29.889426Z",
     "iopub.status.idle": "2023-08-31T04:24:33.492852Z",
     "shell.execute_reply": "2023-08-31T04:24:33.492096Z"
    },
    "papermill": {
     "duration": 3.630792,
     "end_time": "2023-08-31T04:24:33.507553",
     "exception": false,
     "start_time": "2023-08-31T04:24:29.876761",
     "status": "completed"
    },
    "tags": []
   },
   "outputs": [
    {
     "name": "stdout",
     "output_type": "stream",
     "text": [
      "Model: \"sequential\"\n",
      "_________________________________________________________________\n",
      " Layer (type)                Output Shape              Param #   \n",
      "=================================================================\n",
      " embedding (Embedding)       (None, 926, 100)          4000000   \n",
      "                                                                 \n",
      " lstm (LSTM)                 (None, 128)               117248    \n",
      "                                                                 \n",
      " dropout (Dropout)           (None, 128)               0         \n",
      "                                                                 \n",
      " flatten (Flatten)           (None, 128)               0         \n",
      "                                                                 \n",
      " dense (Dense)               (None, 128)               16512     \n",
      "                                                                 \n",
      " dense_1 (Dense)             (None, 1)                 129       \n",
      "                                                                 \n",
      "=================================================================\n",
      "Total params: 4,133,889\n",
      "Trainable params: 4,133,889\n",
      "Non-trainable params: 0\n",
      "_________________________________________________________________\n"
     ]
    }
   ],
   "source": [
    "from keras.layers import Dense, Embedding, Dropout, GlobalAveragePooling1D, BatchNormalization, LSTM, Flatten\n",
    "from keras import Sequential\n",
    "from keras.losses import BinaryCrossentropy\n",
    "from keras.optimizers import Adam\n",
    "from keras.activations import relu, sigmoid\n",
    "\n",
    "\n",
    "model = Sequential([\n",
    "    Embedding(input_dim = vocabs, output_dim= 100, input_length= max_length),\n",
    "    LSTM(128),\n",
    "    Dropout(0.5),\n",
    "    Flatten(),\n",
    "    Dense(units = 128, activation = relu),\n",
    "    Dense(units = 1, activation = sigmoid),\n",
    "])\n",
    "\n",
    "model.summary()"
   ]
  },
  {
   "cell_type": "code",
   "execution_count": 20,
   "id": "f36f733f",
   "metadata": {
    "execution": {
     "iopub.execute_input": "2023-08-31T04:24:33.538994Z",
     "iopub.status.busy": "2023-08-31T04:24:33.538645Z",
     "iopub.status.idle": "2023-08-31T04:24:33.740766Z",
     "shell.execute_reply": "2023-08-31T04:24:33.739730Z"
    },
    "papermill": {
     "duration": 0.22044,
     "end_time": "2023-08-31T04:24:33.743456",
     "exception": false,
     "start_time": "2023-08-31T04:24:33.523016",
     "status": "completed"
    },
    "tags": []
   },
   "outputs": [
    {
     "data": {
      "image/png": "[encoded data removed]",
      "text/plain": [
       "<IPython.core.display.Image object>"
      ]
     },
     "execution_count": 20,
     "metadata": {},
     "output_type": "execute_result"
    }
   ],
   "source": [
    "from keras.utils import plot_model\n",
    "plot_model(model)"
   ]
  },
  {
   "cell_type": "code",
   "execution_count": 21,
   "id": "08aca6f8",
   "metadata": {
    "execution": {
     "iopub.execute_input": "2023-08-31T04:24:33.772600Z",
     "iopub.status.busy": "2023-08-31T04:24:33.772267Z",
     "iopub.status.idle": "2023-08-31T04:24:33.790769Z",
     "shell.execute_reply": "2023-08-31T04:24:33.789767Z"
    },
    "papermill": {
     "duration": 0.036024,
     "end_time": "2023-08-31T04:24:33.793242",
     "exception": false,
     "start_time": "2023-08-31T04:24:33.757218",
     "status": "completed"
    },
    "tags": []
   },
   "outputs": [],
   "source": [
    "model.compile(\n",
    "    optimizer = Adam(),\n",
    "    loss = BinaryCrossentropy(),\n",
    "    metrics=[\"accuracy\"],\n",
    ")"
   ]
  },
  {
   "cell_type": "code",
   "execution_count": 22,
   "id": "089ed0ae",
   "metadata": {
    "execution": {
     "iopub.execute_input": "2023-08-31T04:24:33.821436Z",
     "iopub.status.busy": "2023-08-31T04:24:33.821103Z",
     "iopub.status.idle": "2023-08-31T04:29:02.039941Z",
     "shell.execute_reply": "2023-08-31T04:29:02.038829Z"
    },
    "papermill": {
     "duration": 268.236019,
     "end_time": "2023-08-31T04:29:02.042607",
     "exception": false,
     "start_time": "2023-08-31T04:24:33.806588",
     "status": "completed"
    },
    "tags": []
   },
   "outputs": [
    {
     "name": "stdout",
     "output_type": "stream",
     "text": [
      "Epoch 1/20\n",
      "782/782 [==============================] - 71s 84ms/step - loss: 0.3976 - accuracy: 0.8139 - val_loss: 0.3159 - val_accuracy: 0.8627\n",
      "Epoch 2/20\n",
      "782/782 [==============================] - 65s 84ms/step - loss: 0.1515 - accuracy: 0.9432 - val_loss: 0.3488 - val_accuracy: 0.8558\n",
      "Epoch 3/20\n",
      "782/782 [==============================] - 67s 86ms/step - loss: 0.0527 - accuracy: 0.9814 - val_loss: 0.5614 - val_accuracy: 0.8491\n",
      "Epoch 4/20\n",
      "782/782 [==============================] - 65s 83ms/step - loss: 0.0225 - accuracy: 0.9927 - val_loss: 0.6761 - val_accuracy: 0.8431\n",
      "Epoch 4: early stopping\n"
     ]
    }
   ],
   "source": [
    "from keras.callbacks import EarlyStopping\n",
    "early_stopping = EarlyStopping(monitor='val_loss', patience=3, mode='min', verbose=1)\n",
    "\n",
    "hist = model.fit(\n",
    "    train_pad, train_labels,\n",
    "    epochs = 20,\n",
    "    validation_data=(test_pad, test_labels),\n",
    "    batch_size=32,\n",
    "    callbacks=[early_stopping]\n",
    ")"
   ]
  },
  {
   "cell_type": "code",
   "execution_count": 23,
   "id": "141bfd3e",
   "metadata": {
    "execution": {
     "iopub.execute_input": "2023-08-31T04:29:02.694468Z",
     "iopub.status.busy": "2023-08-31T04:29:02.694076Z",
     "iopub.status.idle": "2023-08-31T04:29:58.606267Z",
     "shell.execute_reply": "2023-08-31T04:29:58.605088Z"
    },
    "papermill": {
     "duration": 56.52916,
     "end_time": "2023-08-31T04:29:58.875207",
     "exception": false,
     "start_time": "2023-08-31T04:29:02.346047",
     "status": "completed"
    },
    "tags": []
   },
   "outputs": [
    {
     "data": {
      "image/png": "[encoded data removed]",
      "text/plain": [
       "<Figure size 1000x600 with 2 Axes>"
      ]
     },
     "metadata": {},
     "output_type": "display_data"
    }
   ],
   "source": [
    "plt.figure(figsize=[10, 6])\n",
    "\n",
    "plt.subplot(2,1,1)\n",
    "plt.plot(hist.history[\"loss\"], label=\"Loss\",)\n",
    "plt.plot(hist.history[\"val_loss\"], label=\"Val Loss\")\n",
    "plt.title(\"Loss vs Val Loss\")\n",
    "plt.legend()\n",
    "\n",
    "plt.subplot(2,1,2)\n",
    "plt.plot(hist.history[\"accuracy\"], label=\"Accuracy\")\n",
    "plt.plot(hist.history[\"val_accuracy\"], label=\"Val Accuracy\")\n",
    "plt.title(\"Accuracy vs Val Accuracy\")\n",
    "plt.legend()\n",
    "\n",
    "plt.tight_layout()\n",
    "plt.show()\n"
   ]
  }
 ],
 "kernelspec": {
  "display_name": "Python 3",
  "language": "python",
  "name": "python3"
 },
 "language_info": {
  "codemirror_mode": {
   "name": "ipython",
   "version": 3
  },
  "file_extension": ".py",
  "mimetype": "text/x-python",
  "name": "python",
  "nbconvert_exporter": "python",
  "pygments_lexer": "ipython3",
  "version": "3.6.4"
 },
 "metadata": {
  "kernelspec": {
   "display_name": "Python 3",
   "language": "python",
   "name": "python3"
  },
  "language_info": {
   "codemirror_mode": {
    "name": "ipython",
    "version": 3
   },
   "file_extension": ".py",
   "mimetype": "text/x-python",
   "name": "python",
   "nbconvert_exporter": "python",
   "pygments_lexer": "ipython3",
   "version": "3.10.12"
  },
  "papermill": {
   "default_parameters": {},
   "duration": 356.762131,
   "end_time": "2023-08-31T04:30:02.502260",
   "environment_variables": {},
   "exception": null,
   "input_path": "__notebook__.ipynb",
   "output_path": "__notebook__.ipynb",
   "parameters": {},
   "start_time": "2023-08-31T04:24:05.740129",
   "version": "2.4.0"
  }
 },
 "nbformat": 4,
 "nbformat_minor": 5
}
